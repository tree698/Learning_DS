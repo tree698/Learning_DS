{
  "nbformat": 4,
  "nbformat_minor": 0,
  "metadata": {
    "colab": {
      "provenance": []
    },
    "kernelspec": {
      "name": "python3",
      "display_name": "Python 3"
    },
    "language_info": {
      "name": "python"
    }
  },
  "cells": [
    {
      "cell_type": "code",
      "execution_count": 1,
      "metadata": {
        "id": "P8z7Q-Ap215k"
      },
      "outputs": [],
      "source": [
        "import numpy as np\n",
        "from google.colab import drive\n",
        "from tensorflow.keras.preprocessing.image import ImageDataGenerator\n",
        "from tensorflow.keras.models import Sequential\n",
        "from tensorflow.keras.layers import Conv2D, MaxPooling2D, Dropout, Flatten, Dense\n",
        "from tensorflow.keras.callbacks import EarlyStopping"
      ]
    },
    {
      "cell_type": "code",
      "source": [
        "drive.mount('/content/drive')"
      ],
      "metadata": {
        "colab": {
          "base_uri": "https://localhost:8080/"
        },
        "id": "Wh4yphZr250v",
        "outputId": "256bd3fd-94fa-49e1-bb69-972d62090818"
      },
      "execution_count": 2,
      "outputs": [
        {
          "output_type": "stream",
          "name": "stdout",
          "text": [
            "Mounted at /content/drive\n"
          ]
        }
      ]
    },
    {
      "cell_type": "markdown",
      "source": [
        "# (데이터 출처: 캐글)\n",
        "- 링크: [Rock Paper Scissors Dataset](https://www.kaggle.com/datasets/sanikamal/rock-paper-scissors-dataset)\n",
        "- train 데이터 2,520개, test 데이터 372개\n",
        "- 원본 이미지 크기는 300x300이나 연산 수행 소요시간 및 메모리 관리를 위해 150x150로 축소\n",
        "- 원본 이미지는 RGBA의 4채널이나, 연산 수행 소요시간 및 메모리 관리를 위해 RGB 3채널로 축소"
      ],
      "metadata": {
        "id": "0SPJJPksIYp3"
      }
    },
    {
      "cell_type": "code",
      "source": [
        "# 데이터 경로 설정\n",
        "train_dir = \"/content/drive/My Drive/rock_scissors_paper/train\"\n",
        "test_dir = \"/content/drive/My Drive/rock_scissors_paper/test\""
      ],
      "metadata": {
        "id": "0BrGE_06Rf0u"
      },
      "execution_count": 3,
      "outputs": []
    },
    {
      "cell_type": "markdown",
      "source": [
        "# 1. 학습 데이터에 대한 데이터 증강"
      ],
      "metadata": {
        "id": "oIRdVDnzYNk0"
      }
    },
    {
      "cell_type": "markdown",
      "source": [
        "- 이미지를 회전, 이동, 확대/축소 등의 방법으로 변형하여 데이터를 증강\n",
        "- validation_split=0.2는 학습 데이터의 20%를 검증 데이터로 사용한다는 의미\n",
        "- ImageDataGenerator는 배치 단위로 데이터를 로드하므로, 메모리 사용량을 크게 줄일 수 있음\n",
        "- 노드에 제시된 load_data()를 사용하다 메모리 부족으로 진행하지 못하여, 배치 단위로 데이터를 로드함"
      ],
      "metadata": {
        "id": "9vWJ5lZpYSRn"
      }
    },
    {
      "cell_type": "code",
      "source": [
        "# 데이터 증강 및 로딩\n",
        "train_datagen = ImageDataGenerator(\n",
        "    rescale=1./255,\n",
        "    rotation_range=40,\n",
        "    width_shift_range=0.3,\n",
        "    height_shift_range=0.3,\n",
        "    shear_range=0.3,\n",
        "    zoom_range=0.3,\n",
        "    horizontal_flip=True,\n",
        "    vertical_flip=True,\n",
        "    fill_mode='nearest',\n",
        "    validation_split=0.2  # 검증 데이터 분리\n",
        ")\n",
        "\n",
        "# 테스트 데이터에 대한 전처리 설정, 픽셀값을 0~1 사이로 조정(정규화 과정))\n",
        "test_datagen = ImageDataGenerator(rescale=1./255)\n",
        "\n",
        "# 학습 데이터를 로드하는 제너레이터\n",
        "# 이미지 크기를 150x150으로 조정하고, 배치 크기는 32로 설정\n",
        "train_generator = train_datagen.flow_from_directory(\n",
        "    train_dir,\n",
        "    target_size=(150, 150),\n",
        "    batch_size=32,\n",
        "    class_mode='sparse',\n",
        "    subset='training'\n",
        ")\n",
        "\n",
        "# 검증 데이터를 로드하는 제너레이터\n",
        "validation_generator = train_datagen.flow_from_directory(\n",
        "    train_dir,\n",
        "    target_size=(150, 150),\n",
        "    batch_size=32,\n",
        "    class_mode='sparse',\n",
        "    subset='validation'\n",
        ")\n",
        "\n",
        "# 테스트 데이터를 로드하는 제너레이터\n",
        "test_generator = test_datagen.flow_from_directory(\n",
        "    test_dir,\n",
        "    target_size=(150, 150),\n",
        "    batch_size=32,\n",
        "    class_mode='sparse'\n",
        ")"
      ],
      "metadata": {
        "colab": {
          "base_uri": "https://localhost:8080/"
        },
        "id": "1K7aEGXqRfx7",
        "outputId": "17488b3d-5a3a-4a76-ab97-028084934941"
      },
      "execution_count": 4,
      "outputs": [
        {
          "output_type": "stream",
          "name": "stdout",
          "text": [
            "Found 2016 images belonging to 3 classes.\n",
            "Found 504 images belonging to 3 classes.\n",
            "Found 372 images belonging to 3 classes.\n"
          ]
        }
      ]
    },
    {
      "cell_type": "markdown",
      "source": [
        "# 2. 모델 정의"
      ],
      "metadata": {
        "id": "EEaqAjEcYyto"
      }
    },
    {
      "cell_type": "code",
      "source": [
        "- 신경망 층을 3개로 늘림\n",
        "- 과적합을 피하기 위해 Dropout()을 삽입\n",
        "- MaxPooling2D()를 삽입"
      ],
      "metadata": {
        "id": "vq5dPzA6nNHe"
      },
      "execution_count": null,
      "outputs": []
    },
    {
      "cell_type": "code",
      "source": [
        "n_channel_1 = 32\n",
        "n_channel_2 = 64\n",
        "n_channel_3 = 128\n",
        "n_dense = 512\n",
        "num_classes = 3\n",
        "\n",
        "model = Sequential([\n",
        "    Conv2D(n_channel_1, (3, 3), activation='relu', input_shape=(150, 150, 3)),\n",
        "    MaxPooling2D(2, 2),\n",
        "    Dropout(0.25),\n",
        "    Conv2D(n_channel_2, (3, 3), activation='relu'),\n",
        "    MaxPooling2D(2, 2),\n",
        "    Dropout(0.25),\n",
        "    Conv2D(64, (3, 3), activation='relu'),\n",
        "    MaxPooling2D(2, 2),\n",
        "    Dropout(0.25),\n",
        "    Flatten(),\n",
        "    Dense(n_dense, activation='relu'),\n",
        "    Dropout(0.5),\n",
        "    Dense(num_classes, activation='softmax')\n",
        "])\n"
      ],
      "metadata": {
        "colab": {
          "base_uri": "https://localhost:8080/"
        },
        "id": "bhpxo699RfuS",
        "outputId": "2ee6c6d3-1ef9-4221-b2b2-7b84cc3cbc33"
      },
      "execution_count": 5,
      "outputs": [
        {
          "output_type": "stream",
          "name": "stderr",
          "text": [
            "/usr/local/lib/python3.10/dist-packages/keras/src/layers/convolutional/base_conv.py:107: UserWarning: Do not pass an `input_shape`/`input_dim` argument to a layer. When using Sequential models, prefer using an `Input(shape)` object as the first layer in the model instead.\n",
            "  super().__init__(activity_regularizer=activity_regularizer, **kwargs)\n"
          ]
        }
      ]
    },
    {
      "cell_type": "code",
      "source": [
        "# 모델 컴파일, 옵티마이저, 손실 함수, 평가 지표를 지정\n",
        "model.compile(optimizer='adam', loss='sparse_categorical_crossentropy', metrics=['accuracy'])"
      ],
      "metadata": {
        "id": "jbnUpiBcRfrY"
      },
      "execution_count": 6,
      "outputs": []
    },
    {
      "cell_type": "markdown",
      "source": [
        "# 3. 모델 학습"
      ],
      "metadata": {
        "id": "mUkL_7MSY_Cj"
      }
    },
    {
      "cell_type": "code",
      "source": [
        "n_train_epoch = 20\n",
        "\n",
        "# 조기 종료(Early Stopping) 콜백을 설정\n",
        "early_stopping = EarlyStopping(monitor='val_loss', patience=6, restore_best_weights=True)\n",
        "history = model.fit(\n",
        "    train_generator,\n",
        "    epochs=n_train_epoch,\n",
        "    validation_data=validation_generator,\n",
        "    callbacks=[early_stopping]\n",
        ")"
      ],
      "metadata": {
        "colab": {
          "base_uri": "https://localhost:8080/"
        },
        "id": "U_DNCxQ-RfoP",
        "outputId": "f66e27aa-673d-4012-984e-2aaa76758879"
      },
      "execution_count": 7,
      "outputs": [
        {
          "output_type": "stream",
          "name": "stdout",
          "text": [
            "Epoch 1/20\n"
          ]
        },
        {
          "output_type": "stream",
          "name": "stderr",
          "text": [
            "/usr/local/lib/python3.10/dist-packages/keras/src/trainers/data_adapters/py_dataset_adapter.py:121: UserWarning: Your `PyDataset` class should call `super().__init__(**kwargs)` in its constructor. `**kwargs` can include `workers`, `use_multiprocessing`, `max_queue_size`. Do not pass these arguments to `fit()`, as they will be ignored.\n",
            "  self._warn_if_super_not_called()\n"
          ]
        },
        {
          "output_type": "stream",
          "name": "stdout",
          "text": [
            "\u001b[1m63/63\u001b[0m \u001b[32m━━━━━━━━━━━━━━━━━━━━\u001b[0m\u001b[37m\u001b[0m \u001b[1m1060s\u001b[0m 16s/step - accuracy: 0.3319 - loss: 2.2325 - val_accuracy: 0.3333 - val_loss: 1.0987\n",
            "Epoch 2/20\n",
            "\u001b[1m63/63\u001b[0m \u001b[32m━━━━━━━━━━━━━━━━━━━━\u001b[0m\u001b[37m\u001b[0m \u001b[1m174s\u001b[0m 2s/step - accuracy: 0.3170 - loss: 1.0991 - val_accuracy: 0.3333 - val_loss: 1.0986\n",
            "Epoch 3/20\n",
            "\u001b[1m63/63\u001b[0m \u001b[32m━━━━━━━━━━━━━━━━━━━━\u001b[0m\u001b[37m\u001b[0m \u001b[1m127s\u001b[0m 2s/step - accuracy: 0.3414 - loss: 1.0987 - val_accuracy: 0.3333 - val_loss: 1.0986\n",
            "Epoch 4/20\n",
            "\u001b[1m63/63\u001b[0m \u001b[32m━━━━━━━━━━━━━━━━━━━━\u001b[0m\u001b[37m\u001b[0m \u001b[1m143s\u001b[0m 2s/step - accuracy: 0.3418 - loss: 1.0986 - val_accuracy: 0.3353 - val_loss: 1.0987\n",
            "Epoch 5/20\n",
            "\u001b[1m63/63\u001b[0m \u001b[32m━━━━━━━━━━━━━━━━━━━━\u001b[0m\u001b[37m\u001b[0m \u001b[1m148s\u001b[0m 2s/step - accuracy: 0.3625 - loss: 1.0964 - val_accuracy: 0.3393 - val_loss: 1.0998\n",
            "Epoch 6/20\n",
            "\u001b[1m63/63\u001b[0m \u001b[32m━━━━━━━━━━━━━━━━━━━━\u001b[0m\u001b[37m\u001b[0m \u001b[1m133s\u001b[0m 2s/step - accuracy: 0.3434 - loss: 1.0981 - val_accuracy: 0.3353 - val_loss: 1.0987\n",
            "Epoch 7/20\n",
            "\u001b[1m63/63\u001b[0m \u001b[32m━━━━━━━━━━━━━━━━━━━━\u001b[0m\u001b[37m\u001b[0m \u001b[1m128s\u001b[0m 2s/step - accuracy: 0.3361 - loss: 1.0986 - val_accuracy: 0.3512 - val_loss: 1.0998\n",
            "Epoch 8/20\n",
            "\u001b[1m63/63\u001b[0m \u001b[32m━━━━━━━━━━━━━━━━━━━━\u001b[0m\u001b[37m\u001b[0m \u001b[1m130s\u001b[0m 2s/step - accuracy: 0.3299 - loss: 1.1004 - val_accuracy: 0.4643 - val_loss: 1.0872\n",
            "Epoch 9/20\n",
            "\u001b[1m63/63\u001b[0m \u001b[32m━━━━━━━━━━━━━━━━━━━━\u001b[0m\u001b[37m\u001b[0m \u001b[1m139s\u001b[0m 2s/step - accuracy: 0.3758 - loss: 1.0880 - val_accuracy: 0.3433 - val_loss: 1.0823\n",
            "Epoch 10/20\n",
            "\u001b[1m63/63\u001b[0m \u001b[32m━━━━━━━━━━━━━━━━━━━━\u001b[0m\u001b[37m\u001b[0m \u001b[1m128s\u001b[0m 2s/step - accuracy: 0.4247 - loss: 1.0663 - val_accuracy: 0.4722 - val_loss: 1.0270\n",
            "Epoch 11/20\n",
            "\u001b[1m63/63\u001b[0m \u001b[32m━━━━━━━━━━━━━━━━━━━━\u001b[0m\u001b[37m\u001b[0m \u001b[1m127s\u001b[0m 2s/step - accuracy: 0.4505 - loss: 1.0340 - val_accuracy: 0.4583 - val_loss: 1.0722\n",
            "Epoch 12/20\n",
            "\u001b[1m63/63\u001b[0m \u001b[32m━━━━━━━━━━━━━━━━━━━━\u001b[0m\u001b[37m\u001b[0m \u001b[1m126s\u001b[0m 2s/step - accuracy: 0.4380 - loss: 1.0464 - val_accuracy: 0.4901 - val_loss: 0.9813\n",
            "Epoch 13/20\n",
            "\u001b[1m63/63\u001b[0m \u001b[32m━━━━━━━━━━━━━━━━━━━━\u001b[0m\u001b[37m\u001b[0m \u001b[1m128s\u001b[0m 2s/step - accuracy: 0.4984 - loss: 0.9946 - val_accuracy: 0.3333 - val_loss: 1.1223\n",
            "Epoch 14/20\n",
            "\u001b[1m63/63\u001b[0m \u001b[32m━━━━━━━━━━━━━━━━━━━━\u001b[0m\u001b[37m\u001b[0m \u001b[1m141s\u001b[0m 2s/step - accuracy: 0.3994 - loss: 1.0763 - val_accuracy: 0.3948 - val_loss: 1.0735\n",
            "Epoch 15/20\n",
            "\u001b[1m63/63\u001b[0m \u001b[32m━━━━━━━━━━━━━━━━━━━━\u001b[0m\u001b[37m\u001b[0m \u001b[1m130s\u001b[0m 2s/step - accuracy: 0.4697 - loss: 0.9647 - val_accuracy: 0.5198 - val_loss: 0.9781\n",
            "Epoch 16/20\n",
            "\u001b[1m63/63\u001b[0m \u001b[32m━━━━━━━━━━━━━━━━━━━━\u001b[0m\u001b[37m\u001b[0m \u001b[1m139s\u001b[0m 2s/step - accuracy: 0.6000 - loss: 0.8350 - val_accuracy: 0.6012 - val_loss: 0.9501\n",
            "Epoch 17/20\n",
            "\u001b[1m63/63\u001b[0m \u001b[32m━━━━━━━━━━━━━━━━━━━━\u001b[0m\u001b[37m\u001b[0m \u001b[1m133s\u001b[0m 2s/step - accuracy: 0.6544 - loss: 0.7614 - val_accuracy: 0.5635 - val_loss: 1.0069\n",
            "Epoch 18/20\n",
            "\u001b[1m63/63\u001b[0m \u001b[32m━━━━━━━━━━━━━━━━━━━━\u001b[0m\u001b[37m\u001b[0m \u001b[1m142s\u001b[0m 2s/step - accuracy: 0.7073 - loss: 0.6566 - val_accuracy: 0.6052 - val_loss: 0.9456\n",
            "Epoch 19/20\n",
            "\u001b[1m63/63\u001b[0m \u001b[32m━━━━━━━━━━━━━━━━━━━━\u001b[0m\u001b[37m\u001b[0m \u001b[1m138s\u001b[0m 2s/step - accuracy: 0.7620 - loss: 0.5979 - val_accuracy: 0.4881 - val_loss: 1.0239\n",
            "Epoch 20/20\n",
            "\u001b[1m63/63\u001b[0m \u001b[32m━━━━━━━━━━━━━━━━━━━━\u001b[0m\u001b[37m\u001b[0m \u001b[1m135s\u001b[0m 2s/step - accuracy: 0.7301 - loss: 0.6200 - val_accuracy: 0.5774 - val_loss: 1.2393\n"
          ]
        }
      ]
    },
    {
      "cell_type": "markdown",
      "source": [
        "# 4. 성능 평가"
      ],
      "metadata": {
        "id": "u8l_323lZXUF"
      }
    },
    {
      "cell_type": "code",
      "source": [
        "test_loss, test_accuracy = model.evaluate(test_generator, verbose=2)\n",
        "print(f\"Test Loss: {test_loss:.4f}\")\n",
        "print(f\"Test Accuracy: {test_accuracy:.4f}\")"
      ],
      "metadata": {
        "colab": {
          "base_uri": "https://localhost:8080/"
        },
        "id": "5CHLD_sgRflg",
        "outputId": "5ae5bf7a-38d4-48c0-8696-690cb1c7dcf2"
      },
      "execution_count": 8,
      "outputs": [
        {
          "output_type": "stream",
          "name": "stdout",
          "text": [
            "12/12 - 196s - 16s/step - accuracy: 0.9355 - loss: 0.3523\n",
            "Test Loss: 0.3523\n",
            "Test Accuracy: 0.9355\n"
          ]
        }
      ]
    },
    {
      "cell_type": "markdown",
      "source": [
        "# (회고)\n",
        "- 과적합과 과소적합의 판별은 이해하여, 이를 피하기 위한 노력은 하였음\n",
        "- 이미지 데이터의 전처리, CNN, NN 등에 대한 학습이 필요함\n",
        "- 이미지 데이터의 정규화 부분에서 테스트 데이터까지 정규화하여 에러가 발생하였으나 곧 해결함\n",
        "- 연산 수행 시간이 과도하게 소요되어, 이에 대한 적절한 대응이 필요함을 느낌"
      ],
      "metadata": {
        "id": "C8pYrEhbgw8r"
      }
    },
    {
      "cell_type": "code",
      "source": [],
      "metadata": {
        "id": "bTShr-vJiAcj"
      },
      "execution_count": null,
      "outputs": []
    }
  ]
}