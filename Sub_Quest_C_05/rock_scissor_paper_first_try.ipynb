{
  "nbformat": 4,
  "nbformat_minor": 0,
  "metadata": {
    "colab": {
      "provenance": []
    },
    "kernelspec": {
      "name": "python3",
      "display_name": "Python 3"
    },
    "language_info": {
      "name": "python"
    }
  },
  "cells": [
    {
      "cell_type": "code",
      "execution_count": 10,
      "metadata": {
        "id": "P8z7Q-Ap215k"
      },
      "outputs": [],
      "source": [
        "import numpy as np\n",
        "from google.colab import drive\n",
        "from tensorflow.keras.preprocessing.image import ImageDataGenerator\n",
        "from tensorflow.keras.models import Sequential\n",
        "from tensorflow.keras.layers import Conv2D, MaxPooling2D, Dropout, Flatten, Dense\n",
        "from tensorflow.keras.callbacks import EarlyStopping"
      ]
    },
    {
      "cell_type": "code",
      "source": [
        "drive.mount('/content/drive')"
      ],
      "metadata": {
        "colab": {
          "base_uri": "https://localhost:8080/"
        },
        "id": "Wh4yphZr250v",
        "outputId": "8e88c82b-e380-42ae-c70f-8ab07bebf46b"
      },
      "execution_count": 11,
      "outputs": [
        {
          "output_type": "stream",
          "name": "stdout",
          "text": [
            "Drive already mounted at /content/drive; to attempt to forcibly remount, call drive.mount(\"/content/drive\", force_remount=True).\n"
          ]
        }
      ]
    },
    {
      "cell_type": "markdown",
      "source": [
        "# (데이터 출처: 캐글)\n",
        "- 링크: [Rock Paper Scissors Dataset](https://www.kaggle.com/datasets/sanikamal/rock-paper-scissors-dataset)\n",
        "- train 데이터 2,520개, test 데이터 372개\n",
        "- 원본 이미지 크기는 300x300이나 연산 수행 소요시간 및 메모리 관리를 위해 150x150로 축소\n",
        "- 원본 이미지는 RGBA의 4채널이나, 연산 수행 소요시간 및 메모리 관리를 위해 RGB 3채널로 축소"
      ],
      "metadata": {
        "id": "0SPJJPksIYp3"
      }
    },
    {
      "cell_type": "code",
      "source": [
        "# 데이터 경로 설정\n",
        "train_dir = \"/content/drive/My Drive/rock_scissors_paper/train\"\n",
        "test_dir = \"/content/drive/My Drive/rock_scissors_paper/test\""
      ],
      "metadata": {
        "id": "0BrGE_06Rf0u"
      },
      "execution_count": 12,
      "outputs": []
    },
    {
      "cell_type": "markdown",
      "source": [
        "# 1. 학습 데이터에 대한 데이터 증강"
      ],
      "metadata": {
        "id": "oIRdVDnzYNk0"
      }
    },
    {
      "cell_type": "markdown",
      "source": [
        "- 이미지를 회전, 이동, 확대/축소 등의 방법으로 변형하여 데이터를 증강\n",
        "- validation_split=0.2는 학습 데이터의 20%를 검증 데이터로 사용한다는 의미"
      ],
      "metadata": {
        "id": "9vWJ5lZpYSRn"
      }
    },
    {
      "cell_type": "code",
      "source": [
        "# 데이터 증강 및 로딩\n",
        "train_datagen = ImageDataGenerator(\n",
        "    rescale=1./255,\n",
        "    rotation_range=40,\n",
        "    width_shift_range=0.3,\n",
        "    height_shift_range=0.3,\n",
        "    shear_range=0.3,\n",
        "    zoom_range=0.3,\n",
        "    horizontal_flip=True,\n",
        "    vertical_flip=True,\n",
        "    fill_mode='nearest',\n",
        "    validation_split=0.2  # 검증 데이터 분리\n",
        ")\n",
        "\n",
        "# 테스트 데이터에 대한 전처리 설정, 픽셀값을 0~1 사이로 조정(정규화 과정)\n",
        "test_datagen = ImageDataGenerator(rescale=1./255)\n",
        "\n",
        "# 학습 데이터를 로드하는 제너레이터\n",
        "# 이미지 크기를 150x150으로 조정하고, 배치 크기는 32로 설정\n",
        "train_generator = train_datagen.flow_from_directory(\n",
        "    train_dir,\n",
        "    target_size=(150, 150),\n",
        "    batch_size=32,\n",
        "    class_mode='sparse',\n",
        "    subset='training'\n",
        ")\n",
        "\n",
        "# 검증 데이터를 로드하는 제너레이터\n",
        "validation_generator = train_datagen.flow_from_directory(\n",
        "    train_dir,\n",
        "    target_size=(150, 150),\n",
        "    batch_size=32,\n",
        "    class_mode='sparse',\n",
        "    subset='validation'\n",
        ")\n",
        "\n",
        "# 테스트 데이터를 로드하는 제너레이터\n",
        "test_generator = test_datagen.flow_from_directory(\n",
        "    test_dir,\n",
        "    target_size=(150, 150),\n",
        "    batch_size=32,\n",
        "    class_mode='sparse'\n",
        ")"
      ],
      "metadata": {
        "colab": {
          "base_uri": "https://localhost:8080/"
        },
        "id": "1K7aEGXqRfx7",
        "outputId": "e1159837-eba8-40ca-bd60-734dfa84d83c"
      },
      "execution_count": 13,
      "outputs": [
        {
          "output_type": "stream",
          "name": "stdout",
          "text": [
            "Found 2016 images belonging to 3 classes.\n",
            "Found 504 images belonging to 3 classes.\n",
            "Found 372 images belonging to 3 classes.\n"
          ]
        }
      ]
    },
    {
      "cell_type": "markdown",
      "source": [
        "# 2. 모델 정의"
      ],
      "metadata": {
        "id": "EEaqAjEcYyto"
      }
    },
    {
      "cell_type": "code",
      "source": [
        "n_channel_1 = 16\n",
        "n_channel_2 = 32\n",
        "n_channel_3 = 64\n",
        "n_dense = 32\n",
        "num_classes = 3\n",
        "\n",
        "model = Sequential([\n",
        "    Conv2D(n_channel_1, (3, 3), activation='relu', input_shape=(150, 150, 3)),\n",
        "    MaxPooling2D(2, 2),\n",
        "    Dropout(0.25),\n",
        "    Conv2D(n_channel_2, (3, 3), activation='relu'),\n",
        "    MaxPooling2D(2, 2),\n",
        "    Dropout(0.25),\n",
        "    Conv2D(64, (3, 3), activation='relu'),\n",
        "    MaxPooling2D(2, 2),\n",
        "    Dropout(0.25),\n",
        "    Flatten(),\n",
        "    Dense(n_dense, activation='relu'),\n",
        "    Dropout(0.5),\n",
        "    Dense(num_classes, activation='softmax')\n",
        "])\n"
      ],
      "metadata": {
        "colab": {
          "base_uri": "https://localhost:8080/"
        },
        "id": "bhpxo699RfuS",
        "outputId": "938cec31-2764-408a-8146-8110bfbc4d59"
      },
      "execution_count": 14,
      "outputs": [
        {
          "output_type": "stream",
          "name": "stderr",
          "text": [
            "/usr/local/lib/python3.10/dist-packages/keras/src/layers/convolutional/base_conv.py:107: UserWarning: Do not pass an `input_shape`/`input_dim` argument to a layer. When using Sequential models, prefer using an `Input(shape)` object as the first layer in the model instead.\n",
            "  super().__init__(activity_regularizer=activity_regularizer, **kwargs)\n"
          ]
        }
      ]
    },
    {
      "cell_type": "code",
      "source": [
        "# 모델 컴파일, 옵티마이저, 손실 함수, 평가 지표를 지정\n",
        "model.compile(optimizer='adam', loss='sparse_categorical_crossentropy', metrics=['accuracy'])"
      ],
      "metadata": {
        "id": "jbnUpiBcRfrY"
      },
      "execution_count": 15,
      "outputs": []
    },
    {
      "cell_type": "markdown",
      "source": [
        "# 3. 모델 학습"
      ],
      "metadata": {
        "id": "mUkL_7MSY_Cj"
      }
    },
    {
      "cell_type": "code",
      "source": [
        "n_train_epoch = 20\n",
        "\n",
        "# 조기 종료(Early Stopping) 콜백을 설정\n",
        "early_stopping = EarlyStopping(monitor='val_loss', patience=10, restore_best_weights=True)\n",
        "history = model.fit(\n",
        "    train_generator,\n",
        "    epochs=n_train_epoch,\n",
        "    validation_data=validation_generator,\n",
        "    callbacks=[early_stopping]\n",
        ")"
      ],
      "metadata": {
        "colab": {
          "base_uri": "https://localhost:8080/"
        },
        "id": "U_DNCxQ-RfoP",
        "outputId": "38a8d9bd-7c79-49aa-9b89-0c137daf5a5c"
      },
      "execution_count": 16,
      "outputs": [
        {
          "output_type": "stream",
          "name": "stdout",
          "text": [
            "Epoch 1/20\n",
            "\u001b[1m63/63\u001b[0m \u001b[32m━━━━━━━━━━━━━━━━━━━━\u001b[0m\u001b[37m\u001b[0m \u001b[1m85s\u001b[0m 1s/step - accuracy: 0.3250 - loss: 1.3649 - val_accuracy: 0.3333 - val_loss: 1.0986\n",
            "Epoch 2/20\n",
            "\u001b[1m63/63\u001b[0m \u001b[32m━━━━━━━━━━━━━━━━━━━━\u001b[0m\u001b[37m\u001b[0m \u001b[1m138s\u001b[0m 1s/step - accuracy: 0.3513 - loss: 1.0986 - val_accuracy: 0.3333 - val_loss: 1.0985\n",
            "Epoch 3/20\n",
            "\u001b[1m63/63\u001b[0m \u001b[32m━━━━━━━━━━━━━━━━━━━━\u001b[0m\u001b[37m\u001b[0m \u001b[1m82s\u001b[0m 1s/step - accuracy: 0.3318 - loss: 1.0991 - val_accuracy: 0.3333 - val_loss: 1.0986\n",
            "Epoch 4/20\n",
            "\u001b[1m63/63\u001b[0m \u001b[32m━━━━━━━━━━━━━━━━━━━━\u001b[0m\u001b[37m\u001b[0m \u001b[1m79s\u001b[0m 1s/step - accuracy: 0.3295 - loss: 1.0987 - val_accuracy: 0.3333 - val_loss: 1.0986\n",
            "Epoch 5/20\n",
            "\u001b[1m63/63\u001b[0m \u001b[32m━━━━━━━━━━━━━━━━━━━━\u001b[0m\u001b[37m\u001b[0m \u001b[1m82s\u001b[0m 1s/step - accuracy: 0.3242 - loss: 1.0986 - val_accuracy: 0.3333 - val_loss: 1.0986\n",
            "Epoch 6/20\n",
            "\u001b[1m63/63\u001b[0m \u001b[32m━━━━━━━━━━━━━━━━━━━━\u001b[0m\u001b[37m\u001b[0m \u001b[1m81s\u001b[0m 1s/step - accuracy: 0.3203 - loss: 1.0986 - val_accuracy: 0.3333 - val_loss: 1.0986\n",
            "Epoch 7/20\n",
            "\u001b[1m63/63\u001b[0m \u001b[32m━━━━━━━━━━━━━━━━━━━━\u001b[0m\u001b[37m\u001b[0m \u001b[1m82s\u001b[0m 1s/step - accuracy: 0.3311 - loss: 1.0987 - val_accuracy: 0.3333 - val_loss: 1.0986\n",
            "Epoch 8/20\n",
            "\u001b[1m63/63\u001b[0m \u001b[32m━━━━━━━━━━━━━━━━━━━━\u001b[0m\u001b[37m\u001b[0m \u001b[1m139s\u001b[0m 1s/step - accuracy: 0.3241 - loss: 1.0986 - val_accuracy: 0.3333 - val_loss: 1.0986\n",
            "Epoch 9/20\n",
            "\u001b[1m63/63\u001b[0m \u001b[32m━━━━━━━━━━━━━━━━━━━━\u001b[0m\u001b[37m\u001b[0m \u001b[1m79s\u001b[0m 1s/step - accuracy: 0.3361 - loss: 1.0986 - val_accuracy: 0.3591 - val_loss: 1.0986\n",
            "Epoch 10/20\n",
            "\u001b[1m63/63\u001b[0m \u001b[32m━━━━━━━━━━━━━━━━━━━━\u001b[0m\u001b[37m\u001b[0m \u001b[1m82s\u001b[0m 1s/step - accuracy: 0.3277 - loss: 1.0987 - val_accuracy: 0.3433 - val_loss: 1.0986\n",
            "Epoch 11/20\n",
            "\u001b[1m63/63\u001b[0m \u001b[32m━━━━━━━━━━━━━━━━━━━━\u001b[0m\u001b[37m\u001b[0m \u001b[1m78s\u001b[0m 1s/step - accuracy: 0.3357 - loss: 1.0986 - val_accuracy: 0.3274 - val_loss: 1.0985\n",
            "Epoch 12/20\n",
            "\u001b[1m63/63\u001b[0m \u001b[32m━━━━━━━━━━━━━━━━━━━━\u001b[0m\u001b[37m\u001b[0m \u001b[1m80s\u001b[0m 1s/step - accuracy: 0.3311 - loss: 1.0990 - val_accuracy: 0.3333 - val_loss: 1.0986\n"
          ]
        }
      ]
    },
    {
      "cell_type": "markdown",
      "source": [
        "# 4. 성능 평가"
      ],
      "metadata": {
        "id": "u8l_323lZXUF"
      }
    },
    {
      "cell_type": "code",
      "source": [
        "test_loss, test_accuracy = model.evaluate(test_generator, verbose=2)\n",
        "print(f\"Test Loss: {test_loss:.4f}\")\n",
        "print(f\"Test Accuracy: {test_accuracy:.4f}\")"
      ],
      "metadata": {
        "colab": {
          "base_uri": "https://localhost:8080/"
        },
        "id": "5CHLD_sgRflg",
        "outputId": "cbd06f19-0a65-4b11-f0df-e65803d47e64"
      },
      "execution_count": 17,
      "outputs": [
        {
          "output_type": "stream",
          "name": "stdout",
          "text": [
            "12/12 - 61s - 5s/step - accuracy: 0.3333 - loss: 1.0985\n",
            "Test Loss: 1.0985\n",
            "Test Accuracy: 0.3333\n"
          ]
        }
      ]
    }
  ]
}