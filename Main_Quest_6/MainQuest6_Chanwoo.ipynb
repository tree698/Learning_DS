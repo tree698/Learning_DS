{
  "nbformat": 4,
  "nbformat_minor": 0,
  "metadata": {
    "colab": {
      "provenance": []
    },
    "kernelspec": {
      "name": "python3",
      "display_name": "Python 3"
    },
    "language_info": {
      "name": "python"
    }
  },
  "cells": [
    {
      "cell_type": "code",
      "source": [
        "import pandas as pd\n",
        "import numpy as np\n",
        "import matplotlib.pyplot as plt\n",
        "import seaborn as sns"
      ],
      "metadata": {
        "id": "0fq_tc1K-GSO"
      },
      "execution_count": 1,
      "outputs": []
    },
    {
      "cell_type": "code",
      "source": [
        "# !pip install koreanize-matplotlib\n",
        "# import koreanize_matplotlib\n",
        "\n",
        "# %config InlineBackend.figure_format = 'retina'"
      ],
      "metadata": {
        "id": "Hxa06lg7-FAX"
      },
      "execution_count": 2,
      "outputs": []
    },
    {
      "cell_type": "code",
      "source": [
        "df = pd.read_parquet(\"https://github.com/corazzon/KaggleStruggle/raw/master/online-retail/data/online_retail.gzip\")\n",
        "df.shape"
      ],
      "metadata": {
        "id": "oItbCHlY-IbX",
        "colab": {
          "base_uri": "https://localhost:8080/"
        },
        "outputId": "c292e685-85bd-4f27-e465-10e5c1310401"
      },
      "execution_count": 3,
      "outputs": [
        {
          "output_type": "execute_result",
          "data": {
            "text/plain": [
              "(541909, 8)"
            ]
          },
          "metadata": {},
          "execution_count": 3
        }
      ]
    },
    {
      "cell_type": "code",
      "source": [
        "df.head()"
      ],
      "metadata": {
        "id": "lNqdafOU-I7W",
        "colab": {
          "base_uri": "https://localhost:8080/",
          "height": 206
        },
        "outputId": "0b12052f-4f8b-41ea-b540-3d2e12619391"
      },
      "execution_count": 4,
      "outputs": [
        {
          "output_type": "execute_result",
          "data": {
            "text/plain": [
              "  InvoiceNo StockCode                          Description  Quantity  \\\n",
              "0    536365    85123A   WHITE HANGING HEART T-LIGHT HOLDER         6   \n",
              "1    536365     71053                  WHITE METAL LANTERN         6   \n",
              "2    536365    84406B       CREAM CUPID HEARTS COAT HANGER         8   \n",
              "3    536365    84029G  KNITTED UNION FLAG HOT WATER BOTTLE         6   \n",
              "4    536365    84029E       RED WOOLLY HOTTIE WHITE HEART.         6   \n",
              "\n",
              "           InvoiceDate  UnitPrice  CustomerID         Country  \n",
              "0  2010-12-01 08:26:00       2.55     17850.0  United Kingdom  \n",
              "1  2010-12-01 08:26:00       3.39     17850.0  United Kingdom  \n",
              "2  2010-12-01 08:26:00       2.75     17850.0  United Kingdom  \n",
              "3  2010-12-01 08:26:00       3.39     17850.0  United Kingdom  \n",
              "4  2010-12-01 08:26:00       3.39     17850.0  United Kingdom  "
            ],
            "text/html": [
              "\n",
              "  <div id=\"df-63818ca7-8d7e-4b7e-9260-25e5342756fd\" class=\"colab-df-container\">\n",
              "    <div>\n",
              "<style scoped>\n",
              "    .dataframe tbody tr th:only-of-type {\n",
              "        vertical-align: middle;\n",
              "    }\n",
              "\n",
              "    .dataframe tbody tr th {\n",
              "        vertical-align: top;\n",
              "    }\n",
              "\n",
              "    .dataframe thead th {\n",
              "        text-align: right;\n",
              "    }\n",
              "</style>\n",
              "<table border=\"1\" class=\"dataframe\">\n",
              "  <thead>\n",
              "    <tr style=\"text-align: right;\">\n",
              "      <th></th>\n",
              "      <th>InvoiceNo</th>\n",
              "      <th>StockCode</th>\n",
              "      <th>Description</th>\n",
              "      <th>Quantity</th>\n",
              "      <th>InvoiceDate</th>\n",
              "      <th>UnitPrice</th>\n",
              "      <th>CustomerID</th>\n",
              "      <th>Country</th>\n",
              "    </tr>\n",
              "  </thead>\n",
              "  <tbody>\n",
              "    <tr>\n",
              "      <th>0</th>\n",
              "      <td>536365</td>\n",
              "      <td>85123A</td>\n",
              "      <td>WHITE HANGING HEART T-LIGHT HOLDER</td>\n",
              "      <td>6</td>\n",
              "      <td>2010-12-01 08:26:00</td>\n",
              "      <td>2.55</td>\n",
              "      <td>17850.0</td>\n",
              "      <td>United Kingdom</td>\n",
              "    </tr>\n",
              "    <tr>\n",
              "      <th>1</th>\n",
              "      <td>536365</td>\n",
              "      <td>71053</td>\n",
              "      <td>WHITE METAL LANTERN</td>\n",
              "      <td>6</td>\n",
              "      <td>2010-12-01 08:26:00</td>\n",
              "      <td>3.39</td>\n",
              "      <td>17850.0</td>\n",
              "      <td>United Kingdom</td>\n",
              "    </tr>\n",
              "    <tr>\n",
              "      <th>2</th>\n",
              "      <td>536365</td>\n",
              "      <td>84406B</td>\n",
              "      <td>CREAM CUPID HEARTS COAT HANGER</td>\n",
              "      <td>8</td>\n",
              "      <td>2010-12-01 08:26:00</td>\n",
              "      <td>2.75</td>\n",
              "      <td>17850.0</td>\n",
              "      <td>United Kingdom</td>\n",
              "    </tr>\n",
              "    <tr>\n",
              "      <th>3</th>\n",
              "      <td>536365</td>\n",
              "      <td>84029G</td>\n",
              "      <td>KNITTED UNION FLAG HOT WATER BOTTLE</td>\n",
              "      <td>6</td>\n",
              "      <td>2010-12-01 08:26:00</td>\n",
              "      <td>3.39</td>\n",
              "      <td>17850.0</td>\n",
              "      <td>United Kingdom</td>\n",
              "    </tr>\n",
              "    <tr>\n",
              "      <th>4</th>\n",
              "      <td>536365</td>\n",
              "      <td>84029E</td>\n",
              "      <td>RED WOOLLY HOTTIE WHITE HEART.</td>\n",
              "      <td>6</td>\n",
              "      <td>2010-12-01 08:26:00</td>\n",
              "      <td>3.39</td>\n",
              "      <td>17850.0</td>\n",
              "      <td>United Kingdom</td>\n",
              "    </tr>\n",
              "  </tbody>\n",
              "</table>\n",
              "</div>\n",
              "    <div class=\"colab-df-buttons\">\n",
              "\n",
              "  <div class=\"colab-df-container\">\n",
              "    <button class=\"colab-df-convert\" onclick=\"convertToInteractive('df-63818ca7-8d7e-4b7e-9260-25e5342756fd')\"\n",
              "            title=\"Convert this dataframe to an interactive table.\"\n",
              "            style=\"display:none;\">\n",
              "\n",
              "  <svg xmlns=\"http://www.w3.org/2000/svg\" height=\"24px\" viewBox=\"0 -960 960 960\">\n",
              "    <path d=\"M120-120v-720h720v720H120Zm60-500h600v-160H180v160Zm220 220h160v-160H400v160Zm0 220h160v-160H400v160ZM180-400h160v-160H180v160Zm440 0h160v-160H620v160ZM180-180h160v-160H180v160Zm440 0h160v-160H620v160Z\"/>\n",
              "  </svg>\n",
              "    </button>\n",
              "\n",
              "  <style>\n",
              "    .colab-df-container {\n",
              "      display:flex;\n",
              "      gap: 12px;\n",
              "    }\n",
              "\n",
              "    .colab-df-convert {\n",
              "      background-color: #E8F0FE;\n",
              "      border: none;\n",
              "      border-radius: 50%;\n",
              "      cursor: pointer;\n",
              "      display: none;\n",
              "      fill: #1967D2;\n",
              "      height: 32px;\n",
              "      padding: 0 0 0 0;\n",
              "      width: 32px;\n",
              "    }\n",
              "\n",
              "    .colab-df-convert:hover {\n",
              "      background-color: #E2EBFA;\n",
              "      box-shadow: 0px 1px 2px rgba(60, 64, 67, 0.3), 0px 1px 3px 1px rgba(60, 64, 67, 0.15);\n",
              "      fill: #174EA6;\n",
              "    }\n",
              "\n",
              "    .colab-df-buttons div {\n",
              "      margin-bottom: 4px;\n",
              "    }\n",
              "\n",
              "    [theme=dark] .colab-df-convert {\n",
              "      background-color: #3B4455;\n",
              "      fill: #D2E3FC;\n",
              "    }\n",
              "\n",
              "    [theme=dark] .colab-df-convert:hover {\n",
              "      background-color: #434B5C;\n",
              "      box-shadow: 0px 1px 3px 1px rgba(0, 0, 0, 0.15);\n",
              "      filter: drop-shadow(0px 1px 2px rgba(0, 0, 0, 0.3));\n",
              "      fill: #FFFFFF;\n",
              "    }\n",
              "  </style>\n",
              "\n",
              "    <script>\n",
              "      const buttonEl =\n",
              "        document.querySelector('#df-63818ca7-8d7e-4b7e-9260-25e5342756fd button.colab-df-convert');\n",
              "      buttonEl.style.display =\n",
              "        google.colab.kernel.accessAllowed ? 'block' : 'none';\n",
              "\n",
              "      async function convertToInteractive(key) {\n",
              "        const element = document.querySelector('#df-63818ca7-8d7e-4b7e-9260-25e5342756fd');\n",
              "        const dataTable =\n",
              "          await google.colab.kernel.invokeFunction('convertToInteractive',\n",
              "                                                    [key], {});\n",
              "        if (!dataTable) return;\n",
              "\n",
              "        const docLinkHtml = 'Like what you see? Visit the ' +\n",
              "          '<a target=\"_blank\" href=https://colab.research.google.com/notebooks/data_table.ipynb>data table notebook</a>'\n",
              "          + ' to learn more about interactive tables.';\n",
              "        element.innerHTML = '';\n",
              "        dataTable['output_type'] = 'display_data';\n",
              "        await google.colab.output.renderOutput(dataTable, element);\n",
              "        const docLink = document.createElement('div');\n",
              "        docLink.innerHTML = docLinkHtml;\n",
              "        element.appendChild(docLink);\n",
              "      }\n",
              "    </script>\n",
              "  </div>\n",
              "\n",
              "\n",
              "<div id=\"df-8de12011-bf99-4755-b6fa-aca92c3570d3\">\n",
              "  <button class=\"colab-df-quickchart\" onclick=\"quickchart('df-8de12011-bf99-4755-b6fa-aca92c3570d3')\"\n",
              "            title=\"Suggest charts\"\n",
              "            style=\"display:none;\">\n",
              "\n",
              "<svg xmlns=\"http://www.w3.org/2000/svg\" height=\"24px\"viewBox=\"0 0 24 24\"\n",
              "     width=\"24px\">\n",
              "    <g>\n",
              "        <path d=\"M19 3H5c-1.1 0-2 .9-2 2v14c0 1.1.9 2 2 2h14c1.1 0 2-.9 2-2V5c0-1.1-.9-2-2-2zM9 17H7v-7h2v7zm4 0h-2V7h2v10zm4 0h-2v-4h2v4z\"/>\n",
              "    </g>\n",
              "</svg>\n",
              "  </button>\n",
              "\n",
              "<style>\n",
              "  .colab-df-quickchart {\n",
              "      --bg-color: #E8F0FE;\n",
              "      --fill-color: #1967D2;\n",
              "      --hover-bg-color: #E2EBFA;\n",
              "      --hover-fill-color: #174EA6;\n",
              "      --disabled-fill-color: #AAA;\n",
              "      --disabled-bg-color: #DDD;\n",
              "  }\n",
              "\n",
              "  [theme=dark] .colab-df-quickchart {\n",
              "      --bg-color: #3B4455;\n",
              "      --fill-color: #D2E3FC;\n",
              "      --hover-bg-color: #434B5C;\n",
              "      --hover-fill-color: #FFFFFF;\n",
              "      --disabled-bg-color: #3B4455;\n",
              "      --disabled-fill-color: #666;\n",
              "  }\n",
              "\n",
              "  .colab-df-quickchart {\n",
              "    background-color: var(--bg-color);\n",
              "    border: none;\n",
              "    border-radius: 50%;\n",
              "    cursor: pointer;\n",
              "    display: none;\n",
              "    fill: var(--fill-color);\n",
              "    height: 32px;\n",
              "    padding: 0;\n",
              "    width: 32px;\n",
              "  }\n",
              "\n",
              "  .colab-df-quickchart:hover {\n",
              "    background-color: var(--hover-bg-color);\n",
              "    box-shadow: 0 1px 2px rgba(60, 64, 67, 0.3), 0 1px 3px 1px rgba(60, 64, 67, 0.15);\n",
              "    fill: var(--button-hover-fill-color);\n",
              "  }\n",
              "\n",
              "  .colab-df-quickchart-complete:disabled,\n",
              "  .colab-df-quickchart-complete:disabled:hover {\n",
              "    background-color: var(--disabled-bg-color);\n",
              "    fill: var(--disabled-fill-color);\n",
              "    box-shadow: none;\n",
              "  }\n",
              "\n",
              "  .colab-df-spinner {\n",
              "    border: 2px solid var(--fill-color);\n",
              "    border-color: transparent;\n",
              "    border-bottom-color: var(--fill-color);\n",
              "    animation:\n",
              "      spin 1s steps(1) infinite;\n",
              "  }\n",
              "\n",
              "  @keyframes spin {\n",
              "    0% {\n",
              "      border-color: transparent;\n",
              "      border-bottom-color: var(--fill-color);\n",
              "      border-left-color: var(--fill-color);\n",
              "    }\n",
              "    20% {\n",
              "      border-color: transparent;\n",
              "      border-left-color: var(--fill-color);\n",
              "      border-top-color: var(--fill-color);\n",
              "    }\n",
              "    30% {\n",
              "      border-color: transparent;\n",
              "      border-left-color: var(--fill-color);\n",
              "      border-top-color: var(--fill-color);\n",
              "      border-right-color: var(--fill-color);\n",
              "    }\n",
              "    40% {\n",
              "      border-color: transparent;\n",
              "      border-right-color: var(--fill-color);\n",
              "      border-top-color: var(--fill-color);\n",
              "    }\n",
              "    60% {\n",
              "      border-color: transparent;\n",
              "      border-right-color: var(--fill-color);\n",
              "    }\n",
              "    80% {\n",
              "      border-color: transparent;\n",
              "      border-right-color: var(--fill-color);\n",
              "      border-bottom-color: var(--fill-color);\n",
              "    }\n",
              "    90% {\n",
              "      border-color: transparent;\n",
              "      border-bottom-color: var(--fill-color);\n",
              "    }\n",
              "  }\n",
              "</style>\n",
              "\n",
              "  <script>\n",
              "    async function quickchart(key) {\n",
              "      const quickchartButtonEl =\n",
              "        document.querySelector('#' + key + ' button');\n",
              "      quickchartButtonEl.disabled = true;  // To prevent multiple clicks.\n",
              "      quickchartButtonEl.classList.add('colab-df-spinner');\n",
              "      try {\n",
              "        const charts = await google.colab.kernel.invokeFunction(\n",
              "            'suggestCharts', [key], {});\n",
              "      } catch (error) {\n",
              "        console.error('Error during call to suggestCharts:', error);\n",
              "      }\n",
              "      quickchartButtonEl.classList.remove('colab-df-spinner');\n",
              "      quickchartButtonEl.classList.add('colab-df-quickchart-complete');\n",
              "    }\n",
              "    (() => {\n",
              "      let quickchartButtonEl =\n",
              "        document.querySelector('#df-8de12011-bf99-4755-b6fa-aca92c3570d3 button');\n",
              "      quickchartButtonEl.style.display =\n",
              "        google.colab.kernel.accessAllowed ? 'block' : 'none';\n",
              "    })();\n",
              "  </script>\n",
              "</div>\n",
              "\n",
              "    </div>\n",
              "  </div>\n"
            ],
            "application/vnd.google.colaboratory.intrinsic+json": {
              "type": "dataframe",
              "variable_name": "df"
            }
          },
          "metadata": {},
          "execution_count": 4
        }
      ]
    },
    {
      "cell_type": "code",
      "source": [
        "df.info()"
      ],
      "metadata": {
        "id": "_PBKE4Mg-KPM",
        "colab": {
          "base_uri": "https://localhost:8080/"
        },
        "outputId": "a9520475-0286-401b-caed-c8b5b2d1755d"
      },
      "execution_count": 5,
      "outputs": [
        {
          "output_type": "stream",
          "name": "stdout",
          "text": [
            "<class 'pandas.core.frame.DataFrame'>\n",
            "RangeIndex: 541909 entries, 0 to 541908\n",
            "Data columns (total 8 columns):\n",
            " #   Column       Non-Null Count   Dtype   \n",
            "---  ------       --------------   -----   \n",
            " 0   InvoiceNo    541909 non-null  category\n",
            " 1   StockCode    541909 non-null  category\n",
            " 2   Description  540455 non-null  category\n",
            " 3   Quantity     541909 non-null  int32   \n",
            " 4   InvoiceDate  541909 non-null  category\n",
            " 5   UnitPrice    541909 non-null  float64 \n",
            " 6   CustomerID   406829 non-null  float32 \n",
            " 7   Country      541909 non-null  category\n",
            "dtypes: category(5), float32(1), float64(1), int32(1)\n",
            "memory usage: 15.1 MB\n"
          ]
        }
      ]
    },
    {
      "cell_type": "markdown",
      "source": [
        "## 미션 1) 모집단과 표본 추출을 하고 TotalPrice에 대해 비교해 주세요.\n",
        "데이터셋에서 무작위로 1000개의 표본을 추출하고, 추출된 표본과 전체 데이터셋의 'TotalPrice'에 대해 평균과 표준편차를 비교하세요. \\\n",
        "이를 통해 모집단과 표본의 차이를 설명하고, 중심극한정리가 어떻게 적용되는지 설명하세요.\n",
        "\n",
        "- pandas 의 sample 을 활용할 수 있으며, pandas 의 기술 통계 기능을 활용해 볼 수 있습니다.\n",
        "\n",
        "아래의 코드를 활용하세요.\n",
        "\n",
        "```python\n",
        "# 주문 날짜 데이터 전처리\n",
        "df[\"InvoiceDate\"] = pd.to_datetime(df[\"InvoiceDate\"].astype(str))\n",
        "df[\"InvoiceMonth\"] = df[\"InvoiceDate\"].dt.month\n",
        "\n",
        "# 데이터 타입 변경\n",
        "df[\"Country\"] = df[\"Country\"].astype(str)\n",
        "\n",
        "# 주문 가격\n",
        "df[\"TotalPrice\"] = df[\"Quantity\"] * df[\"UnitPrice\"]\n",
        "df.head()\n",
        "```"
      ],
      "metadata": {
        "id": "9K0lJHcPHnON"
      }
    },
    {
      "cell_type": "code",
      "source": [
        "df[\"InvoiceDate\"] = pd.to_datetime(df[\"InvoiceDate\"].astype(str))\n",
        "df[\"InvoiceMonth\"] = df[\"InvoiceDate\"].dt.month\n",
        "df[\"TotalPrice\"] = df[\"Quantity\"] * df[\"UnitPrice\"]\n",
        "print(f'모집단의 평균 : {df[\"TotalPrice\"].mean()}')\n",
        "print(f'모집단의 표준편차 : {df[\"TotalPrice\"].std()}')"
      ],
      "metadata": {
        "id": "T9PcGbArHl9y",
        "colab": {
          "base_uri": "https://localhost:8080/"
        },
        "outputId": "f81e37f2-6274-4a34-84fd-e401c02f631d"
      },
      "execution_count": 6,
      "outputs": [
        {
          "output_type": "stream",
          "name": "stdout",
          "text": [
            "모집단의 평균 : 17.98779487699964\n",
            "모집단의 표준편차 : 378.8108235059747\n"
          ]
        }
      ]
    },
    {
      "cell_type": "code",
      "source": [
        "sample_df = df.sample(n=1000, random_state=42)\n",
        "print(f'표본의 평균 : {sample_df[\"TotalPrice\"].mean()}')\n",
        "print(f'표본의 표준편차 : {sample_df[\"TotalPrice\"].std()}')"
      ],
      "metadata": {
        "colab": {
          "base_uri": "https://localhost:8080/"
        },
        "id": "P2XUx9XbMqTD",
        "outputId": "e39b0232-8a6d-42fc-df65-d3a0ed88e53e"
      },
      "execution_count": 7,
      "outputs": [
        {
          "output_type": "stream",
          "name": "stdout",
          "text": [
            "표본의 평균 : 16.832069999999998\n",
            "표본의 표준편차 : 64.46732773087356\n"
          ]
        }
      ]
    },
    {
      "cell_type": "markdown",
      "source": [
        "- 표본의 평균은 모집단의 평균과 매우 유사하지만, 약간의 차이가 있습니다. 이는 표본을 무작위로 추출했기 때문에 발생하는 자연스러운 변동이라고 생각합니다\n",
        "- 표본의 표준편차는 모집단의 표준편차보다 훨씬 작습니다. 이는 표본의 크기가 모집단보다 훨씬 작기 때문에, 표본 내 데이터의 분포가 덜 분산된 경향이 있기 때문입니다\n",
        "- 중심극한정리는 표본의 크기가 충분히 클 경우 표본 평균의 분포가 정규분포에 근사한다는 이론입니다\n",
        "- 표본 평균(16.8321)은 모집단 평균(17.9878)에 가깝습니다\n",
        "- 표본의 표준편차가 64.4673으로 나타났지만, 이는 개별 데이터의 분산을 반영한 값으로 생각됩니다\n",
        "- 중심극한정리는 큰 표본 크기에서 표본 평균이 모집단 평균에 가까워 지는 것을 가리키며, 위 분석결과에서 관찰한 바와 일치합니다."
      ],
      "metadata": {
        "id": "Vm00qWGANY2I"
      }
    },
    {
      "cell_type": "markdown",
      "source": [
        "## 미션2) 'Country' 변수를 바탕으로 가장 빈도가 높은 두 개의 국가를 선택하고, 각 국가의 'TotalPrice' 평균에 차이가 있는지 검증하세요. 독립표본 t-검정을 사용하여 가설을 설정하고 검정하며, 1종 오류와 2종 오류에 대해 설명하세요.\n",
        "\n",
        "\n",
        "* 미션 진행 방법\n",
        "    <br>1) 데이터 로드 후 'TotalPrice'와 'Country' 컬럼을 찾아주세요.\n",
        "    <br>2) 데이터셋에서 주문이 가장 많은 상위 두 국가를 찾아주세요.\n",
        "    <br>3) 통계적 검증 수행하기\n",
        "    <br>4) 각 국가의 'TotalPrice' 평균을 계산하세요.\n",
        "    <br>5) 독립표본 t-검정을 사용하여 두 국가 간 'TotalPrice' 평균의 차이가 통계적으로 유의미한지 검증하세요. 이 때, scipy.stats 라이브러리의 ttest_ind 함수를 사용할 수 있습니다. equal_var=False 파라미터를 설정하여 두 집단의 분산이 다르다고 가정하세요.\n",
        "    <br>6) t-통계량과 p-값을 해석하여 결과를 설명하세요. 1종 오류와 2종 오류의 개념을 설명하고, 해당 데이터셋에 적용하여 설명해 주세요."
      ],
      "metadata": {
        "id": "KJoQ5gYYHqvY"
      }
    },
    {
      "cell_type": "code",
      "source": [
        "df[\"Country\"] = df[\"Country\"].astype(str)\n",
        "\n",
        "top_two_countries = df['Country'].value_counts().head(2)\n",
        "print(top_two_countries)"
      ],
      "metadata": {
        "id": "7JDKU9PRHSoZ",
        "colab": {
          "base_uri": "https://localhost:8080/"
        },
        "outputId": "605748f6-e815-40d8-a29e-885b87f08347"
      },
      "execution_count": 8,
      "outputs": [
        {
          "output_type": "stream",
          "name": "stdout",
          "text": [
            "Country\n",
            "United Kingdom    495478\n",
            "Germany             9495\n",
            "Name: count, dtype: int64\n"
          ]
        }
      ]
    },
    {
      "cell_type": "code",
      "source": [
        "filtered_df = df[df['Country'].isin(['United Kingdom', 'Germany'])]\n",
        "mean_total_price_per_country = filtered_df.groupby('Country')['TotalPrice'].mean()\n",
        "mean_uk = mean_total_price_per_country['United Kingdom']\n",
        "mean_germany = mean_total_price_per_country['Germany']\n",
        "\n",
        "print(f\"영국 평균 total price:{mean_uk}\")\n",
        "print(f'독일 평균 total price:{mean_germany}')"
      ],
      "metadata": {
        "colab": {
          "base_uri": "https://localhost:8080/"
        },
        "id": "uAF0mJhEONVK",
        "outputId": "cce73158-90d8-42b6-f120-a8cb45852943"
      },
      "execution_count": 9,
      "outputs": [
        {
          "output_type": "stream",
          "name": "stdout",
          "text": [
            "영국 평균 total price:16.525065419655363\n",
            "독일 평균 total price:23.348942601369142\n"
          ]
        }
      ]
    },
    {
      "cell_type": "markdown",
      "source": [
        "- 귀무가설: 두 국가간의 Total Price 평균에 차이가 없다\n",
        "- 대립가설: 두 국가간의 Total Price 평균에 차이가 있다"
      ],
      "metadata": {
        "id": "wTsYapDyT0Dl"
      }
    },
    {
      "cell_type": "code",
      "source": [
        "from scipy.stats import ttest_ind\n",
        "\n",
        "uk_prices = df[df['Country'] == 'United Kingdom']['TotalPrice'].dropna().values\n",
        "germany_prices = df[df['Country'] == 'Germany']['TotalPrice'].dropna().values\n",
        "t_stat, p_value = ttest_ind(uk_prices, germany_prices, equal_var=False)\n",
        "\n",
        "print(f\"T-statistic: {t_stat}\")\n",
        "print(f\"P-value: {p_value}\")"
      ],
      "metadata": {
        "colab": {
          "base_uri": "https://localhost:8080/"
        },
        "id": "BYfSk-kCONRa",
        "outputId": "c14a3058-40b4-4d5d-c50a-08cb98249fc5"
      },
      "execution_count": 10,
      "outputs": [
        {
          "output_type": "stream",
          "name": "stdout",
          "text": [
            "T-statistic: -10.046360185819829\n",
            "P-value: 9.823416115791871e-24\n"
          ]
        }
      ]
    },
    {
      "cell_type": "code",
      "source": [
        "alpha = 0.05\n",
        "if p_value < alpha:\n",
        "  print(\"두 국가간의 차이는 통계적으로 유의성이 있다.\")\n",
        "else:\n",
        "  print(\"두 국가간의 차이는 통계적으로 유의성이 없다\")"
      ],
      "metadata": {
        "colab": {
          "base_uri": "https://localhost:8080/"
        },
        "id": "0ucLyeNEONH0",
        "outputId": "960211fa-3856-4e74-93cc-c6c9522a96c5"
      },
      "execution_count": 11,
      "outputs": [
        {
          "output_type": "stream",
          "name": "stdout",
          "text": [
            "두 국가간의 차이는 통계적으로 유의성이 있다.\n"
          ]
        }
      ]
    },
    {
      "cell_type": "markdown",
      "source": [
        "- t-통계량이 -10.046으로 매우 큰 음수 값을 가지므로, 두 국가 간 TotalPrice 평균에 큰 차이가 있음을 시사합니다\n",
        "- p-값이 매우 작습니다. 이는 두 국가 간 TotalPrice 평균 차이가 우연에 의한 것이 아니라 통계적으로 유의미함을 나타냅니다\n",
        "- 1종 오류는 실제로 두 국가 간 차이가 없는데, t-검정을 통해 차이가 있다고 잘못 결론 내리는 경우입니다. p-값이 매우 작기 때문에 1종 오류의 가능성은 매우 낮습니다\n",
        "- 2종 오류는 실제로 두 국가 간 차이가 있음에도 불구하고, t-검정을 통해 차이가 없다고 잘못 결론 내리는 경우입니다. 현재 결과에서는 p-값이 매우 작아 2종 오류의 가능성이 거의 없다고 할 수 있습니다\n",
        "- 결론은 귀무가설을 기각합니다"
      ],
      "metadata": {
        "id": "JKNWxLSET-mp"
      }
    },
    {
      "cell_type": "markdown",
      "source": [
        "## 미션 3) 주중, 주말에 따른 기술통계와 분위수 분석\n",
        "\n",
        "'UnitPrice'의 분포를 분석하기 위해 상자수염그림과 히스토그램을 그리세요. 데이터의 분위수, 중심경향치(평균, 중간값), 변산성(표준편차, 분산)을 계산하고, 이들이 데이터 분포에 대해 설명해 주세요. \\\n",
        "다음의 주어진 코드를 활용해 주세요.\n",
        "\n",
        "\n",
        "```python\n",
        "# 'InvoiceDate' 컬럼을 이용하여 주중과 주말을 구분\n",
        "df['InvoiceDate'] = pd.to_datetime(df['InvoiceDate'])\n",
        "df['DayOfWeek'] = df['InvoiceDate'].dt.dayofweek\n",
        "\n",
        "\n",
        "df.loc[df['DayOfWeek'] <= 4, \"WeekEnd\"] = \"주중\"\n",
        "df.loc[df['DayOfWeek'] > 4, \"WeekEnd\"] = \"주말\"\n",
        "\n",
        "# 주중(월요일=0, 화요일=1, ..., 금요일=4)과 주말(토요일=5, 일요일=6)으로 데이터를 분리\n",
        "weekday_data = df[df['DayOfWeek'] <= 4]  # 주중\n",
        "weekend_data = df[df['DayOfWeek'] > 4]   # 주말\n",
        "```"
      ],
      "metadata": {
        "id": "lt3471zxHsgH"
      }
    },
    {
      "cell_type": "code",
      "source": [
        "df['InvoiceDate'] = pd.to_datetime(df['InvoiceDate'])\n",
        "df['DayOfWeek'] = df['InvoiceDate'].dt.dayofweek\n",
        "\n",
        "df.loc[df['DayOfWeek'] <= 4, \"WeekEnd\"] = \"주중\"\n",
        "df.loc[df['DayOfWeek'] > 4, \"WeekEnd\"] = \"주말\"\n",
        "\n",
        "weekday_data = df[df['DayOfWeek'] <= 4]\n",
        "weekend_data = df[df['DayOfWeek'] > 4]"
      ],
      "metadata": {
        "id": "CwRkaZYvVrxr"
      },
      "execution_count": 12,
      "outputs": []
    },
    {
      "cell_type": "code",
      "source": [
        "df.head(2)"
      ],
      "metadata": {
        "colab": {
          "base_uri": "https://localhost:8080/",
          "height": 112
        },
        "id": "ePJCZCKmVrpv",
        "outputId": "4dcd4947-fb12-4743-ffd8-a6d006eb37d8"
      },
      "execution_count": 13,
      "outputs": [
        {
          "output_type": "execute_result",
          "data": {
            "text/plain": [
              "  InvoiceNo StockCode                         Description  Quantity  \\\n",
              "0    536365    85123A  WHITE HANGING HEART T-LIGHT HOLDER         6   \n",
              "1    536365     71053                 WHITE METAL LANTERN         6   \n",
              "\n",
              "          InvoiceDate  UnitPrice  CustomerID         Country  InvoiceMonth  \\\n",
              "0 2010-12-01 08:26:00       2.55     17850.0  United Kingdom            12   \n",
              "1 2010-12-01 08:26:00       3.39     17850.0  United Kingdom            12   \n",
              "\n",
              "   TotalPrice  DayOfWeek WeekEnd  \n",
              "0       15.30          2      주중  \n",
              "1       20.34          2      주중  "
            ],
            "text/html": [
              "\n",
              "  <div id=\"df-ecb64faa-64a3-48eb-bc81-64bd1dea24b4\" class=\"colab-df-container\">\n",
              "    <div>\n",
              "<style scoped>\n",
              "    .dataframe tbody tr th:only-of-type {\n",
              "        vertical-align: middle;\n",
              "    }\n",
              "\n",
              "    .dataframe tbody tr th {\n",
              "        vertical-align: top;\n",
              "    }\n",
              "\n",
              "    .dataframe thead th {\n",
              "        text-align: right;\n",
              "    }\n",
              "</style>\n",
              "<table border=\"1\" class=\"dataframe\">\n",
              "  <thead>\n",
              "    <tr style=\"text-align: right;\">\n",
              "      <th></th>\n",
              "      <th>InvoiceNo</th>\n",
              "      <th>StockCode</th>\n",
              "      <th>Description</th>\n",
              "      <th>Quantity</th>\n",
              "      <th>InvoiceDate</th>\n",
              "      <th>UnitPrice</th>\n",
              "      <th>CustomerID</th>\n",
              "      <th>Country</th>\n",
              "      <th>InvoiceMonth</th>\n",
              "      <th>TotalPrice</th>\n",
              "      <th>DayOfWeek</th>\n",
              "      <th>WeekEnd</th>\n",
              "    </tr>\n",
              "  </thead>\n",
              "  <tbody>\n",
              "    <tr>\n",
              "      <th>0</th>\n",
              "      <td>536365</td>\n",
              "      <td>85123A</td>\n",
              "      <td>WHITE HANGING HEART T-LIGHT HOLDER</td>\n",
              "      <td>6</td>\n",
              "      <td>2010-12-01 08:26:00</td>\n",
              "      <td>2.55</td>\n",
              "      <td>17850.0</td>\n",
              "      <td>United Kingdom</td>\n",
              "      <td>12</td>\n",
              "      <td>15.30</td>\n",
              "      <td>2</td>\n",
              "      <td>주중</td>\n",
              "    </tr>\n",
              "    <tr>\n",
              "      <th>1</th>\n",
              "      <td>536365</td>\n",
              "      <td>71053</td>\n",
              "      <td>WHITE METAL LANTERN</td>\n",
              "      <td>6</td>\n",
              "      <td>2010-12-01 08:26:00</td>\n",
              "      <td>3.39</td>\n",
              "      <td>17850.0</td>\n",
              "      <td>United Kingdom</td>\n",
              "      <td>12</td>\n",
              "      <td>20.34</td>\n",
              "      <td>2</td>\n",
              "      <td>주중</td>\n",
              "    </tr>\n",
              "  </tbody>\n",
              "</table>\n",
              "</div>\n",
              "    <div class=\"colab-df-buttons\">\n",
              "\n",
              "  <div class=\"colab-df-container\">\n",
              "    <button class=\"colab-df-convert\" onclick=\"convertToInteractive('df-ecb64faa-64a3-48eb-bc81-64bd1dea24b4')\"\n",
              "            title=\"Convert this dataframe to an interactive table.\"\n",
              "            style=\"display:none;\">\n",
              "\n",
              "  <svg xmlns=\"http://www.w3.org/2000/svg\" height=\"24px\" viewBox=\"0 -960 960 960\">\n",
              "    <path d=\"M120-120v-720h720v720H120Zm60-500h600v-160H180v160Zm220 220h160v-160H400v160Zm0 220h160v-160H400v160ZM180-400h160v-160H180v160Zm440 0h160v-160H620v160ZM180-180h160v-160H180v160Zm440 0h160v-160H620v160Z\"/>\n",
              "  </svg>\n",
              "    </button>\n",
              "\n",
              "  <style>\n",
              "    .colab-df-container {\n",
              "      display:flex;\n",
              "      gap: 12px;\n",
              "    }\n",
              "\n",
              "    .colab-df-convert {\n",
              "      background-color: #E8F0FE;\n",
              "      border: none;\n",
              "      border-radius: 50%;\n",
              "      cursor: pointer;\n",
              "      display: none;\n",
              "      fill: #1967D2;\n",
              "      height: 32px;\n",
              "      padding: 0 0 0 0;\n",
              "      width: 32px;\n",
              "    }\n",
              "\n",
              "    .colab-df-convert:hover {\n",
              "      background-color: #E2EBFA;\n",
              "      box-shadow: 0px 1px 2px rgba(60, 64, 67, 0.3), 0px 1px 3px 1px rgba(60, 64, 67, 0.15);\n",
              "      fill: #174EA6;\n",
              "    }\n",
              "\n",
              "    .colab-df-buttons div {\n",
              "      margin-bottom: 4px;\n",
              "    }\n",
              "\n",
              "    [theme=dark] .colab-df-convert {\n",
              "      background-color: #3B4455;\n",
              "      fill: #D2E3FC;\n",
              "    }\n",
              "\n",
              "    [theme=dark] .colab-df-convert:hover {\n",
              "      background-color: #434B5C;\n",
              "      box-shadow: 0px 1px 3px 1px rgba(0, 0, 0, 0.15);\n",
              "      filter: drop-shadow(0px 1px 2px rgba(0, 0, 0, 0.3));\n",
              "      fill: #FFFFFF;\n",
              "    }\n",
              "  </style>\n",
              "\n",
              "    <script>\n",
              "      const buttonEl =\n",
              "        document.querySelector('#df-ecb64faa-64a3-48eb-bc81-64bd1dea24b4 button.colab-df-convert');\n",
              "      buttonEl.style.display =\n",
              "        google.colab.kernel.accessAllowed ? 'block' : 'none';\n",
              "\n",
              "      async function convertToInteractive(key) {\n",
              "        const element = document.querySelector('#df-ecb64faa-64a3-48eb-bc81-64bd1dea24b4');\n",
              "        const dataTable =\n",
              "          await google.colab.kernel.invokeFunction('convertToInteractive',\n",
              "                                                    [key], {});\n",
              "        if (!dataTable) return;\n",
              "\n",
              "        const docLinkHtml = 'Like what you see? Visit the ' +\n",
              "          '<a target=\"_blank\" href=https://colab.research.google.com/notebooks/data_table.ipynb>data table notebook</a>'\n",
              "          + ' to learn more about interactive tables.';\n",
              "        element.innerHTML = '';\n",
              "        dataTable['output_type'] = 'display_data';\n",
              "        await google.colab.output.renderOutput(dataTable, element);\n",
              "        const docLink = document.createElement('div');\n",
              "        docLink.innerHTML = docLinkHtml;\n",
              "        element.appendChild(docLink);\n",
              "      }\n",
              "    </script>\n",
              "  </div>\n",
              "\n",
              "\n",
              "<div id=\"df-82d65243-bf80-4193-92a9-b2bc004adde3\">\n",
              "  <button class=\"colab-df-quickchart\" onclick=\"quickchart('df-82d65243-bf80-4193-92a9-b2bc004adde3')\"\n",
              "            title=\"Suggest charts\"\n",
              "            style=\"display:none;\">\n",
              "\n",
              "<svg xmlns=\"http://www.w3.org/2000/svg\" height=\"24px\"viewBox=\"0 0 24 24\"\n",
              "     width=\"24px\">\n",
              "    <g>\n",
              "        <path d=\"M19 3H5c-1.1 0-2 .9-2 2v14c0 1.1.9 2 2 2h14c1.1 0 2-.9 2-2V5c0-1.1-.9-2-2-2zM9 17H7v-7h2v7zm4 0h-2V7h2v10zm4 0h-2v-4h2v4z\"/>\n",
              "    </g>\n",
              "</svg>\n",
              "  </button>\n",
              "\n",
              "<style>\n",
              "  .colab-df-quickchart {\n",
              "      --bg-color: #E8F0FE;\n",
              "      --fill-color: #1967D2;\n",
              "      --hover-bg-color: #E2EBFA;\n",
              "      --hover-fill-color: #174EA6;\n",
              "      --disabled-fill-color: #AAA;\n",
              "      --disabled-bg-color: #DDD;\n",
              "  }\n",
              "\n",
              "  [theme=dark] .colab-df-quickchart {\n",
              "      --bg-color: #3B4455;\n",
              "      --fill-color: #D2E3FC;\n",
              "      --hover-bg-color: #434B5C;\n",
              "      --hover-fill-color: #FFFFFF;\n",
              "      --disabled-bg-color: #3B4455;\n",
              "      --disabled-fill-color: #666;\n",
              "  }\n",
              "\n",
              "  .colab-df-quickchart {\n",
              "    background-color: var(--bg-color);\n",
              "    border: none;\n",
              "    border-radius: 50%;\n",
              "    cursor: pointer;\n",
              "    display: none;\n",
              "    fill: var(--fill-color);\n",
              "    height: 32px;\n",
              "    padding: 0;\n",
              "    width: 32px;\n",
              "  }\n",
              "\n",
              "  .colab-df-quickchart:hover {\n",
              "    background-color: var(--hover-bg-color);\n",
              "    box-shadow: 0 1px 2px rgba(60, 64, 67, 0.3), 0 1px 3px 1px rgba(60, 64, 67, 0.15);\n",
              "    fill: var(--button-hover-fill-color);\n",
              "  }\n",
              "\n",
              "  .colab-df-quickchart-complete:disabled,\n",
              "  .colab-df-quickchart-complete:disabled:hover {\n",
              "    background-color: var(--disabled-bg-color);\n",
              "    fill: var(--disabled-fill-color);\n",
              "    box-shadow: none;\n",
              "  }\n",
              "\n",
              "  .colab-df-spinner {\n",
              "    border: 2px solid var(--fill-color);\n",
              "    border-color: transparent;\n",
              "    border-bottom-color: var(--fill-color);\n",
              "    animation:\n",
              "      spin 1s steps(1) infinite;\n",
              "  }\n",
              "\n",
              "  @keyframes spin {\n",
              "    0% {\n",
              "      border-color: transparent;\n",
              "      border-bottom-color: var(--fill-color);\n",
              "      border-left-color: var(--fill-color);\n",
              "    }\n",
              "    20% {\n",
              "      border-color: transparent;\n",
              "      border-left-color: var(--fill-color);\n",
              "      border-top-color: var(--fill-color);\n",
              "    }\n",
              "    30% {\n",
              "      border-color: transparent;\n",
              "      border-left-color: var(--fill-color);\n",
              "      border-top-color: var(--fill-color);\n",
              "      border-right-color: var(--fill-color);\n",
              "    }\n",
              "    40% {\n",
              "      border-color: transparent;\n",
              "      border-right-color: var(--fill-color);\n",
              "      border-top-color: var(--fill-color);\n",
              "    }\n",
              "    60% {\n",
              "      border-color: transparent;\n",
              "      border-right-color: var(--fill-color);\n",
              "    }\n",
              "    80% {\n",
              "      border-color: transparent;\n",
              "      border-right-color: var(--fill-color);\n",
              "      border-bottom-color: var(--fill-color);\n",
              "    }\n",
              "    90% {\n",
              "      border-color: transparent;\n",
              "      border-bottom-color: var(--fill-color);\n",
              "    }\n",
              "  }\n",
              "</style>\n",
              "\n",
              "  <script>\n",
              "    async function quickchart(key) {\n",
              "      const quickchartButtonEl =\n",
              "        document.querySelector('#' + key + ' button');\n",
              "      quickchartButtonEl.disabled = true;  // To prevent multiple clicks.\n",
              "      quickchartButtonEl.classList.add('colab-df-spinner');\n",
              "      try {\n",
              "        const charts = await google.colab.kernel.invokeFunction(\n",
              "            'suggestCharts', [key], {});\n",
              "      } catch (error) {\n",
              "        console.error('Error during call to suggestCharts:', error);\n",
              "      }\n",
              "      quickchartButtonEl.classList.remove('colab-df-spinner');\n",
              "      quickchartButtonEl.classList.add('colab-df-quickchart-complete');\n",
              "    }\n",
              "    (() => {\n",
              "      let quickchartButtonEl =\n",
              "        document.querySelector('#df-82d65243-bf80-4193-92a9-b2bc004adde3 button');\n",
              "      quickchartButtonEl.style.display =\n",
              "        google.colab.kernel.accessAllowed ? 'block' : 'none';\n",
              "    })();\n",
              "  </script>\n",
              "</div>\n",
              "\n",
              "    </div>\n",
              "  </div>\n"
            ],
            "application/vnd.google.colaboratory.intrinsic+json": {
              "type": "dataframe",
              "variable_name": "df"
            }
          },
          "metadata": {},
          "execution_count": 13
        }
      ]
    },
    {
      "cell_type": "code",
      "source": [
        "plt.figure(figsize=(14, 12))"
      ],
      "metadata": {
        "colab": {
          "base_uri": "https://localhost:8080/",
          "height": 52
        },
        "id": "ELvjPqs4Vrgb",
        "outputId": "fcf902b3-3e5a-4a7e-8763-fa57d98791b0"
      },
      "execution_count": 14,
      "outputs": [
        {
          "output_type": "execute_result",
          "data": {
            "text/plain": [
              "<Figure size 1400x1200 with 0 Axes>"
            ]
          },
          "metadata": {},
          "execution_count": 14
        },
        {
          "output_type": "display_data",
          "data": {
            "text/plain": [
              "<Figure size 1400x1200 with 0 Axes>"
            ]
          },
          "metadata": {}
        }
      ]
    },
    {
      "cell_type": "code",
      "source": [
        "# 주중\n",
        "plt.subplot(2, 2, 1)\n",
        "sns.boxplot(y=weekday_data['UnitPrice'])\n",
        "plt.title('Boxplot of UnitPrice (Weekday)')\n",
        "\n",
        "plt.subplot(2, 2, 2)\n",
        "sns.histplot(weekday_data['UnitPrice'], bins=50, kde=True)\n",
        "plt.title('Histogram of UnitPrice (Weekday)')\n",
        "\n",
        "# 주말\n",
        "plt.subplot(2, 2, 3)\n",
        "sns.boxplot(y=weekend_data['UnitPrice'])\n",
        "plt.title('Boxplot of UnitPrice (Weekend)')\n",
        "\n",
        "plt.subplot(2, 2, 4)\n",
        "sns.histplot(weekend_data['UnitPrice'], bins=50, kde=True)\n",
        "plt.title('Histogram of UnitPrice (Weekend)')\n",
        "\n",
        "plt.tight_layout()\n",
        "plt.show()"
      ],
      "metadata": {
        "colab": {
          "base_uri": "https://localhost:8080/",
          "height": 487
        },
        "id": "ekEjUmsiXMWQ",
        "outputId": "1aeb8e1d-1282-442f-d72a-531732833032"
      },
      "execution_count": 15,
      "outputs": [
        {
          "output_type": "display_data",
          "data": {
            "text/plain": [
              "<Figure size 640x480 with 4 Axes>"
            ],
            "image/png": "[encoded data removed]"
          },
          "metadata": {}
        }
      ]
    },
    {
      "cell_type": "code",
      "source": [
        "weekday_stats = df[df['WeekEnd'] == '주중']['UnitPrice'].agg(['mean', 'median', 'std', 'var'])\n",
        "weekday_stats['25%'] = df[df['WeekEnd'] == '주중']['UnitPrice'].quantile(0.25)\n",
        "weekday_stats['75%'] = df[df['WeekEnd'] == '주중']['UnitPrice'].quantile(0.75)\n",
        "weekday_stats.name = 'Weekday'\n",
        "\n",
        "weekend_stats = df[df['WeekEnd'] == '주말']['UnitPrice'].agg(['mean', 'median', 'std', 'var'])\n",
        "weekend_stats['25%'] = df[df['WeekEnd'] == '주말']['UnitPrice'].quantile(0.25)\n",
        "weekend_stats['75%'] = df[df['WeekEnd'] == '주말']['UnitPrice'].quantile(0.75)\n",
        "weekend_stats.name = 'Weekend'\n",
        "\n",
        "stats_df = pd.DataFrame([weekday_stats, weekend_stats])\n",
        "\n",
        "print(stats_df)"
      ],
      "metadata": {
        "colab": {
          "base_uri": "https://localhost:8080/"
        },
        "id": "BuaF7ErVXMJk",
        "outputId": "211793bd-207d-46fe-d676-ff5413732dc3"
      },
      "execution_count": 16,
      "outputs": [
        {
          "output_type": "stream",
          "name": "stdout",
          "text": [
            "             mean  median         std           var   25%   75%\n",
            "Weekday  4.843425    2.10  103.032058  10615.604927  1.25  4.13\n",
            "Weekend  2.887824    1.85    7.959497     63.353599  1.25  3.75\n"
          ]
        }
      ]
    },
    {
      "cell_type": "markdown",
      "source": [
        "- 주중의 UnitPrice는 평균이 4.84로, 주말보다 높습니다. 하지만 표준편차와 분산이 매우 높아 UnitPrice 값들이 평균에서 크게 벗어나 변동하고 있음을 나타냅니다. 이는 일부 고가의 제품이 주중에 판매되었을 가능성을 시사합니다\n",
        "- 주말의 UnitPrice는 평균이 2.89로, 주중보다 낮습니다. 표준편차와 분산이 낮아 UnitPrice 값들이 평균 근처에서 비교적 덜 변동하고 있음을 나타냅니다. 이는 주말에는 주로 저가의 제품이 판매되었거나, 고가의 제품 판매가 적었을 가능성을 시사합니다\n",
        "- 주중과 주말 모두 1사분위수는 같지만, 3사분위수는 주중이 주말보다 높습니다. 이는 주중에 더 고가의 상품이 많이 판매되었음을 시사합니다"
      ],
      "metadata": {
        "id": "ebl-KPqoZmvl"
      }
    },
    {
      "cell_type": "markdown",
      "source": [
        "\n",
        "## 미션4) 심슨의 역설을 설명하기 위한 구체적인 분석을 다음의 순서로 진행해 주세요.\n",
        "\n",
        "심슨의 역설(Simpson's Paradox)은 통계 데이터를 해석할 때 발생할 수 있는 현상으로, 일부 하위 그룹에서 관찰된 추세가 전체 데이터를 합쳤을 때 반전될 수 있음을 나타냅니다. 이 현상은 복잡한 데이터에서 하위 그룹 간에 상이한 분포나 크기 때문에 발생할 수 있습니다.\n",
        "\n",
        "심슨의 역설을 설명하기 위해서는, 데이터 내에서 서로 상반된 추세를 보이는 하위 그룹을 찾거나 생성해야 합니다. 예를 들어, 특정 상품의 판매량이나 단가가 국가별로 다른 추세를 보이는지, 혹은 특정 기간 동안의 판매 추세가 전체 기간 동안의 추세와 다른지 등을 분석할 수 있습니다.\n",
        "\n",
        "데이터를 제시한 특정 국가로 하위 그룹으로 나눕니다.\n",
        "각 하위 그룹에서 총 판매금액의 추세를 분석합니다.\n",
        "전체 데이터셋에 대해 동일한 지표를 분석합니다.\n",
        "하위 그룹의 추세와 전체 데이터의 추세가 서로 다른 방향성을 보일 경우, 이를 통해 심슨의 역설을 설명합니다.\n",
        "이러한 분석을 위해, 데이터 내에서 적절한 변수와 하위 그룹을 선정하는 것이 중요합니다. 현재 제공된 데이터만으로는 심슨의 역설을 바로 설명할 수 있는 명확한 예시를 찾기 어려울 수 있지만, 데이터를 깊이 분석하면 관련 현상을 발견할 수도 있습니다.\n",
        "이를 이용해 비즈니스에 어떻게 활용할 수 있을지도 설명해 주세요.\n",
        "\n",
        "```python\n",
        "country_group = [\"Japan\", \"Hong Kong\", \"Singapore\", \"Lebanon\", \"Canada\", \"USA\"]\n",
        "```"
      ],
      "metadata": {
        "id": "ape-l8gjHuNh"
      }
    },
    {
      "cell_type": "code",
      "source": [
        "total_sales = df['TotalPrice'].sum()\n",
        "print(f'모든 국가의 총 판매금액: {total_sales}')"
      ],
      "metadata": {
        "colab": {
          "base_uri": "https://localhost:8080/"
        },
        "id": "ESq1K6MzbxfZ",
        "outputId": "5eb9b465-592e-4fff-e51e-d2c566e43487"
      },
      "execution_count": 17,
      "outputs": [
        {
          "output_type": "stream",
          "name": "stdout",
          "text": [
            "모든 국가의 총 판매금액: 9747747.933999998\n"
          ]
        }
      ]
    },
    {
      "cell_type": "code",
      "source": [
        "country_group = [\"Japan\", \"Hong Kong\", \"Singapore\", \"Lebanon\", \"Canada\", \"USA\"]\n",
        "filtered_df = df[df['Country'].isin(country_group)]\n",
        "country_sales = filtered_df.groupby('Country')['TotalPrice'].sum().reset_index()\n",
        "print(country_sales)\n",
        "print('----------------------')\n",
        "print(f'6개 국가의 총 판매금액: {country_sales[\"TotalPrice\"].sum()}')\n"
      ],
      "metadata": {
        "id": "__F8cRdRHuZA",
        "colab": {
          "base_uri": "https://localhost:8080/"
        },
        "outputId": "b2614432-9044-42ac-f158-de19e7f3fae1"
      },
      "execution_count": 18,
      "outputs": [
        {
          "output_type": "stream",
          "name": "stdout",
          "text": [
            "     Country  TotalPrice\n",
            "0     Canada     3666.38\n",
            "1  Hong Kong    10117.04\n",
            "2      Japan    35340.62\n",
            "3    Lebanon     1693.88\n",
            "4  Singapore     9120.39\n",
            "5        USA     1730.92\n",
            "----------------------\n",
            "6개 국가의 총 판매금액: 61669.23\n"
          ]
        }
      ]
    },
    {
      "cell_type": "code",
      "source": [
        "plt.figure(figsize=(14, 6))\n",
        "sns.barplot(x='Country', y='TotalPrice', data=country_sales)\n",
        "plt.title('Total Sales by Country')\n",
        "plt.show()"
      ],
      "metadata": {
        "colab": {
          "base_uri": "https://localhost:8080/",
          "height": 564
        },
        "id": "722twuHabxVx",
        "outputId": "c7c9494c-e5e2-498e-df81-037a60b46778"
      },
      "execution_count": 19,
      "outputs": [
        {
          "output_type": "display_data",
          "data": {
            "text/plain": [
              "<Figure size 1400x600 with 1 Axes>"
            ],
            "image/png": "[encoded data removed]"
          },
          "metadata": {}
        }
      ]
    },
    {
      "cell_type": "code",
      "source": [
        "country_mean_sales = filtered_df.groupby('Country')['TotalPrice'].mean().reset_index()\n",
        "overall_mean_sales = df['TotalPrice'].mean()\n",
        "\n",
        "print(\"6개 국가의 평균 판매금액:\")\n",
        "print(country_mean_sales)\n",
        "print('------------------')\n",
        "print(\"모든 국가의 평균 판매금액:\")\n",
        "print(overall_mean_sales)"
      ],
      "metadata": {
        "colab": {
          "base_uri": "https://localhost:8080/"
        },
        "id": "2sCgHo6MbxJ6",
        "outputId": "fc8abda1-1700-47ff-d88a-1962e64d9311"
      },
      "execution_count": 20,
      "outputs": [
        {
          "output_type": "stream",
          "name": "stdout",
          "text": [
            "6개 국가의 평균 판매금액:\n",
            "     Country  TotalPrice\n",
            "0     Canada   24.280662\n",
            "1  Hong Kong   35.128611\n",
            "2      Japan   98.716816\n",
            "3    Lebanon   37.641778\n",
            "4  Singapore   39.827031\n",
            "5        USA    5.948179\n",
            "------------------\n",
            "모든 국가의 평균 판매금액:\n",
            "17.98779487699964\n"
          ]
        }
      ]
    },
    {
      "cell_type": "markdown",
      "source": [
        "- 모든 국가의 총 판매금액에서 6개 국가의 판매금액 비중은 매우 낮습니다\n",
        "- 하지만, 6개 국가에서 관찰된 평균 판매금액은 (미국을 제외하고) 모든 국가의 평균 판매금액보다 높습니다.\n",
        "- 따라서, 전체 데이터셋에서의 추세와 6개 국가에서의 추세가 상반된다는 것을 볼 수 있습니다\n",
        "- 일본과 홍콩 등에서 높은 평균 판매금액을 보이고 있으므로, 해당 국가에서는 프리미엄 제품 마케팅을 강화할 수 있습니다\n",
        "- 전체 판매금액에서 차지하는 비중이 낮지만, 특정 국가에서 높은 평균 판매금액을 기록하는 제품 라인업을 강화할 수 있습니다\n",
        "- 캐나다와 미국 등에서는 상대적으로 낮은 평균 판매금액을 보이므로, 이들 국가에서는 저가 제품 마케팅을 강화할 수 있습니다"
      ],
      "metadata": {
        "id": "7Scw4TCgmSK_"
      }
    },
    {
      "cell_type": "markdown",
      "source": [
        "## 미션5) 상품의 단가와 총 판매액의 관계를 분석해 주세요.\n",
        "\n",
        "상품의 단가가 총 판매액에 미치는 영향을 이해하고 예측하는 것입니다. 이 분석은 가격 결정 전략을 개선하고, 수익성을 최대화하기 위해 사용될 수 있습니다.\n",
        "높은 단가의 상품이 더 많은 총 판매액을 생성할 것이라는 가설을 설정합니다.\n",
        "\n",
        "1) 데이터 전처리: 필요한 데이터를 정리하고, 결측치를 제거합니다.\\\n",
        "2) 단순 회귀분석: 단가(UnitPrice)를 독립변수로, 총 판매액(TotalPrice)을 종속변수로 설정하여 회귀분석을 수행합니다.\\\n",
        "3) 결과 해석: 회귀계수와 결정계수를 분석하여 상품 가격과 총 판매액 사이의 관계를 해석합니다."
      ],
      "metadata": {
        "id": "rYURnpG7Hu19"
      }
    },
    {
      "cell_type": "code",
      "source": [
        "from sklearn.linear_model import LinearRegression\n",
        "from sklearn.metrics import r2_score"
      ],
      "metadata": {
        "id": "8fIomOTNHvGv"
      },
      "execution_count": 21,
      "outputs": []
    },
    {
      "cell_type": "code",
      "source": [
        "# 전처리\n",
        "df = df.dropna(subset=[\"Quantity\", \"UnitPrice\", \"TotalPrice\"])\n",
        "df = df[(df[\"Quantity\"] > 0) & (df[\"UnitPrice\"] > 0) & (df[\"TotalPrice\"] > 0)]"
      ],
      "metadata": {
        "id": "kZIfY4jsnRiz"
      },
      "execution_count": 22,
      "outputs": []
    },
    {
      "cell_type": "code",
      "source": [
        "X = df[[\"UnitPrice\"]]\n",
        "y = df[\"TotalPrice\"]"
      ],
      "metadata": {
        "id": "2wfL-9k3nReH"
      },
      "execution_count": 23,
      "outputs": []
    },
    {
      "cell_type": "code",
      "source": [
        "model = LinearRegression()\n",
        "model.fit(X, y)\n",
        "\n",
        "y_pred = model.predict(X)\n",
        "\n",
        "coef = model.coef_[0]\n",
        "intercept = model.intercept_\n",
        "\n",
        "r2 = r2_score(y, y_pred)\n",
        "\n",
        "print(f\"회귀계수 (Coefficient): {coef}\")\n",
        "print(f\"절편 (Intercept): {intercept}\")\n",
        "print(f\"결정계수 (R-squared): {r2}\")"
      ],
      "metadata": {
        "colab": {
          "base_uri": "https://localhost:8080/"
        },
        "id": "SbNoFxF2nRbf",
        "outputId": "f57ee286-a13b-4d8c-96ef-b8e7e56df94f"
      },
      "execution_count": 24,
      "outputs": [
        {
          "output_type": "stream",
          "name": "stdout",
          "text": [
            "회귀계수 (Coefficient): 1.0343106135145161\n",
            "절편 (Intercept): 16.08017318490481\n",
            "결정계수 (R-squared): 0.01887972932483417\n"
          ]
        }
      ]
    },
    {
      "cell_type": "code",
      "source": [
        "print(f\"회귀계수: {coef} - 이는 단가(UnitPrice)가 1 단위 증가할 때 총 판매액(TotalPrice)이 평균적으로 {coef}만큼 증가함을 의미합니다.\")\n",
        "print(f\"절편: {intercept} - 이는 단가(UnitPrice)가 0일 때의 예상 총 판매액(TotalPrice)을 의미합니다.\")\n",
        "print(f\"결정계수: {r2} - 이는 모델이 총 판매액(TotalPrice)의 변동을 설명하는 정도를 나타내며, 1에 가까울수록 더 좋은 적합도를 의미합니다.\")"
      ],
      "metadata": {
        "colab": {
          "base_uri": "https://localhost:8080/"
        },
        "id": "UMTd3URrnRLY",
        "outputId": "27b78297-cbd5-4265-e53a-4096c4a7c915"
      },
      "execution_count": 25,
      "outputs": [
        {
          "output_type": "stream",
          "name": "stdout",
          "text": [
            "회귀계수: 1.0343106135145161 - 이는 단가(UnitPrice)가 1 단위 증가할 때 총 판매액(TotalPrice)이 평균적으로 1.0343106135145161만큼 증가함을 의미합니다.\n",
            "절편: 16.08017318490481 - 이는 단가(UnitPrice)가 0일 때의 예상 총 판매액(TotalPrice)을 의미합니다.\n",
            "결정계수: 0.01887972932483417 - 이는 모델이 총 판매액(TotalPrice)의 변동을 설명하는 정도를 나타내며, 1에 가까울수록 더 좋은 적합도를 의미합니다.\n"
          ]
        }
      ]
    },
    {
      "cell_type": "markdown",
      "source": [
        "## 미션6) 여러 분은 크리스마스가 온라인 소매 판매에 미치는 영향을 평가하고, 이를 바탕으로 더 효과적인 가격 및 프로모션 전략을 개발해야 합니다.  \n",
        "\n",
        "* 다음과 같은 비즈니스 전략을 고려하여 인과 분석을 합니다. 증거의 사다리로 데이터에서 얻을 수 있는 증거의 강도를 평가합니다. 크리스마스 관련 상품과 비관련 상품 간의 판매 차이를 분석합니다.\n",
        "\n",
        "\n",
        "* 프로모션 전략\n",
        "    * 크리스마스 상품 프로모션 강화하여 크리스마스 관련 상품의 판매를 증진시키기 위한 특별 프로모션을 개발합니다.\n",
        "    * 대상 고객을 세분화하여 크리스마스 상품에 관심이 높은 고객 세그먼트를 식별하고, 이들을 대상으로 한 마케팅 캠페인을 실행합니다.\n",
        "* 재고 및 공급망 관리\n",
        "    * 재고 최적화를 통해 크리스마스 시즌에 대한 수요 예측을 바탕으로 재고 수준을 조절합니다.\n",
        "    * 공급망 효율화를 통해 시즌별 수요 변화에 따라 공급망을 조정하여 비용을 최소화하고, 고객 만족도를 높입니다.\n",
        "* 상품 다양화\n",
        "    * 상품 포트폴리오를 확장하여 크리스마스 관련 상품뿐만 아니라, 다른 시즌 상품에도 주목하여 상품 포트폴리오를 다양화합니다\n",
        "\n",
        "* 크리스마스 시즌 동안 프로모션과 상품 가격 전략이 판매에 미치는 영향을 분석하여, 미래의 프로모션 및 가격 전략을 최적화해야 합니다.\n",
        "\n",
        "\n",
        "\n",
        "* 다음 주어진 코드를 활용합니다.\n",
        "\n",
        "\n",
        "```python\n",
        "# 2011년 이전 데이터만 사용합니다.\n",
        "# 프로모션 여부와 시간에 따른 데이터 분리\n",
        "df_promotion = df[(df[\"InvoiceDate\"] < \"2011-01-01\") & df[\"Description\"].notnull()].dropna().copy()\n",
        "df_promotion[\"IsChristmasPeriod\"] = (df_promotion[\"InvoiceDate\"] >= \"2010-12-17\") & (df_promotion[\"InvoiceDate\"] <= \"2010-12-24\")\n",
        "df_promotion[\"IsChristmasProduct\"] = df_promotion[\"Description\"].str.lower().str.contains(\"christmas\")\n",
        "```"
      ],
      "metadata": {
        "id": "nAaWNLnIJC_N"
      }
    },
    {
      "cell_type": "code",
      "source": [
        "df_promotion = df[(df[\"InvoiceDate\"] < \"2011-01-01\") & df[\"Description\"].notnull()].dropna().copy()\n",
        "df_promotion[\"IsChristmasPeriod\"] = (df_promotion[\"InvoiceDate\"] >= \"2010-12-17\") & (df_promotion[\"InvoiceDate\"] <= \"2010-12-24\")\n",
        "df_promotion[\"IsChristmasProduct\"] = df_promotion[\"Description\"].str.lower().str.contains(\"christmas\")"
      ],
      "metadata": {
        "id": "yckhUGZ4JDuM"
      },
      "execution_count": 26,
      "outputs": []
    },
    {
      "cell_type": "code",
      "source": [
        "df_promotion.head(3)"
      ],
      "metadata": {
        "colab": {
          "base_uri": "https://localhost:8080/",
          "height": 143
        },
        "id": "jx4ASNd6uL6_",
        "outputId": "e39819f7-4e36-4527-e2db-5bddaf2db760"
      },
      "execution_count": 27,
      "outputs": [
        {
          "output_type": "execute_result",
          "data": {
            "text/plain": [
              "  InvoiceNo StockCode                         Description  Quantity  \\\n",
              "0    536365    85123A  WHITE HANGING HEART T-LIGHT HOLDER         6   \n",
              "1    536365     71053                 WHITE METAL LANTERN         6   \n",
              "2    536365    84406B      CREAM CUPID HEARTS COAT HANGER         8   \n",
              "\n",
              "          InvoiceDate  UnitPrice  CustomerID         Country  InvoiceMonth  \\\n",
              "0 2010-12-01 08:26:00       2.55     17850.0  United Kingdom            12   \n",
              "1 2010-12-01 08:26:00       3.39     17850.0  United Kingdom            12   \n",
              "2 2010-12-01 08:26:00       2.75     17850.0  United Kingdom            12   \n",
              "\n",
              "   TotalPrice  DayOfWeek WeekEnd  IsChristmasPeriod  IsChristmasProduct  \n",
              "0       15.30          2      주중              False               False  \n",
              "1       20.34          2      주중              False               False  \n",
              "2       22.00          2      주중              False               False  "
            ],
            "text/html": [
              "\n",
              "  <div id=\"df-10007112-d237-42c5-95ad-87ff5149cd75\" class=\"colab-df-container\">\n",
              "    <div>\n",
              "<style scoped>\n",
              "    .dataframe tbody tr th:only-of-type {\n",
              "        vertical-align: middle;\n",
              "    }\n",
              "\n",
              "    .dataframe tbody tr th {\n",
              "        vertical-align: top;\n",
              "    }\n",
              "\n",
              "    .dataframe thead th {\n",
              "        text-align: right;\n",
              "    }\n",
              "</style>\n",
              "<table border=\"1\" class=\"dataframe\">\n",
              "  <thead>\n",
              "    <tr style=\"text-align: right;\">\n",
              "      <th></th>\n",
              "      <th>InvoiceNo</th>\n",
              "      <th>StockCode</th>\n",
              "      <th>Description</th>\n",
              "      <th>Quantity</th>\n",
              "      <th>InvoiceDate</th>\n",
              "      <th>UnitPrice</th>\n",
              "      <th>CustomerID</th>\n",
              "      <th>Country</th>\n",
              "      <th>InvoiceMonth</th>\n",
              "      <th>TotalPrice</th>\n",
              "      <th>DayOfWeek</th>\n",
              "      <th>WeekEnd</th>\n",
              "      <th>IsChristmasPeriod</th>\n",
              "      <th>IsChristmasProduct</th>\n",
              "    </tr>\n",
              "  </thead>\n",
              "  <tbody>\n",
              "    <tr>\n",
              "      <th>0</th>\n",
              "      <td>536365</td>\n",
              "      <td>85123A</td>\n",
              "      <td>WHITE HANGING HEART T-LIGHT HOLDER</td>\n",
              "      <td>6</td>\n",
              "      <td>2010-12-01 08:26:00</td>\n",
              "      <td>2.55</td>\n",
              "      <td>17850.0</td>\n",
              "      <td>United Kingdom</td>\n",
              "      <td>12</td>\n",
              "      <td>15.30</td>\n",
              "      <td>2</td>\n",
              "      <td>주중</td>\n",
              "      <td>False</td>\n",
              "      <td>False</td>\n",
              "    </tr>\n",
              "    <tr>\n",
              "      <th>1</th>\n",
              "      <td>536365</td>\n",
              "      <td>71053</td>\n",
              "      <td>WHITE METAL LANTERN</td>\n",
              "      <td>6</td>\n",
              "      <td>2010-12-01 08:26:00</td>\n",
              "      <td>3.39</td>\n",
              "      <td>17850.0</td>\n",
              "      <td>United Kingdom</td>\n",
              "      <td>12</td>\n",
              "      <td>20.34</td>\n",
              "      <td>2</td>\n",
              "      <td>주중</td>\n",
              "      <td>False</td>\n",
              "      <td>False</td>\n",
              "    </tr>\n",
              "    <tr>\n",
              "      <th>2</th>\n",
              "      <td>536365</td>\n",
              "      <td>84406B</td>\n",
              "      <td>CREAM CUPID HEARTS COAT HANGER</td>\n",
              "      <td>8</td>\n",
              "      <td>2010-12-01 08:26:00</td>\n",
              "      <td>2.75</td>\n",
              "      <td>17850.0</td>\n",
              "      <td>United Kingdom</td>\n",
              "      <td>12</td>\n",
              "      <td>22.00</td>\n",
              "      <td>2</td>\n",
              "      <td>주중</td>\n",
              "      <td>False</td>\n",
              "      <td>False</td>\n",
              "    </tr>\n",
              "  </tbody>\n",
              "</table>\n",
              "</div>\n",
              "    <div class=\"colab-df-buttons\">\n",
              "\n",
              "  <div class=\"colab-df-container\">\n",
              "    <button class=\"colab-df-convert\" onclick=\"convertToInteractive('df-10007112-d237-42c5-95ad-87ff5149cd75')\"\n",
              "            title=\"Convert this dataframe to an interactive table.\"\n",
              "            style=\"display:none;\">\n",
              "\n",
              "  <svg xmlns=\"http://www.w3.org/2000/svg\" height=\"24px\" viewBox=\"0 -960 960 960\">\n",
              "    <path d=\"M120-120v-720h720v720H120Zm60-500h600v-160H180v160Zm220 220h160v-160H400v160Zm0 220h160v-160H400v160ZM180-400h160v-160H180v160Zm440 0h160v-160H620v160ZM180-180h160v-160H180v160Zm440 0h160v-160H620v160Z\"/>\n",
              "  </svg>\n",
              "    </button>\n",
              "\n",
              "  <style>\n",
              "    .colab-df-container {\n",
              "      display:flex;\n",
              "      gap: 12px;\n",
              "    }\n",
              "\n",
              "    .colab-df-convert {\n",
              "      background-color: #E8F0FE;\n",
              "      border: none;\n",
              "      border-radius: 50%;\n",
              "      cursor: pointer;\n",
              "      display: none;\n",
              "      fill: #1967D2;\n",
              "      height: 32px;\n",
              "      padding: 0 0 0 0;\n",
              "      width: 32px;\n",
              "    }\n",
              "\n",
              "    .colab-df-convert:hover {\n",
              "      background-color: #E2EBFA;\n",
              "      box-shadow: 0px 1px 2px rgba(60, 64, 67, 0.3), 0px 1px 3px 1px rgba(60, 64, 67, 0.15);\n",
              "      fill: #174EA6;\n",
              "    }\n",
              "\n",
              "    .colab-df-buttons div {\n",
              "      margin-bottom: 4px;\n",
              "    }\n",
              "\n",
              "    [theme=dark] .colab-df-convert {\n",
              "      background-color: #3B4455;\n",
              "      fill: #D2E3FC;\n",
              "    }\n",
              "\n",
              "    [theme=dark] .colab-df-convert:hover {\n",
              "      background-color: #434B5C;\n",
              "      box-shadow: 0px 1px 3px 1px rgba(0, 0, 0, 0.15);\n",
              "      filter: drop-shadow(0px 1px 2px rgba(0, 0, 0, 0.3));\n",
              "      fill: #FFFFFF;\n",
              "    }\n",
              "  </style>\n",
              "\n",
              "    <script>\n",
              "      const buttonEl =\n",
              "        document.querySelector('#df-10007112-d237-42c5-95ad-87ff5149cd75 button.colab-df-convert');\n",
              "      buttonEl.style.display =\n",
              "        google.colab.kernel.accessAllowed ? 'block' : 'none';\n",
              "\n",
              "      async function convertToInteractive(key) {\n",
              "        const element = document.querySelector('#df-10007112-d237-42c5-95ad-87ff5149cd75');\n",
              "        const dataTable =\n",
              "          await google.colab.kernel.invokeFunction('convertToInteractive',\n",
              "                                                    [key], {});\n",
              "        if (!dataTable) return;\n",
              "\n",
              "        const docLinkHtml = 'Like what you see? Visit the ' +\n",
              "          '<a target=\"_blank\" href=https://colab.research.google.com/notebooks/data_table.ipynb>data table notebook</a>'\n",
              "          + ' to learn more about interactive tables.';\n",
              "        element.innerHTML = '';\n",
              "        dataTable['output_type'] = 'display_data';\n",
              "        await google.colab.output.renderOutput(dataTable, element);\n",
              "        const docLink = document.createElement('div');\n",
              "        docLink.innerHTML = docLinkHtml;\n",
              "        element.appendChild(docLink);\n",
              "      }\n",
              "    </script>\n",
              "  </div>\n",
              "\n",
              "\n",
              "<div id=\"df-6ec77847-8057-4db8-8410-fab8e1a6779e\">\n",
              "  <button class=\"colab-df-quickchart\" onclick=\"quickchart('df-6ec77847-8057-4db8-8410-fab8e1a6779e')\"\n",
              "            title=\"Suggest charts\"\n",
              "            style=\"display:none;\">\n",
              "\n",
              "<svg xmlns=\"http://www.w3.org/2000/svg\" height=\"24px\"viewBox=\"0 0 24 24\"\n",
              "     width=\"24px\">\n",
              "    <g>\n",
              "        <path d=\"M19 3H5c-1.1 0-2 .9-2 2v14c0 1.1.9 2 2 2h14c1.1 0 2-.9 2-2V5c0-1.1-.9-2-2-2zM9 17H7v-7h2v7zm4 0h-2V7h2v10zm4 0h-2v-4h2v4z\"/>\n",
              "    </g>\n",
              "</svg>\n",
              "  </button>\n",
              "\n",
              "<style>\n",
              "  .colab-df-quickchart {\n",
              "      --bg-color: #E8F0FE;\n",
              "      --fill-color: #1967D2;\n",
              "      --hover-bg-color: #E2EBFA;\n",
              "      --hover-fill-color: #174EA6;\n",
              "      --disabled-fill-color: #AAA;\n",
              "      --disabled-bg-color: #DDD;\n",
              "  }\n",
              "\n",
              "  [theme=dark] .colab-df-quickchart {\n",
              "      --bg-color: #3B4455;\n",
              "      --fill-color: #D2E3FC;\n",
              "      --hover-bg-color: #434B5C;\n",
              "      --hover-fill-color: #FFFFFF;\n",
              "      --disabled-bg-color: #3B4455;\n",
              "      --disabled-fill-color: #666;\n",
              "  }\n",
              "\n",
              "  .colab-df-quickchart {\n",
              "    background-color: var(--bg-color);\n",
              "    border: none;\n",
              "    border-radius: 50%;\n",
              "    cursor: pointer;\n",
              "    display: none;\n",
              "    fill: var(--fill-color);\n",
              "    height: 32px;\n",
              "    padding: 0;\n",
              "    width: 32px;\n",
              "  }\n",
              "\n",
              "  .colab-df-quickchart:hover {\n",
              "    background-color: var(--hover-bg-color);\n",
              "    box-shadow: 0 1px 2px rgba(60, 64, 67, 0.3), 0 1px 3px 1px rgba(60, 64, 67, 0.15);\n",
              "    fill: var(--button-hover-fill-color);\n",
              "  }\n",
              "\n",
              "  .colab-df-quickchart-complete:disabled,\n",
              "  .colab-df-quickchart-complete:disabled:hover {\n",
              "    background-color: var(--disabled-bg-color);\n",
              "    fill: var(--disabled-fill-color);\n",
              "    box-shadow: none;\n",
              "  }\n",
              "\n",
              "  .colab-df-spinner {\n",
              "    border: 2px solid var(--fill-color);\n",
              "    border-color: transparent;\n",
              "    border-bottom-color: var(--fill-color);\n",
              "    animation:\n",
              "      spin 1s steps(1) infinite;\n",
              "  }\n",
              "\n",
              "  @keyframes spin {\n",
              "    0% {\n",
              "      border-color: transparent;\n",
              "      border-bottom-color: var(--fill-color);\n",
              "      border-left-color: var(--fill-color);\n",
              "    }\n",
              "    20% {\n",
              "      border-color: transparent;\n",
              "      border-left-color: var(--fill-color);\n",
              "      border-top-color: var(--fill-color);\n",
              "    }\n",
              "    30% {\n",
              "      border-color: transparent;\n",
              "      border-left-color: var(--fill-color);\n",
              "      border-top-color: var(--fill-color);\n",
              "      border-right-color: var(--fill-color);\n",
              "    }\n",
              "    40% {\n",
              "      border-color: transparent;\n",
              "      border-right-color: var(--fill-color);\n",
              "      border-top-color: var(--fill-color);\n",
              "    }\n",
              "    60% {\n",
              "      border-color: transparent;\n",
              "      border-right-color: var(--fill-color);\n",
              "    }\n",
              "    80% {\n",
              "      border-color: transparent;\n",
              "      border-right-color: var(--fill-color);\n",
              "      border-bottom-color: var(--fill-color);\n",
              "    }\n",
              "    90% {\n",
              "      border-color: transparent;\n",
              "      border-bottom-color: var(--fill-color);\n",
              "    }\n",
              "  }\n",
              "</style>\n",
              "\n",
              "  <script>\n",
              "    async function quickchart(key) {\n",
              "      const quickchartButtonEl =\n",
              "        document.querySelector('#' + key + ' button');\n",
              "      quickchartButtonEl.disabled = true;  // To prevent multiple clicks.\n",
              "      quickchartButtonEl.classList.add('colab-df-spinner');\n",
              "      try {\n",
              "        const charts = await google.colab.kernel.invokeFunction(\n",
              "            'suggestCharts', [key], {});\n",
              "      } catch (error) {\n",
              "        console.error('Error during call to suggestCharts:', error);\n",
              "      }\n",
              "      quickchartButtonEl.classList.remove('colab-df-spinner');\n",
              "      quickchartButtonEl.classList.add('colab-df-quickchart-complete');\n",
              "    }\n",
              "    (() => {\n",
              "      let quickchartButtonEl =\n",
              "        document.querySelector('#df-6ec77847-8057-4db8-8410-fab8e1a6779e button');\n",
              "      quickchartButtonEl.style.display =\n",
              "        google.colab.kernel.accessAllowed ? 'block' : 'none';\n",
              "    })();\n",
              "  </script>\n",
              "</div>\n",
              "\n",
              "    </div>\n",
              "  </div>\n"
            ],
            "application/vnd.google.colaboratory.intrinsic+json": {
              "type": "dataframe",
              "variable_name": "df_promotion",
              "summary": "{\n  \"name\": \"df_promotion\",\n  \"rows\": 26157,\n  \"fields\": [\n    {\n      \"column\": \"InvoiceNo\",\n      \"properties\": {\n        \"dtype\": \"category\",\n        \"num_unique_values\": 1400,\n        \"samples\": [\n          \"537852\",\n          \"537796\",\n          \"536590\"\n        ],\n        \"semantic_type\": \"\",\n        \"description\": \"\"\n      }\n    },\n    {\n      \"column\": \"StockCode\",\n      \"properties\": {\n        \"dtype\": \"category\",\n        \"num_unique_values\": 2411,\n        \"samples\": [\n          \"21131\",\n          \"20793\",\n          \"90104\"\n        ],\n        \"semantic_type\": \"\",\n        \"description\": \"\"\n      }\n    },\n    {\n      \"column\": \"Description\",\n      \"properties\": {\n        \"dtype\": \"category\",\n        \"num_unique_values\": 2418,\n        \"samples\": [\n          \"PURPLE DRAWERKNOB ACRYLIC EDWARDIAN\",\n          \"ALARM CLOCK BAKELIKE IVORY\",\n          \"BREAD BIN, DINER STYLE, MINT\"\n        ],\n        \"semantic_type\": \"\",\n        \"description\": \"\"\n      }\n    },\n    {\n      \"column\": \"Quantity\",\n      \"properties\": {\n        \"dtype\": \"int32\",\n        \"num_unique_values\": 105,\n        \"samples\": [\n          25,\n          1440,\n          13\n        ],\n        \"semantic_type\": \"\",\n        \"description\": \"\"\n      }\n    },\n    {\n      \"column\": \"InvoiceDate\",\n      \"properties\": {\n        \"dtype\": \"date\",\n        \"min\": \"2010-12-01 08:26:00\",\n        \"max\": \"2010-12-23 16:06:00\",\n        \"num_unique_values\": 1293,\n        \"samples\": [\n          \"2010-12-05 15:02:00\",\n          \"2010-12-07 13:13:00\",\n          \"2010-12-08 15:35:00\"\n        ],\n        \"semantic_type\": \"\",\n        \"description\": \"\"\n      }\n    },\n    {\n      \"column\": \"UnitPrice\",\n      \"properties\": {\n        \"dtype\": \"number\",\n        \"std\": 5.22048184644743,\n        \"min\": 0.07,\n        \"max\": 295.0,\n        \"num_unique_values\": 134,\n        \"samples\": [\n          34.95,\n          5.49,\n          52.77\n        ],\n        \"semantic_type\": \"\",\n        \"description\": \"\"\n      }\n    },\n    {\n      \"column\": \"CustomerID\",\n      \"properties\": {\n        \"dtype\": \"float32\",\n        \"num_unique_values\": 885,\n        \"samples\": [\n          17951.0,\n          14176.0,\n          16556.0\n        ],\n        \"semantic_type\": \"\",\n        \"description\": \"\"\n      }\n    },\n    {\n      \"column\": \"Country\",\n      \"properties\": {\n        \"dtype\": \"category\",\n        \"num_unique_values\": 22,\n        \"samples\": [\n          \"United Kingdom\",\n          \"Lithuania\",\n          \"Spain\"\n        ],\n        \"semantic_type\": \"\",\n        \"description\": \"\"\n      }\n    },\n    {\n      \"column\": \"InvoiceMonth\",\n      \"properties\": {\n        \"dtype\": \"int32\",\n        \"num_unique_values\": 1,\n        \"samples\": [\n          12\n        ],\n        \"semantic_type\": \"\",\n        \"description\": \"\"\n      }\n    },\n    {\n      \"column\": \"TotalPrice\",\n      \"properties\": {\n        \"dtype\": \"number\",\n        \"std\": 76.64227810405612,\n        \"min\": 0.14,\n        \"max\": 3828.0,\n        \"num_unique_values\": 853,\n        \"samples\": [\n          38.160000000000004\n        ],\n        \"semantic_type\": \"\",\n        \"description\": \"\"\n      }\n    },\n    {\n      \"column\": \"DayOfWeek\",\n      \"properties\": {\n        \"dtype\": \"int32\",\n        \"num_unique_values\": 6,\n        \"samples\": [\n          2\n        ],\n        \"semantic_type\": \"\",\n        \"description\": \"\"\n      }\n    },\n    {\n      \"column\": \"WeekEnd\",\n      \"properties\": {\n        \"dtype\": \"category\",\n        \"num_unique_values\": 2,\n        \"samples\": [\n          \"\\uc8fc\\ub9d0\"\n        ],\n        \"semantic_type\": \"\",\n        \"description\": \"\"\n      }\n    },\n    {\n      \"column\": \"IsChristmasPeriod\",\n      \"properties\": {\n        \"dtype\": \"boolean\",\n        \"num_unique_values\": 2,\n        \"samples\": [\n          true\n        ],\n        \"semantic_type\": \"\",\n        \"description\": \"\"\n      }\n    },\n    {\n      \"column\": \"IsChristmasProduct\",\n      \"properties\": {\n        \"dtype\": \"boolean\",\n        \"num_unique_values\": 2,\n        \"samples\": [\n          true\n        ],\n        \"semantic_type\": \"\",\n        \"description\": \"\"\n      }\n    }\n  ]\n}"
            }
          },
          "metadata": {},
          "execution_count": 27
        }
      ]
    },
    {
      "cell_type": "code",
      "source": [
        "# 증거의 사다리 평가 함수\n",
        "def evaluate_evidence(p_value):\n",
        "    if p_value < 0.01:\n",
        "        return \"매우 강한 증거\"\n",
        "    elif p_value < 0.05:\n",
        "        return \"강한 증거\"\n",
        "    elif p_value < 0.1:\n",
        "        return \"일정한 증거\"\n",
        "    else:\n",
        "        return \"약한 증거\""
      ],
      "metadata": {
        "id": "JfjPTPc5yRDq"
      },
      "execution_count": 28,
      "outputs": []
    },
    {
      "cell_type": "code",
      "source": [
        "# 크리스마스 기간 동안 비교\n",
        "christmas_period = df_promotion[df_promotion[\"IsChristmasPeriod\"]]\n",
        "christmas_products_christmas_period = christmas_period[christmas_period[\"IsChristmasProduct\"]]\n",
        "non_christmas_products_christmas_period = christmas_period[~christmas_period[\"IsChristmasProduct\"]]"
      ],
      "metadata": {
        "id": "psDmmQmpp33U"
      },
      "execution_count": 29,
      "outputs": []
    },
    {
      "cell_type": "code",
      "source": [
        "# 크리스마스 기간 동안 판매 차이 분석\n",
        "mean_christmas_products_christmas_period = christmas_products_christmas_period[\"TotalPrice\"].mean()\n",
        "mean_non_christmas_products_christmas_period = non_christmas_products_christmas_period[\"TotalPrice\"].mean()\n",
        "\n",
        "print(f'크리스마스기간-크리스마스상품-평균판매: {mean_christmas_products_christmas_period}')\n",
        "print(f'크리스마스기간-크리스마스 비상품-평균판매: {mean_non_christmas_products_christmas_period}')"
      ],
      "metadata": {
        "colab": {
          "base_uri": "https://localhost:8080/"
        },
        "id": "uoKY8qrDp3xl",
        "outputId": "59f5de38-5f14-4ac7-d120-a831fb324345"
      },
      "execution_count": 30,
      "outputs": [
        {
          "output_type": "stream",
          "name": "stdout",
          "text": [
            "크리스마스기간-크리스마스상품-평균판매: 13.696774193548388\n",
            "크리스마스기간-크리스마스 비상품-평균판매: 24.80349931787176\n"
          ]
        }
      ]
    },
    {
      "cell_type": "code",
      "source": [
        "# 크리스마스 기간 t-검정\n",
        "t_stat_christmas_period, p_value_christmas_period = ttest_ind(christmas_products_christmas_period[\"TotalPrice\"], non_christmas_products_christmas_period[\"TotalPrice\"], equal_var=False)\n",
        "print(f\"T-statistic: {t_stat_christmas_period}\")\n",
        "print(f\"P-value: {p_value_christmas_period}\")"
      ],
      "metadata": {
        "colab": {
          "base_uri": "https://localhost:8080/"
        },
        "id": "nVfEv8H2p3uQ",
        "outputId": "7e91b17b-4a84-4bd1-de0a-7e51f36131e9"
      },
      "execution_count": 31,
      "outputs": [
        {
          "output_type": "stream",
          "name": "stdout",
          "text": [
            "T-statistic: -3.5779138281386973\n",
            "P-value: 0.0006355133252501859\n"
          ]
        }
      ]
    },
    {
      "cell_type": "code",
      "source": [
        "# 크리스마스 기간 증거의 강도\n",
        "print(evaluate_evidence(p_value_christmas_period))"
      ],
      "metadata": {
        "colab": {
          "base_uri": "https://localhost:8080/"
        },
        "id": "i9QgJX7TygYF",
        "outputId": "cca6b5d3-f29c-4c96-baa7-9e3deca1d54a"
      },
      "execution_count": 32,
      "outputs": [
        {
          "output_type": "stream",
          "name": "stdout",
          "text": [
            "매우 강한 증거\n"
          ]
        }
      ]
    },
    {
      "cell_type": "code",
      "source": [
        "# 크리스마스가 아닌 기간 동안의 비교\n",
        "non_christmas_period = df_promotion[~df_promotion[\"IsChristmasPeriod\"]]\n",
        "christmas_products_non_christmas_period = non_christmas_period[non_christmas_period[\"IsChristmasProduct\"]]\n",
        "non_christmas_products_non_christmas_period = non_christmas_period[~non_christmas_period[\"IsChristmasProduct\"]]\n"
      ],
      "metadata": {
        "id": "BiAhWhsOp3sY"
      },
      "execution_count": 33,
      "outputs": []
    },
    {
      "cell_type": "code",
      "source": [
        "# 크리스마스가 아닌 기간 동안 판매 차이 분석\n",
        "mean_christmas_products_non_christmas_period = christmas_products_non_christmas_period[\"TotalPrice\"].mean()\n",
        "mean_non_christmas_products_non_christmas_period = non_christmas_products_non_christmas_period[\"TotalPrice\"].mean()\n",
        "\n",
        "print(f'크리스마스가 아닌 기간-크리스마스상품-평균판매: {mean_christmas_products_non_christmas_period}')\n",
        "print(f'크리스마스가 아닌 기간-크리스마스 비상품-평균판매: {mean_non_christmas_products_non_christmas_period}')"
      ],
      "metadata": {
        "colab": {
          "base_uri": "https://localhost:8080/"
        },
        "id": "AvL2nPKYp3lP",
        "outputId": "43778bf6-9e72-4d17-aa7c-7fcd26a4da10"
      },
      "execution_count": 34,
      "outputs": [
        {
          "output_type": "stream",
          "name": "stdout",
          "text": [
            "크리스마스가 아닌 기간-크리스마스상품-평균판매: 15.216978557504873\n",
            "크리스마스가 아닌 기간-크리스마스 비상품-평균판매: 21.999717906030334\n"
          ]
        }
      ]
    },
    {
      "cell_type": "code",
      "source": [
        "# 크리스마스가 아닌 기간 t-검정\n",
        "t_stat_non_christmas_period, p_value_non_christmas_period = ttest_ind(christmas_products_non_christmas_period[\"TotalPrice\"], non_christmas_products_non_christmas_period[\"TotalPrice\"], equal_var=False)\n",
        "print(f\"T-statistic: {t_stat_non_christmas_period}\")\n",
        "print(f\"P-value: {p_value_non_christmas_period}\")"
      ],
      "metadata": {
        "colab": {
          "base_uri": "https://localhost:8080/"
        },
        "id": "6povYY_6p3fG",
        "outputId": "b04080c9-4b32-4eab-b0ce-8fa25e57dbc4"
      },
      "execution_count": 35,
      "outputs": [
        {
          "output_type": "stream",
          "name": "stdout",
          "text": [
            "T-statistic: -7.780686370057457\n",
            "P-value: 8.958728824863028e-15\n"
          ]
        }
      ]
    },
    {
      "cell_type": "code",
      "source": [
        "# 크리스마스가 아닌 기간 증거의 강도\n",
        "print(evaluate_evidence(p_value_non_christmas_period))"
      ],
      "metadata": {
        "colab": {
          "base_uri": "https://localhost:8080/"
        },
        "id": "kWYu4fhqp3V9",
        "outputId": "cf18ff9b-1364-4ebc-971c-165ca75fdaf2"
      },
      "execution_count": 36,
      "outputs": [
        {
          "output_type": "stream",
          "name": "stdout",
          "text": [
            "매우 강한 증거\n"
          ]
        }
      ]
    },
    {
      "cell_type": "markdown",
      "source": [
        "- 주어진 분석 결과에서 크리스마스 기간과 크리스마스가 아닌 기간 모두에서 크리스마스와 관련 없는 상품이 더 많이 팔리는 상황에 맞춰, 효과적인 프로모션 전략, 재고 및 공급망 관리, 상품 다양화 전략을 다음과 같이 제안"
      ],
      "metadata": {
        "id": "wW_tBtObzfIW"
      }
    },
    {
      "cell_type": "markdown",
      "source": [
        "#### 1. 프로모션 전략\n",
        "- (크리스마스 기간) 주요 상품에 집중한 프로모션. 크리스마스 시즌에 일상용품, 가전제품, 의류에 대한 특별 할인 행사나 패키지 제공하고, 크리스마스 관련 상품과 크리스마스와 관련없는 상품을 묶어 패키지로 판매하는 크로스 프로모션 실시\n",
        "- (크리스마스가 아닌 기간) 크리스마스와 관련없는 상품의 판매를 촉진하기 위해 정기적인 할인 이벤트나 프로모션을 진행하고 고객의 구매 패턴을 분석하여 특정 고객 세스먼트에 맞춘 타겟 마케팅 캠페인 실시"
      ],
      "metadata": {
        "id": "QpCtRUjazq9-"
      }
    },
    {
      "cell_type": "markdown",
      "source": [
        "#### 2. 재고 및 공급망 관리\n",
        "- (크리스마스 기간) 크리스마스 시즌 동안 더 많이 팔리는 크리스마스와 관련 없는 상품에 대한 수요 예측을 강화하고, 이에 맞춰 재고를 최적화하고, 크리스마스 시즌에 맞춰 공급망을 효율적으로 조정하여 인기 상품의 공급을 원활하게 유지합니다\n",
        "- (크리스마가 아닌 기간) 크리스마스와 관련 없는 상품의 재고 회전율을 높이기 위해 지속적으로 재고를 모니터링하고, 적절한 재고 수준을 유지하고, 연중 수요 변화에 맞춰 공급망을 최적화하여 비용을 최소화하고, 재고 비용을 줄입니다"
      ],
      "metadata": {
        "id": "FxZ9ZOl40mtw"
      }
    },
    {
      "cell_type": "markdown",
      "source": [
        "#### 3. 상품 다양화 전략\n",
        "- (크리스마스 기간) 크리스마스와 관련 없는 상품의 인기가 높기 때문에, 가정용품, 패션, 가전제품 등 다양한 카테고리의 상품을 확보하고, 이를 적극적으로 마케팅하며, 최신 트렌드와 고객 선호도를 반영한 상품을 도입합니다\n",
        "- (크리스마스가 아닌 기간) 계절이나 이벤트에 맞춘 다양한 상품 포트폴리오를 구성하여, 연중 내내 고객의 관심을 끌도록하며, 고객의 피드백과 구매 데이터를 기반으로 상품 라인업을 지속적으로 개선합니다\n"
      ],
      "metadata": {
        "id": "Pk0V4EDG1GDK"
      }
    },
    {
      "cell_type": "markdown",
      "source": [
        "## 미션7) 다변량 회귀분석을 수행하여 크리스마스 기간 전후와 크리스마스 관련 상품과 비관련 상품 간의 판매량(Quantity) 차이를 'UnitPrice'와 'Country'와 함께 분석합니다.\n",
        "\n",
        "* 판매량(Quantity)을 종속변수로 하여, 크리스마스 관련 상품 여부(IsChristmasProduct), 단가(UnitPrice), 국가(Country) 등을 독립변수로 포함하는 다변량 선형 회귀모델을 구축합니다.\n",
        "* statsmodels 라이브러리(statsmodels.formula.api 의 ols)를 사용하여 모델을 구축하고, 결과를 해석합니다.\n",
        "* 분석 결과를 해석하고, 이를 바탕으로 크리스마스 시즌 판매 전략에 대한 권장 사항을 제시합니다.\n",
        "* 분석 과정과 결과, 그리고 비즈니스 전략에 대한 권장 사항을 포함하는 보고서를 작성합니다.\n",
        "* 다음 주어진 코드를 활용합니다.\n",
        "\n",
        "```python\n",
        "from statsmodels.formula.api import ols\n",
        "\n",
        "# ols.summary()를 이용해 볼 수 있습니다.\n",
        "```"
      ],
      "metadata": {
        "id": "bH8W-kUIJD_6"
      }
    },
    {
      "cell_type": "code",
      "source": [
        "from statsmodels.formula.api import ols"
      ],
      "metadata": {
        "id": "7XBHfDh6JEjT"
      },
      "execution_count": 37,
      "outputs": []
    },
    {
      "cell_type": "code",
      "source": [
        "model = ols(formula='Quantity ~ IsChristmasProduct + UnitPrice + Country', data=df_promotion).fit()"
      ],
      "metadata": {
        "id": "fYeT_wv72OeS"
      },
      "execution_count": 38,
      "outputs": []
    },
    {
      "cell_type": "code",
      "source": [
        "print(model.summary())"
      ],
      "metadata": {
        "colab": {
          "base_uri": "https://localhost:8080/"
        },
        "id": "HilWjulH2OcH",
        "outputId": "65de5914-963f-42f8-da56-18b87a85aa07"
      },
      "execution_count": 39,
      "outputs": [
        {
          "output_type": "stream",
          "name": "stdout",
          "text": [
            "                            OLS Regression Results                            \n",
            "==============================================================================\n",
            "Dep. Variable:               Quantity   R-squared:                       0.027\n",
            "Model:                            OLS   Adj. R-squared:                  0.026\n",
            "Method:                 Least Squares   F-statistic:                     31.87\n",
            "Date:                Tue, 16 Jul 2024   Prob (F-statistic):          5.46e-138\n",
            "Time:                        08:03:39   Log-Likelihood:            -1.3687e+05\n",
            "No. Observations:               26157   AIC:                         2.738e+05\n",
            "Df Residuals:                   26133   BIC:                         2.740e+05\n",
            "Df Model:                          23                                         \n",
            "Covariance Type:            nonrobust                                         \n",
            "==============================================================================================\n",
            "                                 coef    std err          t      P>|t|      [0.025      0.975]\n",
            "----------------------------------------------------------------------------------------------\n",
            "Intercept                     16.8705      8.016      2.104      0.035       1.158      32.583\n",
            "IsChristmasProduct[T.True]    -0.7779      1.172     -0.664      0.507      -3.075       1.520\n",
            "Country[T.Austria]            -6.0392     17.920     -0.337      0.736     -41.163      29.084\n",
            "Country[T.Belgium]             3.1887      9.265      0.344      0.731     -14.972      21.349\n",
            "Country[T.Channel Islands]    -6.9579     13.608     -0.511      0.609     -33.630      19.714\n",
            "Country[T.Cyprus]             -4.4939      9.433     -0.476      0.634     -22.983      13.995\n",
            "Country[T.Denmark]             8.3909     12.921      0.649      0.516     -16.935      33.717\n",
            "Country[T.EIRE]                1.7074      8.390      0.204      0.839     -14.737      18.152\n",
            "Country[T.Finland]            58.5934     13.605      4.307      0.000      31.927      85.260\n",
            "Country[T.France]             -3.4033      8.304     -0.410      0.682     -19.679      12.872\n",
            "Country[T.Germany]            -1.2925      8.260     -0.156      0.876     -17.482      14.898\n",
            "Country[T.Iceland]            -4.9877     11.424     -0.437      0.662     -27.379      17.404\n",
            "Country[T.Italy]              -6.6440     10.751     -0.618      0.537     -27.717      14.429\n",
            "Country[T.Japan]              47.1576      9.790      4.817      0.000      27.969      66.346\n",
            "Country[T.Lithuania]           3.3680     11.087      0.304      0.761     -18.364      25.100\n",
            "Country[T.Netherlands]        78.9641      9.631      8.199      0.000      60.086      97.842\n",
            "Country[T.Norway]              8.3921      8.844      0.949      0.343      -8.942      25.726\n",
            "Country[T.Poland]              1.9375     17.919      0.108      0.914     -33.184      37.059\n",
            "Country[T.Portugal]           -6.0620      9.051     -0.670      0.503     -23.803      11.679\n",
            "Country[T.Spain]              -3.3852      9.572     -0.354      0.724     -22.147      15.376\n",
            "Country[T.Sweden]            136.1033     11.969     11.371      0.000     112.643     159.564\n",
            "Country[T.Switzerland]        -0.6570     10.303     -0.064      0.949     -20.852      19.538\n",
            "Country[T.United Kingdom]     -3.9356      8.019     -0.491      0.624     -19.653      11.782\n",
            "UnitPrice                     -0.5510      0.054    -10.226      0.000      -0.657      -0.445\n",
            "==============================================================================\n",
            "Omnibus:                    67557.031   Durbin-Watson:                   1.314\n",
            "Prob(Omnibus):                  0.000   Jarque-Bera (JB):       1893061778.356\n",
            "Skew:                          29.601   Prob(JB):                         0.00\n",
            "Kurtosis:                    1319.605   Cond. No.                         841.\n",
            "==============================================================================\n",
            "\n",
            "Notes:\n",
            "[1] Standard Errors assume that the covariance matrix of the errors is correctly specified.\n"
          ]
        }
      ]
    },
    {
      "cell_type": "markdown",
      "source": [
        "#### 회귀계수(coef) 해석\n",
        "- 절편 (Intercept): 모든 독립 변수의 값이 0일 때의 예상 판매량은 16.8705입니다\n",
        "- 크리스마스 관련 상품 여부 (IsChristmasProduct): 해당 상품이 크리스마스 관련 상품일때 판매량이 평균적으로 0.7779 감소합니다. 그러나 p-값이 0.507로 높아 통계적으로 유의미하지 않습니다\n",
        "- 단가 (UnitPrice): 단가가 1 단위 증가할 때 판매량이 평균적으로 0.5510 감소합니다. 이는 p-값이 0.000으로 매우 유의미합니다.\n",
        "- 특정 국가의 회귀계수는 해당 국가에서의 판매량이 다른 국가에 비해 얼마나 증가하거나 감소하는지를 나타냅니다\n",
        "- 예를 들어, Finland: 58.5934, Japan: 47.1576, Netherlands: 78.9641, Sweden: 136.1033는 유의미한 양의 계수를 가지고 있으며, 이는 이 국가들에서 판매량이 다른 국가에 비해 더 높다는 것을 의미합니다\n",
        "- 대부분의 다른 국가들은 통계적으로 유의미하지 않은 계수를 가지고 있습니다"
      ],
      "metadata": {
        "id": "4gcGnGYz6NTL"
      }
    },
    {
      "cell_type": "markdown",
      "source": [
        "#### 모델 성능\n",
        "- 결정계수 (R-squared): 모델이 종속 변수(판매량)의 변동을 2.7%만 설명한다는 것을 의미합니다. 이는 모델이 비교적 낮은 설명력을 가지고 있음을 나타냅니다\n",
        "- F-statistic: 31.87, Prob (F-statistic): 5.46e-138은 모델 전체가 통계적으로 유의미함을 나타냅니다"
      ],
      "metadata": {
        "id": "iK0gzCju8bOS"
      }
    },
    {
      "cell_type": "markdown",
      "source": [
        "### [크리스마스 시즌 판매 전략 분석 보고서]\n",
        "\n",
        "#### 1.분석 과정\n",
        "- 데이터 수집 및 전처리 수행\n",
        "- statsmodels 라이브러리의 ols(Ordinary Least Squares) 함수를 사용하여 다변량 선형 회귀모델을 구축\n",
        "- 모델의 적합성을 평가하고, 각 변수의 회귀 계수를 해석\n",
        "\n",
        "#### 2.분석 결과\n",
        "- 모델이 종속 변수(판매량)의 변동을 2.7%만 설명하여 비교적 낮은 설명력을 보였습니다\n",
        "- 모델 전체가 통계적으로 유의미함을 나타냅니다.\n",
        "- 회귀 계수 해석은 상기 부분 참조\n",
        "\n",
        "#### 3.권장 사항\n",
        "- 크리스마스 관련 상품의 판매량을 증진시키기 위해 특별 프로모션을 강화할 필요가 있습니다\n",
        "- 단가가 높은 상품의 판매량을 증가시키기 위해 할인 행사나 패키지 판매를 고려할 필요가 있습니다\n",
        "- 판매량이 높은 국가들(예: 핀란드, 일본, 네덜란드, 스웨덴)에서는 재고를 충분히 확보하고 빠른 공급망 관리를 통해 수요를 충족시킬 필요가 있습니다\n",
        "- 판매량이 낮은 국가들에서는 재고를 적절히 조절하여 불필요한 재고 비용을 줄일 필요가 있습니다\n",
        "- 크리스마스 관련 상품과 비관련 상품을 함께 묶어 판매하는 크로스 프로모션을 통해 판매량을 증대시킬 필요가 있습니다"
      ],
      "metadata": {
        "id": "07yZjJkc-WQa"
      }
    },
    {
      "cell_type": "markdown",
      "source": [
        "## 미션8) 온라인 소매 데이터를 사용하여 고객이 특정 상품을 구매할지 여부를 예측합니다.\n",
        "이 예측 모델을 사용하여 타겟 마케팅 전략을 수립하고, 재고 관리를 최적화합니다. 고객의 특정 상품 구매 여부(구매/미구매)를 예측하는 이진 분류 모델을 구축합니다.\n",
        "\n",
        "\n",
        "1) 타겟 변수 생성: 'WHITE HANGING HEART T-LIGHT HOLDER' 상품을 구매했는지 여부를 나타내는 이진 타겟 변수(0: 미구매, 1: 구매)를 생성합니다.\\\n",
        "2) 특성(feature) 선택: 구매 예측에 영향을 미칠 수 있는 변수들을 선택합니다. 예를 들어, 'UnitPrice', 'Quantity', 'CustomerID', 'Country' 등이 될 수 있습니다.\\\n",
        "3) 범주형 변수 처리: 'Country'와 같은 범주형 변수를 숫자로 변환합니다. 원-핫 인코딩 등을 사용할 수 있습니다.\\\n",
        "4) 데이터 분할: 모델 학습을 위해 데이터를 훈련 세트와 테스트 세트로 분할합니다.\\\n",
        "5) 로지스틱 회귀 모델 생성 및 학습합니다.\\\n",
        "6) 모델을 평가 합니다."
      ],
      "metadata": {
        "id": "Vzq22y-6JMtN"
      }
    },
    {
      "cell_type": "code",
      "source": [
        "from sklearn.model_selection import train_test_split\n",
        "from sklearn.linear_model import LogisticRegression\n",
        "from sklearn.metrics import classification_report, accuracy_score"
      ],
      "metadata": {
        "id": "xGQS9JhXJM_B"
      },
      "execution_count": 40,
      "outputs": []
    },
    {
      "cell_type": "code",
      "source": [
        "df['IsPurchased'] = df['Description'].str.contains('WHITE HANGING HEART T-LIGHT HOLDER').astype(int)"
      ],
      "metadata": {
        "id": "9tUwrlFgFO8o"
      },
      "execution_count": 41,
      "outputs": []
    },
    {
      "cell_type": "code",
      "source": [
        "df.head(2)"
      ],
      "metadata": {
        "colab": {
          "base_uri": "https://localhost:8080/",
          "height": 112
        },
        "id": "vwcZagYWFiUa",
        "outputId": "60b69af4-4cc4-4e3e-c229-44e498850be9"
      },
      "execution_count": 42,
      "outputs": [
        {
          "output_type": "execute_result",
          "data": {
            "text/plain": [
              "  InvoiceNo StockCode                         Description  Quantity  \\\n",
              "0    536365    85123A  WHITE HANGING HEART T-LIGHT HOLDER         6   \n",
              "1    536365     71053                 WHITE METAL LANTERN         6   \n",
              "\n",
              "          InvoiceDate  UnitPrice  CustomerID         Country  InvoiceMonth  \\\n",
              "0 2010-12-01 08:26:00       2.55     17850.0  United Kingdom            12   \n",
              "1 2010-12-01 08:26:00       3.39     17850.0  United Kingdom            12   \n",
              "\n",
              "   TotalPrice  DayOfWeek WeekEnd  IsPurchased  \n",
              "0       15.30          2      주중            1  \n",
              "1       20.34          2      주중            0  "
            ],
            "text/html": [
              "\n",
              "  <div id=\"df-82cf1ced-39ae-4188-a6f9-1ee9516f93b3\" class=\"colab-df-container\">\n",
              "    <div>\n",
              "<style scoped>\n",
              "    .dataframe tbody tr th:only-of-type {\n",
              "        vertical-align: middle;\n",
              "    }\n",
              "\n",
              "    .dataframe tbody tr th {\n",
              "        vertical-align: top;\n",
              "    }\n",
              "\n",
              "    .dataframe thead th {\n",
              "        text-align: right;\n",
              "    }\n",
              "</style>\n",
              "<table border=\"1\" class=\"dataframe\">\n",
              "  <thead>\n",
              "    <tr style=\"text-align: right;\">\n",
              "      <th></th>\n",
              "      <th>InvoiceNo</th>\n",
              "      <th>StockCode</th>\n",
              "      <th>Description</th>\n",
              "      <th>Quantity</th>\n",
              "      <th>InvoiceDate</th>\n",
              "      <th>UnitPrice</th>\n",
              "      <th>CustomerID</th>\n",
              "      <th>Country</th>\n",
              "      <th>InvoiceMonth</th>\n",
              "      <th>TotalPrice</th>\n",
              "      <th>DayOfWeek</th>\n",
              "      <th>WeekEnd</th>\n",
              "      <th>IsPurchased</th>\n",
              "    </tr>\n",
              "  </thead>\n",
              "  <tbody>\n",
              "    <tr>\n",
              "      <th>0</th>\n",
              "      <td>536365</td>\n",
              "      <td>85123A</td>\n",
              "      <td>WHITE HANGING HEART T-LIGHT HOLDER</td>\n",
              "      <td>6</td>\n",
              "      <td>2010-12-01 08:26:00</td>\n",
              "      <td>2.55</td>\n",
              "      <td>17850.0</td>\n",
              "      <td>United Kingdom</td>\n",
              "      <td>12</td>\n",
              "      <td>15.30</td>\n",
              "      <td>2</td>\n",
              "      <td>주중</td>\n",
              "      <td>1</td>\n",
              "    </tr>\n",
              "    <tr>\n",
              "      <th>1</th>\n",
              "      <td>536365</td>\n",
              "      <td>71053</td>\n",
              "      <td>WHITE METAL LANTERN</td>\n",
              "      <td>6</td>\n",
              "      <td>2010-12-01 08:26:00</td>\n",
              "      <td>3.39</td>\n",
              "      <td>17850.0</td>\n",
              "      <td>United Kingdom</td>\n",
              "      <td>12</td>\n",
              "      <td>20.34</td>\n",
              "      <td>2</td>\n",
              "      <td>주중</td>\n",
              "      <td>0</td>\n",
              "    </tr>\n",
              "  </tbody>\n",
              "</table>\n",
              "</div>\n",
              "    <div class=\"colab-df-buttons\">\n",
              "\n",
              "  <div class=\"colab-df-container\">\n",
              "    <button class=\"colab-df-convert\" onclick=\"convertToInteractive('df-82cf1ced-39ae-4188-a6f9-1ee9516f93b3')\"\n",
              "            title=\"Convert this dataframe to an interactive table.\"\n",
              "            style=\"display:none;\">\n",
              "\n",
              "  <svg xmlns=\"http://www.w3.org/2000/svg\" height=\"24px\" viewBox=\"0 -960 960 960\">\n",
              "    <path d=\"M120-120v-720h720v720H120Zm60-500h600v-160H180v160Zm220 220h160v-160H400v160Zm0 220h160v-160H400v160ZM180-400h160v-160H180v160Zm440 0h160v-160H620v160ZM180-180h160v-160H180v160Zm440 0h160v-160H620v160Z\"/>\n",
              "  </svg>\n",
              "    </button>\n",
              "\n",
              "  <style>\n",
              "    .colab-df-container {\n",
              "      display:flex;\n",
              "      gap: 12px;\n",
              "    }\n",
              "\n",
              "    .colab-df-convert {\n",
              "      background-color: #E8F0FE;\n",
              "      border: none;\n",
              "      border-radius: 50%;\n",
              "      cursor: pointer;\n",
              "      display: none;\n",
              "      fill: #1967D2;\n",
              "      height: 32px;\n",
              "      padding: 0 0 0 0;\n",
              "      width: 32px;\n",
              "    }\n",
              "\n",
              "    .colab-df-convert:hover {\n",
              "      background-color: #E2EBFA;\n",
              "      box-shadow: 0px 1px 2px rgba(60, 64, 67, 0.3), 0px 1px 3px 1px rgba(60, 64, 67, 0.15);\n",
              "      fill: #174EA6;\n",
              "    }\n",
              "\n",
              "    .colab-df-buttons div {\n",
              "      margin-bottom: 4px;\n",
              "    }\n",
              "\n",
              "    [theme=dark] .colab-df-convert {\n",
              "      background-color: #3B4455;\n",
              "      fill: #D2E3FC;\n",
              "    }\n",
              "\n",
              "    [theme=dark] .colab-df-convert:hover {\n",
              "      background-color: #434B5C;\n",
              "      box-shadow: 0px 1px 3px 1px rgba(0, 0, 0, 0.15);\n",
              "      filter: drop-shadow(0px 1px 2px rgba(0, 0, 0, 0.3));\n",
              "      fill: #FFFFFF;\n",
              "    }\n",
              "  </style>\n",
              "\n",
              "    <script>\n",
              "      const buttonEl =\n",
              "        document.querySelector('#df-82cf1ced-39ae-4188-a6f9-1ee9516f93b3 button.colab-df-convert');\n",
              "      buttonEl.style.display =\n",
              "        google.colab.kernel.accessAllowed ? 'block' : 'none';\n",
              "\n",
              "      async function convertToInteractive(key) {\n",
              "        const element = document.querySelector('#df-82cf1ced-39ae-4188-a6f9-1ee9516f93b3');\n",
              "        const dataTable =\n",
              "          await google.colab.kernel.invokeFunction('convertToInteractive',\n",
              "                                                    [key], {});\n",
              "        if (!dataTable) return;\n",
              "\n",
              "        const docLinkHtml = 'Like what you see? Visit the ' +\n",
              "          '<a target=\"_blank\" href=https://colab.research.google.com/notebooks/data_table.ipynb>data table notebook</a>'\n",
              "          + ' to learn more about interactive tables.';\n",
              "        element.innerHTML = '';\n",
              "        dataTable['output_type'] = 'display_data';\n",
              "        await google.colab.output.renderOutput(dataTable, element);\n",
              "        const docLink = document.createElement('div');\n",
              "        docLink.innerHTML = docLinkHtml;\n",
              "        element.appendChild(docLink);\n",
              "      }\n",
              "    </script>\n",
              "  </div>\n",
              "\n",
              "\n",
              "<div id=\"df-0ca80235-7362-460e-aca3-78ad3a7c1e71\">\n",
              "  <button class=\"colab-df-quickchart\" onclick=\"quickchart('df-0ca80235-7362-460e-aca3-78ad3a7c1e71')\"\n",
              "            title=\"Suggest charts\"\n",
              "            style=\"display:none;\">\n",
              "\n",
              "<svg xmlns=\"http://www.w3.org/2000/svg\" height=\"24px\"viewBox=\"0 0 24 24\"\n",
              "     width=\"24px\">\n",
              "    <g>\n",
              "        <path d=\"M19 3H5c-1.1 0-2 .9-2 2v14c0 1.1.9 2 2 2h14c1.1 0 2-.9 2-2V5c0-1.1-.9-2-2-2zM9 17H7v-7h2v7zm4 0h-2V7h2v10zm4 0h-2v-4h2v4z\"/>\n",
              "    </g>\n",
              "</svg>\n",
              "  </button>\n",
              "\n",
              "<style>\n",
              "  .colab-df-quickchart {\n",
              "      --bg-color: #E8F0FE;\n",
              "      --fill-color: #1967D2;\n",
              "      --hover-bg-color: #E2EBFA;\n",
              "      --hover-fill-color: #174EA6;\n",
              "      --disabled-fill-color: #AAA;\n",
              "      --disabled-bg-color: #DDD;\n",
              "  }\n",
              "\n",
              "  [theme=dark] .colab-df-quickchart {\n",
              "      --bg-color: #3B4455;\n",
              "      --fill-color: #D2E3FC;\n",
              "      --hover-bg-color: #434B5C;\n",
              "      --hover-fill-color: #FFFFFF;\n",
              "      --disabled-bg-color: #3B4455;\n",
              "      --disabled-fill-color: #666;\n",
              "  }\n",
              "\n",
              "  .colab-df-quickchart {\n",
              "    background-color: var(--bg-color);\n",
              "    border: none;\n",
              "    border-radius: 50%;\n",
              "    cursor: pointer;\n",
              "    display: none;\n",
              "    fill: var(--fill-color);\n",
              "    height: 32px;\n",
              "    padding: 0;\n",
              "    width: 32px;\n",
              "  }\n",
              "\n",
              "  .colab-df-quickchart:hover {\n",
              "    background-color: var(--hover-bg-color);\n",
              "    box-shadow: 0 1px 2px rgba(60, 64, 67, 0.3), 0 1px 3px 1px rgba(60, 64, 67, 0.15);\n",
              "    fill: var(--button-hover-fill-color);\n",
              "  }\n",
              "\n",
              "  .colab-df-quickchart-complete:disabled,\n",
              "  .colab-df-quickchart-complete:disabled:hover {\n",
              "    background-color: var(--disabled-bg-color);\n",
              "    fill: var(--disabled-fill-color);\n",
              "    box-shadow: none;\n",
              "  }\n",
              "\n",
              "  .colab-df-spinner {\n",
              "    border: 2px solid var(--fill-color);\n",
              "    border-color: transparent;\n",
              "    border-bottom-color: var(--fill-color);\n",
              "    animation:\n",
              "      spin 1s steps(1) infinite;\n",
              "  }\n",
              "\n",
              "  @keyframes spin {\n",
              "    0% {\n",
              "      border-color: transparent;\n",
              "      border-bottom-color: var(--fill-color);\n",
              "      border-left-color: var(--fill-color);\n",
              "    }\n",
              "    20% {\n",
              "      border-color: transparent;\n",
              "      border-left-color: var(--fill-color);\n",
              "      border-top-color: var(--fill-color);\n",
              "    }\n",
              "    30% {\n",
              "      border-color: transparent;\n",
              "      border-left-color: var(--fill-color);\n",
              "      border-top-color: var(--fill-color);\n",
              "      border-right-color: var(--fill-color);\n",
              "    }\n",
              "    40% {\n",
              "      border-color: transparent;\n",
              "      border-right-color: var(--fill-color);\n",
              "      border-top-color: var(--fill-color);\n",
              "    }\n",
              "    60% {\n",
              "      border-color: transparent;\n",
              "      border-right-color: var(--fill-color);\n",
              "    }\n",
              "    80% {\n",
              "      border-color: transparent;\n",
              "      border-right-color: var(--fill-color);\n",
              "      border-bottom-color: var(--fill-color);\n",
              "    }\n",
              "    90% {\n",
              "      border-color: transparent;\n",
              "      border-bottom-color: var(--fill-color);\n",
              "    }\n",
              "  }\n",
              "</style>\n",
              "\n",
              "  <script>\n",
              "    async function quickchart(key) {\n",
              "      const quickchartButtonEl =\n",
              "        document.querySelector('#' + key + ' button');\n",
              "      quickchartButtonEl.disabled = true;  // To prevent multiple clicks.\n",
              "      quickchartButtonEl.classList.add('colab-df-spinner');\n",
              "      try {\n",
              "        const charts = await google.colab.kernel.invokeFunction(\n",
              "            'suggestCharts', [key], {});\n",
              "      } catch (error) {\n",
              "        console.error('Error during call to suggestCharts:', error);\n",
              "      }\n",
              "      quickchartButtonEl.classList.remove('colab-df-spinner');\n",
              "      quickchartButtonEl.classList.add('colab-df-quickchart-complete');\n",
              "    }\n",
              "    (() => {\n",
              "      let quickchartButtonEl =\n",
              "        document.querySelector('#df-0ca80235-7362-460e-aca3-78ad3a7c1e71 button');\n",
              "      quickchartButtonEl.style.display =\n",
              "        google.colab.kernel.accessAllowed ? 'block' : 'none';\n",
              "    })();\n",
              "  </script>\n",
              "</div>\n",
              "\n",
              "    </div>\n",
              "  </div>\n"
            ],
            "application/vnd.google.colaboratory.intrinsic+json": {
              "type": "dataframe",
              "variable_name": "df"
            }
          },
          "metadata": {},
          "execution_count": 42
        }
      ]
    },
    {
      "cell_type": "code",
      "source": [
        "features = ['UnitPrice', 'Quantity', 'CustomerID', 'Country']\n",
        "df_features = df[features + ['IsPurchased']].dropna(subset=features)\n",
        "df_features = pd.get_dummies(df_features, columns=['Country'])"
      ],
      "metadata": {
        "id": "BvcmvReqFiLx"
      },
      "execution_count": 43,
      "outputs": []
    },
    {
      "cell_type": "code",
      "source": [
        "X = df_features.drop('IsPurchased', axis=1)\n",
        "y = df_features['IsPurchased']\n",
        "X_train, X_test, y_train, y_test = train_test_split(X, y, test_size=0.2, random_state=42)"
      ],
      "metadata": {
        "id": "c9pFJ582FiFK"
      },
      "execution_count": 44,
      "outputs": []
    },
    {
      "cell_type": "code",
      "source": [
        "model = LogisticRegression(max_iter=1000)\n",
        "model.fit(X_train, y_train)"
      ],
      "metadata": {
        "colab": {
          "base_uri": "https://localhost:8080/",
          "height": 75
        },
        "id": "DgOzdZTkFh97",
        "outputId": "8eba2080-790a-48a3-dd19-1e3885a83857"
      },
      "execution_count": 45,
      "outputs": [
        {
          "output_type": "execute_result",
          "data": {
            "text/plain": [
              "LogisticRegression(max_iter=1000)"
            ],
            "text/html": [
              "<style>#sk-container-id-1 {color: black;background-color: white;}#sk-container-id-1 pre{padding: 0;}#sk-container-id-1 div.sk-toggleable {background-color: white;}#sk-container-id-1 label.sk-toggleable__label {cursor: pointer;display: block;width: 100%;margin-bottom: 0;padding: 0.3em;box-sizing: border-box;text-align: center;}#sk-container-id-1 label.sk-toggleable__label-arrow:before {content: \"▸\";float: left;margin-right: 0.25em;color: #696969;}#sk-container-id-1 label.sk-toggleable__label-arrow:hover:before {color: black;}#sk-container-id-1 div.sk-estimator:hover label.sk-toggleable__label-arrow:before {color: black;}#sk-container-id-1 div.sk-toggleable__content {max-height: 0;max-width: 0;overflow: hidden;text-align: left;background-color: #f0f8ff;}#sk-container-id-1 div.sk-toggleable__content pre {margin: 0.2em;color: black;border-radius: 0.25em;background-color: #f0f8ff;}#sk-container-id-1 input.sk-toggleable__control:checked~div.sk-toggleable__content {max-height: 200px;max-width: 100%;overflow: auto;}#sk-container-id-1 input.sk-toggleable__control:checked~label.sk-toggleable__label-arrow:before {content: \"▾\";}#sk-container-id-1 div.sk-estimator input.sk-toggleable__control:checked~label.sk-toggleable__label {background-color: #d4ebff;}#sk-container-id-1 div.sk-label input.sk-toggleable__control:checked~label.sk-toggleable__label {background-color: #d4ebff;}#sk-container-id-1 input.sk-hidden--visually {border: 0;clip: rect(1px 1px 1px 1px);clip: rect(1px, 1px, 1px, 1px);height: 1px;margin: -1px;overflow: hidden;padding: 0;position: absolute;width: 1px;}#sk-container-id-1 div.sk-estimator {font-family: monospace;background-color: #f0f8ff;border: 1px dotted black;border-radius: 0.25em;box-sizing: border-box;margin-bottom: 0.5em;}#sk-container-id-1 div.sk-estimator:hover {background-color: #d4ebff;}#sk-container-id-1 div.sk-parallel-item::after {content: \"\";width: 100%;border-bottom: 1px solid gray;flex-grow: 1;}#sk-container-id-1 div.sk-label:hover label.sk-toggleable__label {background-color: #d4ebff;}#sk-container-id-1 div.sk-serial::before {content: \"\";position: absolute;border-left: 1px solid gray;box-sizing: border-box;top: 0;bottom: 0;left: 50%;z-index: 0;}#sk-container-id-1 div.sk-serial {display: flex;flex-direction: column;align-items: center;background-color: white;padding-right: 0.2em;padding-left: 0.2em;position: relative;}#sk-container-id-1 div.sk-item {position: relative;z-index: 1;}#sk-container-id-1 div.sk-parallel {display: flex;align-items: stretch;justify-content: center;background-color: white;position: relative;}#sk-container-id-1 div.sk-item::before, #sk-container-id-1 div.sk-parallel-item::before {content: \"\";position: absolute;border-left: 1px solid gray;box-sizing: border-box;top: 0;bottom: 0;left: 50%;z-index: -1;}#sk-container-id-1 div.sk-parallel-item {display: flex;flex-direction: column;z-index: 1;position: relative;background-color: white;}#sk-container-id-1 div.sk-parallel-item:first-child::after {align-self: flex-end;width: 50%;}#sk-container-id-1 div.sk-parallel-item:last-child::after {align-self: flex-start;width: 50%;}#sk-container-id-1 div.sk-parallel-item:only-child::after {width: 0;}#sk-container-id-1 div.sk-dashed-wrapped {border: 1px dashed gray;margin: 0 0.4em 0.5em 0.4em;box-sizing: border-box;padding-bottom: 0.4em;background-color: white;}#sk-container-id-1 div.sk-label label {font-family: monospace;font-weight: bold;display: inline-block;line-height: 1.2em;}#sk-container-id-1 div.sk-label-container {text-align: center;}#sk-container-id-1 div.sk-container {/* jupyter's `normalize.less` sets `[hidden] { display: none; }` but bootstrap.min.css set `[hidden] { display: none !important; }` so we also need the `!important` here to be able to override the default hidden behavior on the sphinx rendered scikit-learn.org. See: https://github.com/scikit-learn/scikit-learn/issues/21755 */display: inline-block !important;position: relative;}#sk-container-id-1 div.sk-text-repr-fallback {display: none;}</style><div id=\"sk-container-id-1\" class=\"sk-top-container\"><div class=\"sk-text-repr-fallback\"><pre>LogisticRegression(max_iter=1000)</pre><b>In a Jupyter environment, please rerun this cell to show the HTML representation or trust the notebook. <br />On GitHub, the HTML representation is unable to render, please try loading this page with nbviewer.org.</b></div><div class=\"sk-container\" hidden><div class=\"sk-item\"><div class=\"sk-estimator sk-toggleable\"><input class=\"sk-toggleable__control sk-hidden--visually\" id=\"sk-estimator-id-1\" type=\"checkbox\" checked><label for=\"sk-estimator-id-1\" class=\"sk-toggleable__label sk-toggleable__label-arrow\">LogisticRegression</label><div class=\"sk-toggleable__content\"><pre>LogisticRegression(max_iter=1000)</pre></div></div></div></div></div>"
            ]
          },
          "metadata": {},
          "execution_count": 45
        }
      ]
    },
    {
      "cell_type": "code",
      "source": [
        "y_pred = model.predict(X_test)\n",
        "\n",
        "accuracy = accuracy_score(y_test, y_pred)\n",
        "report = classification_report(y_test, y_pred)\n",
        "\n",
        "print(f'Accuracy: {accuracy}')\n",
        "print(report)"
      ],
      "metadata": {
        "colab": {
          "base_uri": "https://localhost:8080/"
        },
        "id": "qFhd_evEFhx0",
        "outputId": "e21f3d1d-859b-4476-a275-453608b0533a"
      },
      "execution_count": 46,
      "outputs": [
        {
          "output_type": "stream",
          "name": "stderr",
          "text": [
            "/usr/local/lib/python3.10/dist-packages/sklearn/metrics/_classification.py:1344: UndefinedMetricWarning: Precision and F-score are ill-defined and being set to 0.0 in labels with no predicted samples. Use `zero_division` parameter to control this behavior.\n",
            "  _warn_prf(average, modifier, msg_start, len(result))\n",
            "/usr/local/lib/python3.10/dist-packages/sklearn/metrics/_classification.py:1344: UndefinedMetricWarning: Precision and F-score are ill-defined and being set to 0.0 in labels with no predicted samples. Use `zero_division` parameter to control this behavior.\n",
            "  _warn_prf(average, modifier, msg_start, len(result))\n"
          ]
        },
        {
          "output_type": "stream",
          "name": "stdout",
          "text": [
            "Accuracy: 0.9948980232981892\n",
            "              precision    recall  f1-score   support\n",
            "\n",
            "           0       0.99      1.00      1.00     79171\n",
            "           1       0.00      0.00      0.00       406\n",
            "\n",
            "    accuracy                           0.99     79577\n",
            "   macro avg       0.50      0.50      0.50     79577\n",
            "weighted avg       0.99      0.99      0.99     79577\n",
            "\n"
          ]
        },
        {
          "output_type": "stream",
          "name": "stderr",
          "text": [
            "/usr/local/lib/python3.10/dist-packages/sklearn/metrics/_classification.py:1344: UndefinedMetricWarning: Precision and F-score are ill-defined and being set to 0.0 in labels with no predicted samples. Use `zero_division` parameter to control this behavior.\n",
            "  _warn_prf(average, modifier, msg_start, len(result))\n"
          ]
        }
      ]
    },
    {
      "cell_type": "markdown",
      "source": [
        "- 모델의 전체 정확도는 약 99.49%로 매우 높습니다. 이는 테스트 세트에서 모델이 약 99.49%의 경우에 정확하게 예측했다는 것을 의미합니다\n",
        "- (Class 0, 미구매) Precision은 0.99로 모델이 미구매로 예측한 샘플 중 99%가 실제로 미구매입니다. Precision과 Recall의 조화 평균인 F1-Score는 1.00으로 Class 0에서 모델의 성능이 매우 우수함을 나타냅니다.\n",
        "- (Class 1, 구매) Precision은 0.00로 모델이 구매로 예측한 샘플 중 정확한 예측이 없습니다\n",
        "- (support) 각 클래스의 샘플수를 보면 Class 0은 79171, Class 1은 406으로 데이터가 불균형합니다\n",
        "- (macro avg) 모델이 클래스 1을 거의 예측하지 못했기 때문에, 모든 지표가 0.50으로 낮게 나타납니다\n",
        "- (Weighted Avg) 모델이 대부분의 경우를 정확하게 예측했기 때문에, 전체 지표가 높게 나타납니다"
      ],
      "metadata": {
        "id": "AyhK1gLDHhhq"
      }
    },
    {
      "cell_type": "markdown",
      "source": [
        "- (문제점) 모델이 Class 1(구매)을 거의 예측하지 못했습니다. 이는 데이터셋의 불균형 때문일 가능성이 큽니다. Class 0(미구매)의 샘플이 압도적으로 많아 모델이 Class 1을 학습하는 데 어려움을 겪었을 수 있습니다\n",
        "- (해결책) 오버샘플링 또는 언더샘플링"
      ],
      "metadata": {
        "id": "pt44bkH7JTd7"
      }
    },
    {
      "cell_type": "code",
      "source": [
        "from imblearn.over_sampling import SMOTE\n",
        "from sklearn.ensemble import RandomForestClassifier\n",
        "from sklearn.metrics import classification_report, accuracy_score"
      ],
      "metadata": {
        "id": "y3TYZmbeHJIc"
      },
      "execution_count": 47,
      "outputs": []
    },
    {
      "cell_type": "code",
      "source": [
        "# SMOTE를 사용한 오버샘플링\n",
        "smote = SMOTE(random_state=42)\n",
        "X_res, y_res = smote.fit_resample(X, y)"
      ],
      "metadata": {
        "id": "j94hVkOpKGcH"
      },
      "execution_count": 48,
      "outputs": []
    },
    {
      "cell_type": "code",
      "source": [
        "X_train, X_test, y_train, y_test = train_test_split(X_res, y_res, test_size=0.2, random_state=42)"
      ],
      "metadata": {
        "id": "wDS2q-XnKTzj"
      },
      "execution_count": 49,
      "outputs": []
    },
    {
      "cell_type": "code",
      "source": [
        "model = RandomForestClassifier(random_state=42)\n",
        "model.fit(X_train, y_train)\n"
      ],
      "metadata": {
        "colab": {
          "base_uri": "https://localhost:8080/",
          "height": 75
        },
        "id": "4zzcaxbJKYIQ",
        "outputId": "63aef176-9c0e-43c5-e1a3-e8460235486c"
      },
      "execution_count": 50,
      "outputs": [
        {
          "output_type": "execute_result",
          "data": {
            "text/plain": [
              "RandomForestClassifier(random_state=42)"
            ],
            "text/html": [
              "<style>#sk-container-id-2 {color: black;background-color: white;}#sk-container-id-2 pre{padding: 0;}#sk-container-id-2 div.sk-toggleable {background-color: white;}#sk-container-id-2 label.sk-toggleable__label {cursor: pointer;display: block;width: 100%;margin-bottom: 0;padding: 0.3em;box-sizing: border-box;text-align: center;}#sk-container-id-2 label.sk-toggleable__label-arrow:before {content: \"▸\";float: left;margin-right: 0.25em;color: #696969;}#sk-container-id-2 label.sk-toggleable__label-arrow:hover:before {color: black;}#sk-container-id-2 div.sk-estimator:hover label.sk-toggleable__label-arrow:before {color: black;}#sk-container-id-2 div.sk-toggleable__content {max-height: 0;max-width: 0;overflow: hidden;text-align: left;background-color: #f0f8ff;}#sk-container-id-2 div.sk-toggleable__content pre {margin: 0.2em;color: black;border-radius: 0.25em;background-color: #f0f8ff;}#sk-container-id-2 input.sk-toggleable__control:checked~div.sk-toggleable__content {max-height: 200px;max-width: 100%;overflow: auto;}#sk-container-id-2 input.sk-toggleable__control:checked~label.sk-toggleable__label-arrow:before {content: \"▾\";}#sk-container-id-2 div.sk-estimator input.sk-toggleable__control:checked~label.sk-toggleable__label {background-color: #d4ebff;}#sk-container-id-2 div.sk-label input.sk-toggleable__control:checked~label.sk-toggleable__label {background-color: #d4ebff;}#sk-container-id-2 input.sk-hidden--visually {border: 0;clip: rect(1px 1px 1px 1px);clip: rect(1px, 1px, 1px, 1px);height: 1px;margin: -1px;overflow: hidden;padding: 0;position: absolute;width: 1px;}#sk-container-id-2 div.sk-estimator {font-family: monospace;background-color: #f0f8ff;border: 1px dotted black;border-radius: 0.25em;box-sizing: border-box;margin-bottom: 0.5em;}#sk-container-id-2 div.sk-estimator:hover {background-color: #d4ebff;}#sk-container-id-2 div.sk-parallel-item::after {content: \"\";width: 100%;border-bottom: 1px solid gray;flex-grow: 1;}#sk-container-id-2 div.sk-label:hover label.sk-toggleable__label {background-color: #d4ebff;}#sk-container-id-2 div.sk-serial::before {content: \"\";position: absolute;border-left: 1px solid gray;box-sizing: border-box;top: 0;bottom: 0;left: 50%;z-index: 0;}#sk-container-id-2 div.sk-serial {display: flex;flex-direction: column;align-items: center;background-color: white;padding-right: 0.2em;padding-left: 0.2em;position: relative;}#sk-container-id-2 div.sk-item {position: relative;z-index: 1;}#sk-container-id-2 div.sk-parallel {display: flex;align-items: stretch;justify-content: center;background-color: white;position: relative;}#sk-container-id-2 div.sk-item::before, #sk-container-id-2 div.sk-parallel-item::before {content: \"\";position: absolute;border-left: 1px solid gray;box-sizing: border-box;top: 0;bottom: 0;left: 50%;z-index: -1;}#sk-container-id-2 div.sk-parallel-item {display: flex;flex-direction: column;z-index: 1;position: relative;background-color: white;}#sk-container-id-2 div.sk-parallel-item:first-child::after {align-self: flex-end;width: 50%;}#sk-container-id-2 div.sk-parallel-item:last-child::after {align-self: flex-start;width: 50%;}#sk-container-id-2 div.sk-parallel-item:only-child::after {width: 0;}#sk-container-id-2 div.sk-dashed-wrapped {border: 1px dashed gray;margin: 0 0.4em 0.5em 0.4em;box-sizing: border-box;padding-bottom: 0.4em;background-color: white;}#sk-container-id-2 div.sk-label label {font-family: monospace;font-weight: bold;display: inline-block;line-height: 1.2em;}#sk-container-id-2 div.sk-label-container {text-align: center;}#sk-container-id-2 div.sk-container {/* jupyter's `normalize.less` sets `[hidden] { display: none; }` but bootstrap.min.css set `[hidden] { display: none !important; }` so we also need the `!important` here to be able to override the default hidden behavior on the sphinx rendered scikit-learn.org. See: https://github.com/scikit-learn/scikit-learn/issues/21755 */display: inline-block !important;position: relative;}#sk-container-id-2 div.sk-text-repr-fallback {display: none;}</style><div id=\"sk-container-id-2\" class=\"sk-top-container\"><div class=\"sk-text-repr-fallback\"><pre>RandomForestClassifier(random_state=42)</pre><b>In a Jupyter environment, please rerun this cell to show the HTML representation or trust the notebook. <br />On GitHub, the HTML representation is unable to render, please try loading this page with nbviewer.org.</b></div><div class=\"sk-container\" hidden><div class=\"sk-item\"><div class=\"sk-estimator sk-toggleable\"><input class=\"sk-toggleable__control sk-hidden--visually\" id=\"sk-estimator-id-2\" type=\"checkbox\" checked><label for=\"sk-estimator-id-2\" class=\"sk-toggleable__label sk-toggleable__label-arrow\">RandomForestClassifier</label><div class=\"sk-toggleable__content\"><pre>RandomForestClassifier(random_state=42)</pre></div></div></div></div></div>"
            ]
          },
          "metadata": {},
          "execution_count": 50
        }
      ]
    },
    {
      "cell_type": "code",
      "source": [
        "y_pred = model.predict(X_test)"
      ],
      "metadata": {
        "id": "A7pqr0L-KcCJ"
      },
      "execution_count": 51,
      "outputs": []
    },
    {
      "cell_type": "code",
      "source": [
        "accuracy = accuracy_score(y_test, y_pred)\n",
        "report = classification_report(y_test, y_pred)\n",
        "\n",
        "print(f'Accuracy: {accuracy}')\n",
        "print(report)"
      ],
      "metadata": {
        "colab": {
          "base_uri": "https://localhost:8080/"
        },
        "id": "Ru2omcBJKpZ8",
        "outputId": "1a9a3574-4240-4854-9c12-fc1572987701"
      },
      "execution_count": 52,
      "outputs": [
        {
          "output_type": "stream",
          "name": "stdout",
          "text": [
            "Accuracy: 0.9872681457342605\n",
            "              precision    recall  f1-score   support\n",
            "\n",
            "           0       0.99      0.98      0.99     79214\n",
            "           1       0.98      0.99      0.99     79129\n",
            "\n",
            "    accuracy                           0.99    158343\n",
            "   macro avg       0.99      0.99      0.99    158343\n",
            "weighted avg       0.99      0.99      0.99    158343\n",
            "\n"
          ]
        }
      ]
    },
    {
      "cell_type": "code",
      "source": [],
      "metadata": {
        "id": "tqhWQwCBLDw4"
      },
      "execution_count": 52,
      "outputs": []
    }
  ]
}