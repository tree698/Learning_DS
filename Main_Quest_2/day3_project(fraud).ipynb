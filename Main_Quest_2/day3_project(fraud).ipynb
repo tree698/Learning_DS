{
 "cells": [
  {
   "cell_type": "code",
   "execution_count": 1,
   "id": "c76b05f0",
   "metadata": {},
   "outputs": [],
   "source": [
    "import pandas as pd\n",
    "import numpy as np\n",
    "import seaborn as sns"
   ]
  },
  {
   "cell_type": "code",
   "execution_count": 2,
   "id": "90e5b551",
   "metadata": {},
   "outputs": [],
   "source": [
    "cc_df = pd.read_csv('fraud.csv')"
   ]
  },
  {
   "cell_type": "code",
   "execution_count": 3,
   "id": "897c4dca",
   "metadata": {},
   "outputs": [],
   "source": [
    "pd.set_option('display.max_columns', 50)\n",
    "pd.set_option('display.max_rows', 50)"
   ]
  },
  {
   "cell_type": "markdown",
   "id": "b63de188",
   "metadata": {},
   "source": [
    "# 1. 데이터 둘러보기"
   ]
  },
  {
   "cell_type": "markdown",
   "id": "06008976",
   "metadata": {},
   "source": [
    "- 불분명한 컬럼명 확인\n",
    "    * amt:거래금액\n",
    "    * city_pop: 도시 인구\n",
    "    * dob: 생일\n",
    "- 개인정보 관련 컬럼 삭제 필요\n",
    "- 결측치 없으나 is_fraud 컬럼에 0/1 이외 값 유무 확인 필요\n",
    "- 각 컬럼 타입은 큰 이상 없음\n",
    "- 각 컬럼 값의 형식/범위가 맞는지 확인 필요"
   ]
  },
  {
   "cell_type": "code",
   "execution_count": 4,
   "id": "cf503e3e",
   "metadata": {},
   "outputs": [
    {
     "data": {
      "text/plain": [
       "(491134, 22)"
      ]
     },
     "execution_count": 4,
     "metadata": {},
     "output_type": "execute_result"
    }
   ],
   "source": [
    "cc_df.shape"
   ]
  },
  {
   "cell_type": "code",
   "execution_count": 5,
   "id": "bcea1541",
   "metadata": {},
   "outputs": [
    {
     "data": {
      "text/html": [
       "<div>\n",
       "<style scoped>\n",
       "    .dataframe tbody tr th:only-of-type {\n",
       "        vertical-align: middle;\n",
       "    }\n",
       "\n",
       "    .dataframe tbody tr th {\n",
       "        vertical-align: top;\n",
       "    }\n",
       "\n",
       "    .dataframe thead th {\n",
       "        text-align: right;\n",
       "    }\n",
       "</style>\n",
       "<table border=\"1\" class=\"dataframe\">\n",
       "  <thead>\n",
       "    <tr style=\"text-align: right;\">\n",
       "      <th></th>\n",
       "      <th>trans_date_trans_time</th>\n",
       "      <th>cc_num</th>\n",
       "      <th>merchant</th>\n",
       "      <th>category</th>\n",
       "      <th>amt</th>\n",
       "      <th>first</th>\n",
       "      <th>last</th>\n",
       "      <th>gender</th>\n",
       "      <th>street</th>\n",
       "      <th>city</th>\n",
       "      <th>state</th>\n",
       "      <th>zip</th>\n",
       "      <th>lat</th>\n",
       "      <th>long</th>\n",
       "      <th>city_pop</th>\n",
       "      <th>job</th>\n",
       "      <th>dob</th>\n",
       "      <th>trans_num</th>\n",
       "      <th>unix_time</th>\n",
       "      <th>merch_lat</th>\n",
       "      <th>merch_long</th>\n",
       "      <th>is_fraud</th>\n",
       "    </tr>\n",
       "  </thead>\n",
       "  <tbody>\n",
       "    <tr>\n",
       "      <th>0</th>\n",
       "      <td>2019-01-01 00:00:44</td>\n",
       "      <td>630423337322</td>\n",
       "      <td>fraud_Heller, Gutmann and Zieme</td>\n",
       "      <td>grocery_pos</td>\n",
       "      <td>107.23</td>\n",
       "      <td>Stephanie</td>\n",
       "      <td>Gill</td>\n",
       "      <td>F</td>\n",
       "      <td>43039 Riley Greens Suite 393</td>\n",
       "      <td>Orient</td>\n",
       "      <td>WA</td>\n",
       "      <td>99160</td>\n",
       "      <td>48.8878</td>\n",
       "      <td>-118.2105</td>\n",
       "      <td>149</td>\n",
       "      <td>Special educational needs teacher</td>\n",
       "      <td>1978-06-21</td>\n",
       "      <td>1f76529f8574734946361c461b024d99</td>\n",
       "      <td>1325376044</td>\n",
       "      <td>49.159047</td>\n",
       "      <td>-118.186462</td>\n",
       "      <td>0</td>\n",
       "    </tr>\n",
       "    <tr>\n",
       "      <th>1</th>\n",
       "      <td>2019-01-01 00:12:34</td>\n",
       "      <td>4956828990005111019</td>\n",
       "      <td>fraud_Schultz, Simonis and Little</td>\n",
       "      <td>grocery_pos</td>\n",
       "      <td>44.71</td>\n",
       "      <td>Kenneth</td>\n",
       "      <td>Robinson</td>\n",
       "      <td>M</td>\n",
       "      <td>269 Sanchez Rapids</td>\n",
       "      <td>Elizabeth</td>\n",
       "      <td>NJ</td>\n",
       "      <td>7208</td>\n",
       "      <td>40.6747</td>\n",
       "      <td>-74.2239</td>\n",
       "      <td>124967</td>\n",
       "      <td>Operational researcher</td>\n",
       "      <td>1980-12-21</td>\n",
       "      <td>09eff9c806365e2a6be12c1bbab3d70e</td>\n",
       "      <td>1325376754</td>\n",
       "      <td>40.079588</td>\n",
       "      <td>-74.848087</td>\n",
       "      <td>0</td>\n",
       "    </tr>\n",
       "    <tr>\n",
       "      <th>2</th>\n",
       "      <td>2019-01-01 00:17:16</td>\n",
       "      <td>180048185037117</td>\n",
       "      <td>fraud_Kling-Grant</td>\n",
       "      <td>grocery_net</td>\n",
       "      <td>46.28</td>\n",
       "      <td>Mary</td>\n",
       "      <td>Wall</td>\n",
       "      <td>F</td>\n",
       "      <td>2481 Mills Lock</td>\n",
       "      <td>Plainfield</td>\n",
       "      <td>NJ</td>\n",
       "      <td>7060</td>\n",
       "      <td>40.6152</td>\n",
       "      <td>-74.4150</td>\n",
       "      <td>71485</td>\n",
       "      <td>Leisure centre manager</td>\n",
       "      <td>1974-07-19</td>\n",
       "      <td>19e23c6a300c774354417befe4f31f8c</td>\n",
       "      <td>1325377036</td>\n",
       "      <td>40.021888</td>\n",
       "      <td>-74.228188</td>\n",
       "      <td>0</td>\n",
       "    </tr>\n",
       "  </tbody>\n",
       "</table>\n",
       "</div>"
      ],
      "text/plain": [
       "  trans_date_trans_time               cc_num  \\\n",
       "0   2019-01-01 00:00:44         630423337322   \n",
       "1   2019-01-01 00:12:34  4956828990005111019   \n",
       "2   2019-01-01 00:17:16      180048185037117   \n",
       "\n",
       "                            merchant     category     amt      first  \\\n",
       "0    fraud_Heller, Gutmann and Zieme  grocery_pos  107.23  Stephanie   \n",
       "1  fraud_Schultz, Simonis and Little  grocery_pos   44.71    Kenneth   \n",
       "2                  fraud_Kling-Grant  grocery_net   46.28       Mary   \n",
       "\n",
       "       last gender                        street        city state    zip  \\\n",
       "0      Gill      F  43039 Riley Greens Suite 393      Orient    WA  99160   \n",
       "1  Robinson      M            269 Sanchez Rapids   Elizabeth    NJ   7208   \n",
       "2      Wall      F               2481 Mills Lock  Plainfield    NJ   7060   \n",
       "\n",
       "       lat      long  city_pop                                job         dob  \\\n",
       "0  48.8878 -118.2105       149  Special educational needs teacher  1978-06-21   \n",
       "1  40.6747  -74.2239    124967             Operational researcher  1980-12-21   \n",
       "2  40.6152  -74.4150     71485             Leisure centre manager  1974-07-19   \n",
       "\n",
       "                          trans_num   unix_time  merch_lat  merch_long  \\\n",
       "0  1f76529f8574734946361c461b024d99  1325376044  49.159047 -118.186462   \n",
       "1  09eff9c806365e2a6be12c1bbab3d70e  1325376754  40.079588  -74.848087   \n",
       "2  19e23c6a300c774354417befe4f31f8c  1325377036  40.021888  -74.228188   \n",
       "\n",
       "   is_fraud  \n",
       "0         0  \n",
       "1         0  \n",
       "2         0  "
      ]
     },
     "execution_count": 5,
     "metadata": {},
     "output_type": "execute_result"
    }
   ],
   "source": [
    "cc_df.head(3)"
   ]
  },
  {
   "cell_type": "code",
   "execution_count": 6,
   "id": "dbf47c9d",
   "metadata": {},
   "outputs": [
    {
     "data": {
      "text/html": [
       "<div>\n",
       "<style scoped>\n",
       "    .dataframe tbody tr th:only-of-type {\n",
       "        vertical-align: middle;\n",
       "    }\n",
       "\n",
       "    .dataframe tbody tr th {\n",
       "        vertical-align: top;\n",
       "    }\n",
       "\n",
       "    .dataframe thead th {\n",
       "        text-align: right;\n",
       "    }\n",
       "</style>\n",
       "<table border=\"1\" class=\"dataframe\">\n",
       "  <thead>\n",
       "    <tr style=\"text-align: right;\">\n",
       "      <th></th>\n",
       "      <th>trans_date_trans_time</th>\n",
       "      <th>cc_num</th>\n",
       "      <th>merchant</th>\n",
       "      <th>category</th>\n",
       "      <th>amt</th>\n",
       "      <th>first</th>\n",
       "      <th>last</th>\n",
       "      <th>gender</th>\n",
       "      <th>street</th>\n",
       "      <th>city</th>\n",
       "      <th>state</th>\n",
       "      <th>zip</th>\n",
       "      <th>lat</th>\n",
       "      <th>long</th>\n",
       "      <th>city_pop</th>\n",
       "      <th>job</th>\n",
       "      <th>dob</th>\n",
       "      <th>trans_num</th>\n",
       "      <th>unix_time</th>\n",
       "      <th>merch_lat</th>\n",
       "      <th>merch_long</th>\n",
       "      <th>is_fraud</th>\n",
       "    </tr>\n",
       "  </thead>\n",
       "  <tbody>\n",
       "    <tr>\n",
       "      <th>491131</th>\n",
       "      <td>2020-12-31 23:59:09</td>\n",
       "      <td>3556613125071656</td>\n",
       "      <td>fraud_Hoppe-Parisian</td>\n",
       "      <td>kids_pets</td>\n",
       "      <td>111.84</td>\n",
       "      <td>Jose</td>\n",
       "      <td>Vasquez</td>\n",
       "      <td>M</td>\n",
       "      <td>572 Davis Mountains</td>\n",
       "      <td>Lake Jackson</td>\n",
       "      <td>TX</td>\n",
       "      <td>77566</td>\n",
       "      <td>29.0393</td>\n",
       "      <td>-95.4401</td>\n",
       "      <td>28739</td>\n",
       "      <td>Futures trader</td>\n",
       "      <td>1999-12-27</td>\n",
       "      <td>2090647dac2c89a1d86c514c427f5b91</td>\n",
       "      <td>1388534349</td>\n",
       "      <td>29.661049</td>\n",
       "      <td>-96.186633</td>\n",
       "      <td>0</td>\n",
       "    </tr>\n",
       "    <tr>\n",
       "      <th>491132</th>\n",
       "      <td>2020-12-31 23:59:15</td>\n",
       "      <td>6011724471098086</td>\n",
       "      <td>fraud_Rau-Robel</td>\n",
       "      <td>kids_pets</td>\n",
       "      <td>86.88</td>\n",
       "      <td>Ann</td>\n",
       "      <td>Lawson</td>\n",
       "      <td>F</td>\n",
       "      <td>144 Evans Islands Apt. 683</td>\n",
       "      <td>Burbank</td>\n",
       "      <td>WA</td>\n",
       "      <td>99323</td>\n",
       "      <td>46.1966</td>\n",
       "      <td>-118.9017</td>\n",
       "      <td>3684</td>\n",
       "      <td>Musician</td>\n",
       "      <td>1981-11-29</td>\n",
       "      <td>6c5b7c8add471975aa0fec023b2e8408</td>\n",
       "      <td>1388534355</td>\n",
       "      <td>46.658340</td>\n",
       "      <td>-119.715054</td>\n",
       "      <td>0</td>\n",
       "    </tr>\n",
       "    <tr>\n",
       "      <th>491133</th>\n",
       "      <td>2020-12-31 23:59:34</td>\n",
       "      <td>4170689372027579</td>\n",
       "      <td>fraud_Dare-Marvin</td>\n",
       "      <td>entertainment</td>\n",
       "      <td>38.13</td>\n",
       "      <td>Samuel</td>\n",
       "      <td>Frey</td>\n",
       "      <td>M</td>\n",
       "      <td>830 Myers Plaza Apt. 384</td>\n",
       "      <td>Edmond</td>\n",
       "      <td>OK</td>\n",
       "      <td>73034</td>\n",
       "      <td>35.6665</td>\n",
       "      <td>-97.4798</td>\n",
       "      <td>116001</td>\n",
       "      <td>Media buyer</td>\n",
       "      <td>1993-05-10</td>\n",
       "      <td>1765bb45b3aa3224b4cdcb6e7a96cee3</td>\n",
       "      <td>1388534374</td>\n",
       "      <td>36.210097</td>\n",
       "      <td>-97.036372</td>\n",
       "      <td>0</td>\n",
       "    </tr>\n",
       "  </tbody>\n",
       "</table>\n",
       "</div>"
      ],
      "text/plain": [
       "       trans_date_trans_time            cc_num              merchant  \\\n",
       "491131   2020-12-31 23:59:09  3556613125071656  fraud_Hoppe-Parisian   \n",
       "491132   2020-12-31 23:59:15  6011724471098086       fraud_Rau-Robel   \n",
       "491133   2020-12-31 23:59:34  4170689372027579     fraud_Dare-Marvin   \n",
       "\n",
       "             category     amt   first     last gender  \\\n",
       "491131      kids_pets  111.84    Jose  Vasquez      M   \n",
       "491132      kids_pets   86.88     Ann   Lawson      F   \n",
       "491133  entertainment   38.13  Samuel     Frey      M   \n",
       "\n",
       "                            street          city state    zip      lat  \\\n",
       "491131         572 Davis Mountains  Lake Jackson    TX  77566  29.0393   \n",
       "491132  144 Evans Islands Apt. 683       Burbank    WA  99323  46.1966   \n",
       "491133    830 Myers Plaza Apt. 384        Edmond    OK  73034  35.6665   \n",
       "\n",
       "            long  city_pop             job         dob  \\\n",
       "491131  -95.4401     28739  Futures trader  1999-12-27   \n",
       "491132 -118.9017      3684        Musician  1981-11-29   \n",
       "491133  -97.4798    116001     Media buyer  1993-05-10   \n",
       "\n",
       "                               trans_num   unix_time  merch_lat  merch_long  \\\n",
       "491131  2090647dac2c89a1d86c514c427f5b91  1388534349  29.661049  -96.186633   \n",
       "491132  6c5b7c8add471975aa0fec023b2e8408  1388534355  46.658340 -119.715054   \n",
       "491133  1765bb45b3aa3224b4cdcb6e7a96cee3  1388534374  36.210097  -97.036372   \n",
       "\n",
       "        is_fraud  \n",
       "491131         0  \n",
       "491132         0  \n",
       "491133         0  "
      ]
     },
     "execution_count": 6,
     "metadata": {},
     "output_type": "execute_result"
    }
   ],
   "source": [
    "cc_df.tail(3)"
   ]
  },
  {
   "cell_type": "code",
   "execution_count": 7,
   "id": "82c400da",
   "metadata": {},
   "outputs": [
    {
     "name": "stdout",
     "output_type": "stream",
     "text": [
      "<class 'pandas.core.frame.DataFrame'>\n",
      "RangeIndex: 491134 entries, 0 to 491133\n",
      "Data columns (total 22 columns):\n",
      " #   Column                 Non-Null Count   Dtype  \n",
      "---  ------                 --------------   -----  \n",
      " 0   trans_date_trans_time  491134 non-null  object \n",
      " 1   cc_num                 491134 non-null  int64  \n",
      " 2   merchant               491134 non-null  object \n",
      " 3   category               491134 non-null  object \n",
      " 4   amt                    491134 non-null  float64\n",
      " 5   first                  491134 non-null  object \n",
      " 6   last                   491134 non-null  object \n",
      " 7   gender                 491134 non-null  object \n",
      " 8   street                 491134 non-null  object \n",
      " 9   city                   491134 non-null  object \n",
      " 10  state                  491134 non-null  object \n",
      " 11  zip                    491134 non-null  int64  \n",
      " 12  lat                    491134 non-null  float64\n",
      " 13  long                   491134 non-null  float64\n",
      " 14  city_pop               491134 non-null  int64  \n",
      " 15  job                    491134 non-null  object \n",
      " 16  dob                    491134 non-null  object \n",
      " 17  trans_num              491134 non-null  object \n",
      " 18  unix_time              491134 non-null  int64  \n",
      " 19  merch_lat              491134 non-null  float64\n",
      " 20  merch_long             491134 non-null  float64\n",
      " 21  is_fraud               491134 non-null  int64  \n",
      "dtypes: float64(5), int64(5), object(12)\n",
      "memory usage: 82.4+ MB\n"
     ]
    }
   ],
   "source": [
    "cc_df.info()"
   ]
  },
  {
   "cell_type": "code",
   "execution_count": 8,
   "id": "1b97358d",
   "metadata": {},
   "outputs": [
    {
     "data": {
      "text/html": [
       "<div>\n",
       "<style scoped>\n",
       "    .dataframe tbody tr th:only-of-type {\n",
       "        vertical-align: middle;\n",
       "    }\n",
       "\n",
       "    .dataframe tbody tr th {\n",
       "        vertical-align: top;\n",
       "    }\n",
       "\n",
       "    .dataframe thead th {\n",
       "        text-align: right;\n",
       "    }\n",
       "</style>\n",
       "<table border=\"1\" class=\"dataframe\">\n",
       "  <thead>\n",
       "    <tr style=\"text-align: right;\">\n",
       "      <th></th>\n",
       "      <th>cc_num</th>\n",
       "      <th>amt</th>\n",
       "      <th>zip</th>\n",
       "      <th>lat</th>\n",
       "      <th>long</th>\n",
       "      <th>city_pop</th>\n",
       "      <th>unix_time</th>\n",
       "      <th>merch_lat</th>\n",
       "      <th>merch_long</th>\n",
       "      <th>is_fraud</th>\n",
       "    </tr>\n",
       "  </thead>\n",
       "  <tbody>\n",
       "    <tr>\n",
       "      <th>count</th>\n",
       "      <td>4.911340e+05</td>\n",
       "      <td>491134.000000</td>\n",
       "      <td>491134.000000</td>\n",
       "      <td>491134.000000</td>\n",
       "      <td>491134.000000</td>\n",
       "      <td>4.911340e+05</td>\n",
       "      <td>4.911340e+05</td>\n",
       "      <td>491134.000000</td>\n",
       "      <td>491134.000000</td>\n",
       "      <td>491134.000000</td>\n",
       "    </tr>\n",
       "    <tr>\n",
       "      <th>mean</th>\n",
       "      <td>3.706013e+17</td>\n",
       "      <td>69.050120</td>\n",
       "      <td>50770.532384</td>\n",
       "      <td>37.931230</td>\n",
       "      <td>-90.495619</td>\n",
       "      <td>1.213922e+05</td>\n",
       "      <td>1.358730e+09</td>\n",
       "      <td>37.930272</td>\n",
       "      <td>-90.495411</td>\n",
       "      <td>0.002533</td>\n",
       "    </tr>\n",
       "    <tr>\n",
       "      <th>std</th>\n",
       "      <td>1.260229e+18</td>\n",
       "      <td>160.322867</td>\n",
       "      <td>26854.947965</td>\n",
       "      <td>5.341193</td>\n",
       "      <td>12.990732</td>\n",
       "      <td>3.725751e+05</td>\n",
       "      <td>1.819402e+07</td>\n",
       "      <td>5.372986</td>\n",
       "      <td>13.004100</td>\n",
       "      <td>0.050264</td>\n",
       "    </tr>\n",
       "    <tr>\n",
       "      <th>min</th>\n",
       "      <td>5.038744e+11</td>\n",
       "      <td>1.000000</td>\n",
       "      <td>1843.000000</td>\n",
       "      <td>24.655700</td>\n",
       "      <td>-122.345600</td>\n",
       "      <td>4.600000e+01</td>\n",
       "      <td>1.325376e+09</td>\n",
       "      <td>23.655789</td>\n",
       "      <td>-123.345106</td>\n",
       "      <td>0.000000</td>\n",
       "    </tr>\n",
       "    <tr>\n",
       "      <th>25%</th>\n",
       "      <td>2.131124e+14</td>\n",
       "      <td>8.960000</td>\n",
       "      <td>28405.000000</td>\n",
       "      <td>33.746700</td>\n",
       "      <td>-97.235100</td>\n",
       "      <td>1.228000e+03</td>\n",
       "      <td>1.343087e+09</td>\n",
       "      <td>33.781388</td>\n",
       "      <td>-96.984814</td>\n",
       "      <td>0.000000</td>\n",
       "    </tr>\n",
       "    <tr>\n",
       "      <th>50%</th>\n",
       "      <td>3.531130e+15</td>\n",
       "      <td>42.170000</td>\n",
       "      <td>49628.000000</td>\n",
       "      <td>38.507200</td>\n",
       "      <td>-87.591700</td>\n",
       "      <td>5.760000e+03</td>\n",
       "      <td>1.357257e+09</td>\n",
       "      <td>38.545124</td>\n",
       "      <td>-87.573441</td>\n",
       "      <td>0.000000</td>\n",
       "    </tr>\n",
       "    <tr>\n",
       "      <th>75%</th>\n",
       "      <td>4.653879e+15</td>\n",
       "      <td>80.330000</td>\n",
       "      <td>75048.000000</td>\n",
       "      <td>41.520500</td>\n",
       "      <td>-80.731000</td>\n",
       "      <td>5.083500e+04</td>\n",
       "      <td>1.374626e+09</td>\n",
       "      <td>41.624294</td>\n",
       "      <td>-80.685567</td>\n",
       "      <td>0.000000</td>\n",
       "    </tr>\n",
       "    <tr>\n",
       "      <th>max</th>\n",
       "      <td>4.956829e+18</td>\n",
       "      <td>25086.940000</td>\n",
       "      <td>99323.000000</td>\n",
       "      <td>48.887800</td>\n",
       "      <td>-69.965600</td>\n",
       "      <td>2.906700e+06</td>\n",
       "      <td>1.388534e+09</td>\n",
       "      <td>49.887523</td>\n",
       "      <td>-68.965624</td>\n",
       "      <td>1.000000</td>\n",
       "    </tr>\n",
       "  </tbody>\n",
       "</table>\n",
       "</div>"
      ],
      "text/plain": [
       "             cc_num            amt            zip            lat  \\\n",
       "count  4.911340e+05  491134.000000  491134.000000  491134.000000   \n",
       "mean   3.706013e+17      69.050120   50770.532384      37.931230   \n",
       "std    1.260229e+18     160.322867   26854.947965       5.341193   \n",
       "min    5.038744e+11       1.000000    1843.000000      24.655700   \n",
       "25%    2.131124e+14       8.960000   28405.000000      33.746700   \n",
       "50%    3.531130e+15      42.170000   49628.000000      38.507200   \n",
       "75%    4.653879e+15      80.330000   75048.000000      41.520500   \n",
       "max    4.956829e+18   25086.940000   99323.000000      48.887800   \n",
       "\n",
       "                long      city_pop     unix_time      merch_lat  \\\n",
       "count  491134.000000  4.911340e+05  4.911340e+05  491134.000000   \n",
       "mean      -90.495619  1.213922e+05  1.358730e+09      37.930272   \n",
       "std        12.990732  3.725751e+05  1.819402e+07       5.372986   \n",
       "min      -122.345600  4.600000e+01  1.325376e+09      23.655789   \n",
       "25%       -97.235100  1.228000e+03  1.343087e+09      33.781388   \n",
       "50%       -87.591700  5.760000e+03  1.357257e+09      38.545124   \n",
       "75%       -80.731000  5.083500e+04  1.374626e+09      41.624294   \n",
       "max       -69.965600  2.906700e+06  1.388534e+09      49.887523   \n",
       "\n",
       "          merch_long       is_fraud  \n",
       "count  491134.000000  491134.000000  \n",
       "mean      -90.495411       0.002533  \n",
       "std        13.004100       0.050264  \n",
       "min      -123.345106       0.000000  \n",
       "25%       -96.984814       0.000000  \n",
       "50%       -87.573441       0.000000  \n",
       "75%       -80.685567       0.000000  \n",
       "max       -68.965624       1.000000  "
      ]
     },
     "execution_count": 8,
     "metadata": {},
     "output_type": "execute_result"
    }
   ],
   "source": [
    "cc_df.describe()"
   ]
  },
  {
   "cell_type": "markdown",
   "id": "e4e820fc",
   "metadata": {},
   "source": [
    "# 2. 불필요한 컬럼 삭제 및 이름 변경"
   ]
  },
  {
   "cell_type": "markdown",
   "id": "48d479f3",
   "metadata": {},
   "source": [
    "## 2-1. 불필요한 컬럼 삭제"
   ]
  },
  {
   "cell_type": "markdown",
   "id": "a703e8f2",
   "metadata": {},
   "source": [
    "- 개인 정보와 관련된 컬럼 삭제\n",
    "- 대상 = [first, last, gender, street, city, state, zip, lat, long, dob]"
   ]
  },
  {
   "cell_type": "code",
   "execution_count": 9,
   "id": "62abbce3",
   "metadata": {},
   "outputs": [
    {
     "data": {
      "text/plain": [
       "0     trans_date_trans_time\n",
       "1                    cc_num\n",
       "2                  merchant\n",
       "3                  category\n",
       "4                       amt\n",
       "5                     first\n",
       "6                      last\n",
       "7                    gender\n",
       "8                    street\n",
       "9                      city\n",
       "10                    state\n",
       "11                      zip\n",
       "12                      lat\n",
       "13                     long\n",
       "14                 city_pop\n",
       "15                      job\n",
       "16                      dob\n",
       "17                trans_num\n",
       "18                unix_time\n",
       "19                merch_lat\n",
       "20               merch_long\n",
       "21                 is_fraud\n",
       "dtype: object"
      ]
     },
     "execution_count": 9,
     "metadata": {},
     "output_type": "execute_result"
    }
   ],
   "source": [
    "pd.Series(cc_df.columns)"
   ]
  },
  {
   "cell_type": "code",
   "execution_count": 10,
   "id": "0cacfda8",
   "metadata": {},
   "outputs": [],
   "source": [
    "toBeRemoved_col = cc_df.columns[[5, 6, 7, 8, 9, 10, 11, 12, 13, 16]]\n",
    "cc_df.drop(toBeRemoved_col, axis=1, inplace=True)"
   ]
  },
  {
   "cell_type": "code",
   "execution_count": 11,
   "id": "7921254a",
   "metadata": {},
   "outputs": [
    {
     "data": {
      "text/plain": [
       "(491134, 12)"
      ]
     },
     "execution_count": 11,
     "metadata": {},
     "output_type": "execute_result"
    }
   ],
   "source": [
    "cc_df.shape"
   ]
  },
  {
   "cell_type": "markdown",
   "id": "02639e78",
   "metadata": {},
   "source": [
    "## 2-2. 컬럼 이름 변경"
   ]
  },
  {
   "cell_type": "markdown",
   "id": "7bb703b6",
   "metadata": {},
   "source": [
    "- 신용카드 소유자 관련: holder_ 추가 \n",
    "- 거래 상점 관련: merch_ 추가"
   ]
  },
  {
   "cell_type": "code",
   "execution_count": 12,
   "id": "374e4466",
   "metadata": {},
   "outputs": [
    {
     "data": {
      "text/plain": [
       "0     trans_date_trans_time\n",
       "1                    cc_num\n",
       "2                  merchant\n",
       "3                  category\n",
       "4                       amt\n",
       "5                  city_pop\n",
       "6                       job\n",
       "7                 trans_num\n",
       "8                 unix_time\n",
       "9                 merch_lat\n",
       "10               merch_long\n",
       "11                 is_fraud\n",
       "dtype: object"
      ]
     },
     "execution_count": 12,
     "metadata": {},
     "output_type": "execute_result"
    }
   ],
   "source": [
    "pd.Series(cc_df.columns)"
   ]
  },
  {
   "cell_type": "code",
   "execution_count": 13,
   "id": "57806831",
   "metadata": {},
   "outputs": [],
   "source": [
    "cc_df.rename({'trans_date_trans_time': 'trans_time', 'merchant':'merch_shop', 'category': 'merch_category', 'amt': 'amount', 'job':'holder_job'}, axis=1, inplace=True)"
   ]
  },
  {
   "cell_type": "code",
   "execution_count": 14,
   "id": "49a39c8d",
   "metadata": {},
   "outputs": [
    {
     "data": {
      "text/html": [
       "<div>\n",
       "<style scoped>\n",
       "    .dataframe tbody tr th:only-of-type {\n",
       "        vertical-align: middle;\n",
       "    }\n",
       "\n",
       "    .dataframe tbody tr th {\n",
       "        vertical-align: top;\n",
       "    }\n",
       "\n",
       "    .dataframe thead th {\n",
       "        text-align: right;\n",
       "    }\n",
       "</style>\n",
       "<table border=\"1\" class=\"dataframe\">\n",
       "  <thead>\n",
       "    <tr style=\"text-align: right;\">\n",
       "      <th></th>\n",
       "      <th>trans_time</th>\n",
       "      <th>cc_num</th>\n",
       "      <th>merch_shop</th>\n",
       "      <th>merch_category</th>\n",
       "      <th>amount</th>\n",
       "      <th>city_pop</th>\n",
       "      <th>holder_job</th>\n",
       "      <th>trans_num</th>\n",
       "      <th>unix_time</th>\n",
       "      <th>merch_lat</th>\n",
       "      <th>merch_long</th>\n",
       "      <th>is_fraud</th>\n",
       "    </tr>\n",
       "  </thead>\n",
       "  <tbody>\n",
       "    <tr>\n",
       "      <th>0</th>\n",
       "      <td>2019-01-01 00:00:44</td>\n",
       "      <td>630423337322</td>\n",
       "      <td>fraud_Heller, Gutmann and Zieme</td>\n",
       "      <td>grocery_pos</td>\n",
       "      <td>107.23</td>\n",
       "      <td>149</td>\n",
       "      <td>Special educational needs teacher</td>\n",
       "      <td>1f76529f8574734946361c461b024d99</td>\n",
       "      <td>1325376044</td>\n",
       "      <td>49.159047</td>\n",
       "      <td>-118.186462</td>\n",
       "      <td>0</td>\n",
       "    </tr>\n",
       "    <tr>\n",
       "      <th>1</th>\n",
       "      <td>2019-01-01 00:12:34</td>\n",
       "      <td>4956828990005111019</td>\n",
       "      <td>fraud_Schultz, Simonis and Little</td>\n",
       "      <td>grocery_pos</td>\n",
       "      <td>44.71</td>\n",
       "      <td>124967</td>\n",
       "      <td>Operational researcher</td>\n",
       "      <td>09eff9c806365e2a6be12c1bbab3d70e</td>\n",
       "      <td>1325376754</td>\n",
       "      <td>40.079588</td>\n",
       "      <td>-74.848087</td>\n",
       "      <td>0</td>\n",
       "    </tr>\n",
       "  </tbody>\n",
       "</table>\n",
       "</div>"
      ],
      "text/plain": [
       "            trans_time               cc_num  \\\n",
       "0  2019-01-01 00:00:44         630423337322   \n",
       "1  2019-01-01 00:12:34  4956828990005111019   \n",
       "\n",
       "                          merch_shop merch_category  amount  city_pop  \\\n",
       "0    fraud_Heller, Gutmann and Zieme    grocery_pos  107.23       149   \n",
       "1  fraud_Schultz, Simonis and Little    grocery_pos   44.71    124967   \n",
       "\n",
       "                          holder_job                         trans_num  \\\n",
       "0  Special educational needs teacher  1f76529f8574734946361c461b024d99   \n",
       "1             Operational researcher  09eff9c806365e2a6be12c1bbab3d70e   \n",
       "\n",
       "    unix_time  merch_lat  merch_long  is_fraud  \n",
       "0  1325376044  49.159047 -118.186462         0  \n",
       "1  1325376754  40.079588  -74.848087         0  "
      ]
     },
     "execution_count": 14,
     "metadata": {},
     "output_type": "execute_result"
    }
   ],
   "source": [
    "cc_df.head(2)"
   ]
  },
  {
   "cell_type": "markdown",
   "id": "55676a67",
   "metadata": {},
   "source": [
    "# 3. 결측치 처리"
   ]
  },
  {
   "cell_type": "markdown",
   "id": "4606f996",
   "metadata": {},
   "source": [
    "- 결측치 없음\n",
    "- is_fraud 컬럼에 0/1 이외 숫자 없음"
   ]
  },
  {
   "cell_type": "code",
   "execution_count": 15,
   "id": "cfae462e",
   "metadata": {},
   "outputs": [
    {
     "data": {
      "text/plain": [
       "trans_time        False\n",
       "cc_num            False\n",
       "merch_shop        False\n",
       "merch_category    False\n",
       "amount            False\n",
       "city_pop          False\n",
       "holder_job        False\n",
       "trans_num         False\n",
       "unix_time         False\n",
       "merch_lat         False\n",
       "merch_long        False\n",
       "is_fraud          False\n",
       "dtype: bool"
      ]
     },
     "execution_count": 15,
     "metadata": {},
     "output_type": "execute_result"
    }
   ],
   "source": [
    "cc_df.isna().any()"
   ]
  },
  {
   "cell_type": "code",
   "execution_count": 16,
   "id": "ca5176eb",
   "metadata": {},
   "outputs": [
    {
     "data": {
      "text/plain": [
       "0    489890\n",
       "1      1244\n",
       "Name: is_fraud, dtype: int64"
      ]
     },
     "execution_count": 16,
     "metadata": {},
     "output_type": "execute_result"
    }
   ],
   "source": [
    "cc_df['is_fraud'].value_counts()"
   ]
  },
  {
   "cell_type": "markdown",
   "id": "9a7dd7f6",
   "metadata": {},
   "source": [
    "# 4. 이상치 처리 및 컬럼 값 타당성 검토"
   ]
  },
  {
   "cell_type": "markdown",
   "id": "8381630e",
   "metadata": {},
   "source": [
    "## 4-1. 신용카드 자릿수 (cc_num)"
   ]
  },
  {
   "cell_type": "markdown",
   "id": "05fa5137",
   "metadata": {},
   "source": [
    "- 신용카드 자릿수는 14~16 범위로 이외 범위 삭제"
   ]
  },
  {
   "cell_type": "code",
   "execution_count": 17,
   "id": "85548270",
   "metadata": {},
   "outputs": [],
   "source": [
    "cc_df['cc_num'] = cc_df['cc_num'].astype('str')"
   ]
  },
  {
   "cell_type": "code",
   "execution_count": 18,
   "id": "74648fe0",
   "metadata": {},
   "outputs": [],
   "source": [
    "cc_df = cc_df[cc_df['cc_num'].str.len().between(14, 16)].reset_index(drop=True)"
   ]
  },
  {
   "cell_type": "code",
   "execution_count": 19,
   "id": "6d6e6740",
   "metadata": {},
   "outputs": [],
   "source": [
    "cc_df['cc_num'] = cc_df['cc_num'].astype('int')"
   ]
  },
  {
   "cell_type": "code",
   "execution_count": 20,
   "id": "0f291c2a",
   "metadata": {},
   "outputs": [
    {
     "data": {
      "text/plain": [
       "(394078, 12)"
      ]
     },
     "execution_count": 20,
     "metadata": {},
     "output_type": "execute_result"
    }
   ],
   "source": [
    "cc_df.shape"
   ]
  },
  {
   "cell_type": "markdown",
   "id": "8715788f",
   "metadata": {},
   "source": [
    "## 4-2. 거래금액 (amount)"
   ]
  },
  {
   "cell_type": "markdown",
   "id": "3968fcef",
   "metadata": {},
   "source": [
    "- 사기의심 거래금액의 범위는 1달러 ~ 25,086.94달러\n",
    "- 로그 변환을 하여 극단적으로 큰 값과 작은 값의 스케일 차이를 줄여주어 데이터의 분포를 안정화시킴"
   ]
  },
  {
   "cell_type": "code",
   "execution_count": 21,
   "id": "83e69796",
   "metadata": {},
   "outputs": [
    {
     "data": {
      "text/plain": [
       "74465     25086.94\n",
       "39623     17897.24\n",
       "328755    16837.08\n",
       "159236    15047.03\n",
       "274084    12176.55\n",
       "Name: amount, dtype: float64"
      ]
     },
     "execution_count": 21,
     "metadata": {},
     "output_type": "execute_result"
    }
   ],
   "source": [
    "cc_df['amount'].sort_values(ascending=False).head()"
   ]
  },
  {
   "cell_type": "code",
   "execution_count": 22,
   "id": "4c288a5b",
   "metadata": {},
   "outputs": [
    {
     "data": {
      "text/plain": [
       "327992    1.0\n",
       "299755    1.0\n",
       "376298    1.0\n",
       "314168    1.0\n",
       "49192     1.0\n",
       "Name: amount, dtype: float64"
      ]
     },
     "execution_count": 22,
     "metadata": {},
     "output_type": "execute_result"
    }
   ],
   "source": [
    "cc_df['amount'].sort_values().head()"
   ]
  },
  {
   "cell_type": "code",
   "execution_count": 23,
   "id": "122dab61",
   "metadata": {},
   "outputs": [],
   "source": [
    "cc_df['amount'] = np.log(cc_df['amount'] )"
   ]
  },
  {
   "cell_type": "code",
   "execution_count": 24,
   "id": "b2b30bd4",
   "metadata": {},
   "outputs": [
    {
     "data": {
      "text/html": [
       "<div>\n",
       "<style scoped>\n",
       "    .dataframe tbody tr th:only-of-type {\n",
       "        vertical-align: middle;\n",
       "    }\n",
       "\n",
       "    .dataframe tbody tr th {\n",
       "        vertical-align: top;\n",
       "    }\n",
       "\n",
       "    .dataframe thead th {\n",
       "        text-align: right;\n",
       "    }\n",
       "</style>\n",
       "<table border=\"1\" class=\"dataframe\">\n",
       "  <thead>\n",
       "    <tr style=\"text-align: right;\">\n",
       "      <th></th>\n",
       "      <th>cc_num</th>\n",
       "      <th>amount</th>\n",
       "      <th>city_pop</th>\n",
       "      <th>unix_time</th>\n",
       "      <th>merch_lat</th>\n",
       "      <th>merch_long</th>\n",
       "      <th>is_fraud</th>\n",
       "    </tr>\n",
       "  </thead>\n",
       "  <tbody>\n",
       "    <tr>\n",
       "      <th>count</th>\n",
       "      <td>3.940780e+05</td>\n",
       "      <td>394078.000000</td>\n",
       "      <td>3.940780e+05</td>\n",
       "      <td>3.940780e+05</td>\n",
       "      <td>394078.000000</td>\n",
       "      <td>394078.000000</td>\n",
       "      <td>394078.000000</td>\n",
       "    </tr>\n",
       "    <tr>\n",
       "      <th>mean</th>\n",
       "      <td>2.907809e+15</td>\n",
       "      <td>3.403577</td>\n",
       "      <td>1.049373e+05</td>\n",
       "      <td>1.358756e+09</td>\n",
       "      <td>37.929334</td>\n",
       "      <td>-90.374975</td>\n",
       "      <td>0.002553</td>\n",
       "    </tr>\n",
       "    <tr>\n",
       "      <th>std</th>\n",
       "      <td>2.127265e+15</td>\n",
       "      <td>1.417060</td>\n",
       "      <td>2.794766e+05</td>\n",
       "      <td>1.819502e+07</td>\n",
       "      <td>5.259905</td>\n",
       "      <td>13.169409</td>\n",
       "      <td>0.050461</td>\n",
       "    </tr>\n",
       "    <tr>\n",
       "      <th>min</th>\n",
       "      <td>3.004433e+13</td>\n",
       "      <td>0.000000</td>\n",
       "      <td>4.600000e+01</td>\n",
       "      <td>1.325377e+09</td>\n",
       "      <td>25.421517</td>\n",
       "      <td>-123.345106</td>\n",
       "      <td>0.000000</td>\n",
       "    </tr>\n",
       "    <tr>\n",
       "      <th>25%</th>\n",
       "      <td>3.462732e+14</td>\n",
       "      <td>2.207175</td>\n",
       "      <td>1.725000e+03</td>\n",
       "      <td>1.343144e+09</td>\n",
       "      <td>33.748158</td>\n",
       "      <td>-96.776345</td>\n",
       "      <td>0.000000</td>\n",
       "    </tr>\n",
       "    <tr>\n",
       "      <th>50%</th>\n",
       "      <td>3.543591e+15</td>\n",
       "      <td>3.750915</td>\n",
       "      <td>6.006000e+03</td>\n",
       "      <td>1.357292e+09</td>\n",
       "      <td>38.347641</td>\n",
       "      <td>-88.274638</td>\n",
       "      <td>0.000000</td>\n",
       "    </tr>\n",
       "    <tr>\n",
       "      <th>75%</th>\n",
       "      <td>4.452366e+15</td>\n",
       "      <td>4.399867</td>\n",
       "      <td>5.428700e+04</td>\n",
       "      <td>1.374672e+09</td>\n",
       "      <td>41.739415</td>\n",
       "      <td>-80.616977</td>\n",
       "      <td>0.000000</td>\n",
       "    </tr>\n",
       "    <tr>\n",
       "      <th>max</th>\n",
       "      <td>6.538891e+15</td>\n",
       "      <td>10.130103</td>\n",
       "      <td>1.595797e+06</td>\n",
       "      <td>1.388534e+09</td>\n",
       "      <td>49.602783</td>\n",
       "      <td>-68.965624</td>\n",
       "      <td>1.000000</td>\n",
       "    </tr>\n",
       "  </tbody>\n",
       "</table>\n",
       "</div>"
      ],
      "text/plain": [
       "             cc_num         amount      city_pop     unix_time      merch_lat  \\\n",
       "count  3.940780e+05  394078.000000  3.940780e+05  3.940780e+05  394078.000000   \n",
       "mean   2.907809e+15       3.403577  1.049373e+05  1.358756e+09      37.929334   \n",
       "std    2.127265e+15       1.417060  2.794766e+05  1.819502e+07       5.259905   \n",
       "min    3.004433e+13       0.000000  4.600000e+01  1.325377e+09      25.421517   \n",
       "25%    3.462732e+14       2.207175  1.725000e+03  1.343144e+09      33.748158   \n",
       "50%    3.543591e+15       3.750915  6.006000e+03  1.357292e+09      38.347641   \n",
       "75%    4.452366e+15       4.399867  5.428700e+04  1.374672e+09      41.739415   \n",
       "max    6.538891e+15      10.130103  1.595797e+06  1.388534e+09      49.602783   \n",
       "\n",
       "          merch_long       is_fraud  \n",
       "count  394078.000000  394078.000000  \n",
       "mean      -90.374975       0.002553  \n",
       "std        13.169409       0.050461  \n",
       "min      -123.345106       0.000000  \n",
       "25%       -96.776345       0.000000  \n",
       "50%       -88.274638       0.000000  \n",
       "75%       -80.616977       0.000000  \n",
       "max       -68.965624       1.000000  "
      ]
     },
     "execution_count": 24,
     "metadata": {},
     "output_type": "execute_result"
    }
   ],
   "source": [
    "cc_df.describe()"
   ]
  },
  {
   "cell_type": "markdown",
   "id": "2d27accb",
   "metadata": {},
   "source": [
    "# 5. 중복 데이터 검토"
   ]
  },
  {
   "cell_type": "markdown",
   "id": "91fb1adb",
   "metadata": {},
   "source": [
    "- 중복된 데이터 없음"
   ]
  },
  {
   "cell_type": "code",
   "execution_count": 25,
   "id": "c3f09805",
   "metadata": {},
   "outputs": [
    {
     "data": {
      "text/html": [
       "<div>\n",
       "<style scoped>\n",
       "    .dataframe tbody tr th:only-of-type {\n",
       "        vertical-align: middle;\n",
       "    }\n",
       "\n",
       "    .dataframe tbody tr th {\n",
       "        vertical-align: top;\n",
       "    }\n",
       "\n",
       "    .dataframe thead th {\n",
       "        text-align: right;\n",
       "    }\n",
       "</style>\n",
       "<table border=\"1\" class=\"dataframe\">\n",
       "  <thead>\n",
       "    <tr style=\"text-align: right;\">\n",
       "      <th></th>\n",
       "      <th>trans_time</th>\n",
       "      <th>cc_num</th>\n",
       "      <th>merch_shop</th>\n",
       "      <th>merch_category</th>\n",
       "      <th>amount</th>\n",
       "      <th>city_pop</th>\n",
       "      <th>holder_job</th>\n",
       "      <th>trans_num</th>\n",
       "      <th>unix_time</th>\n",
       "      <th>merch_lat</th>\n",
       "      <th>merch_long</th>\n",
       "      <th>is_fraud</th>\n",
       "    </tr>\n",
       "  </thead>\n",
       "  <tbody>\n",
       "  </tbody>\n",
       "</table>\n",
       "</div>"
      ],
      "text/plain": [
       "Empty DataFrame\n",
       "Columns: [trans_time, cc_num, merch_shop, merch_category, amount, city_pop, holder_job, trans_num, unix_time, merch_lat, merch_long, is_fraud]\n",
       "Index: []"
      ]
     },
     "execution_count": 25,
     "metadata": {},
     "output_type": "execute_result"
    }
   ],
   "source": [
    "cc_df[cc_df.duplicated( )]"
   ]
  },
  {
   "cell_type": "markdown",
   "id": "52205f62",
   "metadata": {},
   "source": [
    "# 6. 형태 변환"
   ]
  },
  {
   "cell_type": "markdown",
   "id": "28453eb1",
   "metadata": {},
   "source": [
    "## 6-1. 거래시간 (trans_time)"
   ]
  },
  {
   "cell_type": "markdown",
   "id": "e62ef284",
   "metadata": {},
   "source": [
    "- datetime으로 타입 변경"
   ]
  },
  {
   "cell_type": "code",
   "execution_count": 26,
   "id": "ae39cb97",
   "metadata": {},
   "outputs": [],
   "source": [
    "cc_df['trans_time'] = pd.to_datetime(cc_df['trans_time'])"
   ]
  },
  {
   "cell_type": "code",
   "execution_count": 27,
   "id": "da4dba88",
   "metadata": {},
   "outputs": [
    {
     "name": "stdout",
     "output_type": "stream",
     "text": [
      "<class 'pandas.core.frame.DataFrame'>\n",
      "RangeIndex: 394078 entries, 0 to 394077\n",
      "Data columns (total 12 columns):\n",
      " #   Column          Non-Null Count   Dtype         \n",
      "---  ------          --------------   -----         \n",
      " 0   trans_time      394078 non-null  datetime64[ns]\n",
      " 1   cc_num          394078 non-null  int64         \n",
      " 2   merch_shop      394078 non-null  object        \n",
      " 3   merch_category  394078 non-null  object        \n",
      " 4   amount          394078 non-null  float64       \n",
      " 5   city_pop        394078 non-null  int64         \n",
      " 6   holder_job      394078 non-null  object        \n",
      " 7   trans_num       394078 non-null  object        \n",
      " 8   unix_time       394078 non-null  int64         \n",
      " 9   merch_lat       394078 non-null  float64       \n",
      " 10  merch_long      394078 non-null  float64       \n",
      " 11  is_fraud        394078 non-null  int64         \n",
      "dtypes: datetime64[ns](1), float64(3), int64(4), object(4)\n",
      "memory usage: 36.1+ MB\n"
     ]
    }
   ],
   "source": [
    "cc_df.info()"
   ]
  },
  {
   "cell_type": "markdown",
   "id": "f5797b1d",
   "metadata": {},
   "source": [
    "## 6-2. 거래상점 (merch_shop)"
   ]
  },
  {
   "cell_type": "markdown",
   "id": "dc98895b",
   "metadata": {},
   "source": [
    "- fradu_ 제거"
   ]
  },
  {
   "cell_type": "code",
   "execution_count": 28,
   "id": "acc28734",
   "metadata": {},
   "outputs": [],
   "source": [
    "cc_df['merch_shop'] = cc_df['merch_shop'].str.replace('fraud_', '')"
   ]
  },
  {
   "cell_type": "markdown",
   "id": "09dabf73",
   "metadata": {},
   "source": [
    "## 6-3. 거래 품목 (merch_category)"
   ]
  },
  {
   "cell_type": "markdown",
   "id": "9872af58",
   "metadata": {},
   "source": [
    "- shopping, grocery, misc 항목은 매장 결제와 온라인 결제로 분리되어 있음\n",
    "    - _pos: 매장에서 결제\n",
    "    - _net: 온라인 결제\n",
    "- 상품 카테고리별 분석만 수행하여 데이터 스케일을 줄여 분석 속도를 높이고자 함\n",
    "- _pos, _net 삭제"
   ]
  },
  {
   "cell_type": "code",
   "execution_count": 29,
   "id": "1e24eea5",
   "metadata": {},
   "outputs": [
    {
     "data": {
      "text/plain": [
       "shopping_pos      39354\n",
       "gas_transport     35552\n",
       "home              34393\n",
       "grocery_pos       33929\n",
       "kids_pets         32376\n",
       "shopping_net      32067\n",
       "food_dining       29022\n",
       "personal_care     28791\n",
       "entertainment     27058\n",
       "misc_pos          25989\n",
       "health_fitness    25221\n",
       "misc_net          20124\n",
       "grocery_net       19965\n",
       "travel            10237\n",
       "Name: merch_category, dtype: int64"
      ]
     },
     "execution_count": 29,
     "metadata": {},
     "output_type": "execute_result"
    }
   ],
   "source": [
    "cc_df['merch_category'].value_counts()"
   ]
  },
  {
   "cell_type": "code",
   "execution_count": 30,
   "id": "98c03050",
   "metadata": {},
   "outputs": [],
   "source": [
    "cc_df['merch_category'] = cc_df['merch_category'].str.replace(r'(_pos|_net)', '', regex=True)"
   ]
  },
  {
   "cell_type": "code",
   "execution_count": 31,
   "id": "a38bdd20",
   "metadata": {},
   "outputs": [
    {
     "data": {
      "text/plain": [
       "shopping          71421\n",
       "grocery           53894\n",
       "misc              46113\n",
       "gas_transport     35552\n",
       "home              34393\n",
       "kids_pets         32376\n",
       "food_dining       29022\n",
       "personal_care     28791\n",
       "entertainment     27058\n",
       "health_fitness    25221\n",
       "travel            10237\n",
       "Name: merch_category, dtype: int64"
      ]
     },
     "execution_count": 31,
     "metadata": {},
     "output_type": "execute_result"
    }
   ],
   "source": [
    "cc_df['merch_category'].value_counts()"
   ]
  },
  {
   "cell_type": "markdown",
   "id": "4f41cf43",
   "metadata": {},
   "source": [
    "# 7. 새로운 컬럼 추가 (feature engineering)"
   ]
  },
  {
   "cell_type": "markdown",
   "id": "0249f1f0",
   "metadata": {},
   "source": [
    "## 7-1. 거래 시간대 컬럼"
   ]
  },
  {
   "cell_type": "markdown",
   "id": "5cf1fdce",
   "metadata": {},
   "source": [
    "- 거래 시간을 morning, afternoon, evening, night로 구분\n",
    "- 특정 시간대에 신용카드 이상거래가 빈번히 발생할 수 있음\n",
    "- 거래 시간을 구분하면 모델이 이러한 패턴을 학습하는 데 도움이 될 것임"
   ]
  },
  {
   "cell_type": "code",
   "execution_count": 32,
   "id": "c434f8a6",
   "metadata": {},
   "outputs": [],
   "source": [
    "def assign_timeOfDay(datetime):\n",
    "    hour = datetime.hour\n",
    "    if 6 <= hour < 12:\n",
    "        return 'morning'\n",
    "    elif 12 <= hour < 18:\n",
    "        return 'afternoon'\n",
    "    elif 18 <= hour < 24:\n",
    "        return 'evening'\n",
    "    else:\n",
    "        return 'night'"
   ]
  },
  {
   "cell_type": "code",
   "execution_count": 33,
   "id": "187cbc2a",
   "metadata": {},
   "outputs": [],
   "source": [
    "cc_df['trans_timeOfDay'] = cc_df['trans_time'].apply(assign_timeOfDay)"
   ]
  },
  {
   "cell_type": "code",
   "execution_count": 34,
   "id": "84a008e8",
   "metadata": {},
   "outputs": [
    {
     "data": {
      "text/plain": [
       "afternoon    142452\n",
       "evening      141715\n",
       "morning       54999\n",
       "night         54912\n",
       "Name: trans_timeOfDay, dtype: int64"
      ]
     },
     "execution_count": 34,
     "metadata": {},
     "output_type": "execute_result"
    }
   ],
   "source": [
    "cc_df['trans_timeOfDay'].value_counts()"
   ]
  },
  {
   "cell_type": "markdown",
   "id": "16c18120",
   "metadata": {},
   "source": [
    "## 7-2. 거래 금액의 Z-score 컬럼"
   ]
  },
  {
   "cell_type": "markdown",
   "id": "677c8059",
   "metadata": {},
   "source": [
    "- 정상 거래(is_fraud == 0)에 한하여, 거래 금액의 평균, 표준편차를 구한뒤,\n",
    "- 모든 거래 금액의 Z-score를 계산하여 컬럼을 만듬\n",
    "- Z-score는 특정 거래가 평균 거래 금액에서 얼마나 벗어나 있는지를 직관적으로 이해하게 하며, 모델이 이러한 패턴을 학습하는데 도움이 될 것임"
   ]
  },
  {
   "cell_type": "code",
   "execution_count": 35,
   "id": "b1d833d3",
   "metadata": {},
   "outputs": [
    {
     "data": {
      "text/plain": [
       "0    393072\n",
       "1      1006\n",
       "Name: is_fraud, dtype: int64"
      ]
     },
     "execution_count": 35,
     "metadata": {},
     "output_type": "execute_result"
    }
   ],
   "source": [
    "cc_df['is_fraud'].value_counts()"
   ]
  },
  {
   "cell_type": "code",
   "execution_count": 36,
   "id": "9cbb373c",
   "metadata": {},
   "outputs": [],
   "source": [
    "trans_normal = cc_df[cc_df['is_fraud'] == 0]"
   ]
  },
  {
   "cell_type": "code",
   "execution_count": 37,
   "id": "a7faab96",
   "metadata": {},
   "outputs": [],
   "source": [
    "trans_mean = trans_normal['amount'].mean()\n",
    "trans_std = trans_normal['amount'].std()"
   ]
  },
  {
   "cell_type": "code",
   "execution_count": 38,
   "id": "97774319",
   "metadata": {},
   "outputs": [],
   "source": [
    "cc_df['amount_zscore'] = (cc_df['amount'] - trans_mean) / trans_std"
   ]
  },
  {
   "cell_type": "code",
   "execution_count": 39,
   "id": "a43dbee3",
   "metadata": {},
   "outputs": [
    {
     "data": {
      "text/html": [
       "<div>\n",
       "<style scoped>\n",
       "    .dataframe tbody tr th:only-of-type {\n",
       "        vertical-align: middle;\n",
       "    }\n",
       "\n",
       "    .dataframe tbody tr th {\n",
       "        vertical-align: top;\n",
       "    }\n",
       "\n",
       "    .dataframe thead th {\n",
       "        text-align: right;\n",
       "    }\n",
       "</style>\n",
       "<table border=\"1\" class=\"dataframe\">\n",
       "  <thead>\n",
       "    <tr style=\"text-align: right;\">\n",
       "      <th></th>\n",
       "      <th>trans_time</th>\n",
       "      <th>cc_num</th>\n",
       "      <th>merch_shop</th>\n",
       "      <th>merch_category</th>\n",
       "      <th>amount</th>\n",
       "      <th>city_pop</th>\n",
       "      <th>holder_job</th>\n",
       "      <th>trans_num</th>\n",
       "      <th>unix_time</th>\n",
       "      <th>merch_lat</th>\n",
       "      <th>merch_long</th>\n",
       "      <th>is_fraud</th>\n",
       "      <th>trans_timeOfDay</th>\n",
       "      <th>amount_zscore</th>\n",
       "    </tr>\n",
       "  </thead>\n",
       "  <tbody>\n",
       "    <tr>\n",
       "      <th>0</th>\n",
       "      <td>2019-01-01 00:17:16</td>\n",
       "      <td>180048185037117</td>\n",
       "      <td>Kling-Grant</td>\n",
       "      <td>grocery</td>\n",
       "      <td>3.834710</td>\n",
       "      <td>71485</td>\n",
       "      <td>Leisure centre manager</td>\n",
       "      <td>19e23c6a300c774354417befe4f31f8c</td>\n",
       "      <td>1325377036</td>\n",
       "      <td>40.021888</td>\n",
       "      <td>-74.228188</td>\n",
       "      <td>0</td>\n",
       "      <td>night</td>\n",
       "      <td>0.308584</td>\n",
       "    </tr>\n",
       "    <tr>\n",
       "      <th>1</th>\n",
       "      <td>2019-01-01 00:20:15</td>\n",
       "      <td>374930071163758</td>\n",
       "      <td>Deckow-O'Conner</td>\n",
       "      <td>grocery</td>\n",
       "      <td>4.160288</td>\n",
       "      <td>31515</td>\n",
       "      <td>Police officer</td>\n",
       "      <td>6f363661ba6b55889e488dd178f2a0af</td>\n",
       "      <td>1325377215</td>\n",
       "      <td>42.360426</td>\n",
       "      <td>-83.552316</td>\n",
       "      <td>0</td>\n",
       "      <td>night</td>\n",
       "      <td>0.539018</td>\n",
       "    </tr>\n",
       "  </tbody>\n",
       "</table>\n",
       "</div>"
      ],
      "text/plain": [
       "           trans_time           cc_num       merch_shop merch_category  \\\n",
       "0 2019-01-01 00:17:16  180048185037117      Kling-Grant        grocery   \n",
       "1 2019-01-01 00:20:15  374930071163758  Deckow-O'Conner        grocery   \n",
       "\n",
       "     amount  city_pop              holder_job  \\\n",
       "0  3.834710     71485  Leisure centre manager   \n",
       "1  4.160288     31515          Police officer   \n",
       "\n",
       "                          trans_num   unix_time  merch_lat  merch_long  \\\n",
       "0  19e23c6a300c774354417befe4f31f8c  1325377036  40.021888  -74.228188   \n",
       "1  6f363661ba6b55889e488dd178f2a0af  1325377215  42.360426  -83.552316   \n",
       "\n",
       "   is_fraud trans_timeOfDay  amount_zscore  \n",
       "0         0           night       0.308584  \n",
       "1         0           night       0.539018  "
      ]
     },
     "execution_count": 39,
     "metadata": {},
     "output_type": "execute_result"
    }
   ],
   "source": [
    "cc_df.head(2)"
   ]
  },
  {
   "cell_type": "markdown",
   "id": "5a798181",
   "metadata": {},
   "source": [
    "## 7-3. 인구수 범주화 컬럼"
   ]
  },
  {
   "cell_type": "markdown",
   "id": "d066774d",
   "metadata": {},
   "source": [
    "- small_town (인구 < 10만), medium_sized_city (10만 ≤ 인구 < 100만), large_city (인구 ≥ 100만)로 범주화"
   ]
  },
  {
   "cell_type": "code",
   "execution_count": 40,
   "id": "d7c52a6c",
   "metadata": {},
   "outputs": [],
   "source": [
    "def assign_population(population):\n",
    "    if population < 100000:\n",
    "        return 'small_town'\n",
    "    elif 100000 <= population < 1000000:\n",
    "        return 'medium_sized_city'\n",
    "    else:\n",
    "        return 'large_city'"
   ]
  },
  {
   "cell_type": "code",
   "execution_count": 41,
   "id": "d062b73c",
   "metadata": {},
   "outputs": [],
   "source": [
    "cc_df['popula_category'] = cc_df['city_pop'].apply(assign_population)"
   ]
  },
  {
   "cell_type": "code",
   "execution_count": 42,
   "id": "2a792854",
   "metadata": {},
   "outputs": [
    {
     "data": {
      "text/plain": [
       "small_town           316006\n",
       "medium_sized_city     65676\n",
       "large_city            12396\n",
       "Name: popula_category, dtype: int64"
      ]
     },
     "execution_count": 42,
     "metadata": {},
     "output_type": "execute_result"
    }
   ],
   "source": [
    "cc_df['popula_category'].value_counts()"
   ]
  },
  {
   "cell_type": "markdown",
   "id": "70e3d013",
   "metadata": {},
   "source": [
    "## 7-4. 인구수 대비 거래금액 컬럼"
   ]
  },
  {
   "cell_type": "markdown",
   "id": "b6039483",
   "metadata": {},
   "source": [
    "- 특정 거래금액이 해당 지역의 경제 규모에 비해 과도한지 여부를 판단하는 데 도움\n",
    "- 금액의 크기가 클수록 1인당 부담이 커지므로, 이상치 포착에 유리"
   ]
  },
  {
   "cell_type": "code",
   "execution_count": 43,
   "id": "414b17fa",
   "metadata": {},
   "outputs": [],
   "source": [
    "cc_df['pop_amount_ratio'] = cc_df['amount'] / cc_df['city_pop']"
   ]
  },
  {
   "cell_type": "code",
   "execution_count": 44,
   "id": "57267aee",
   "metadata": {},
   "outputs": [
    {
     "data": {
      "text/html": [
       "<div>\n",
       "<style scoped>\n",
       "    .dataframe tbody tr th:only-of-type {\n",
       "        vertical-align: middle;\n",
       "    }\n",
       "\n",
       "    .dataframe tbody tr th {\n",
       "        vertical-align: top;\n",
       "    }\n",
       "\n",
       "    .dataframe thead th {\n",
       "        text-align: right;\n",
       "    }\n",
       "</style>\n",
       "<table border=\"1\" class=\"dataframe\">\n",
       "  <thead>\n",
       "    <tr style=\"text-align: right;\">\n",
       "      <th></th>\n",
       "      <th>trans_time</th>\n",
       "      <th>cc_num</th>\n",
       "      <th>merch_shop</th>\n",
       "      <th>merch_category</th>\n",
       "      <th>amount</th>\n",
       "      <th>city_pop</th>\n",
       "      <th>holder_job</th>\n",
       "      <th>trans_num</th>\n",
       "      <th>unix_time</th>\n",
       "      <th>merch_lat</th>\n",
       "      <th>merch_long</th>\n",
       "      <th>is_fraud</th>\n",
       "      <th>trans_timeOfDay</th>\n",
       "      <th>amount_zscore</th>\n",
       "      <th>popula_category</th>\n",
       "      <th>pop_amount_ratio</th>\n",
       "    </tr>\n",
       "  </thead>\n",
       "  <tbody>\n",
       "    <tr>\n",
       "      <th>0</th>\n",
       "      <td>2019-01-01 00:17:16</td>\n",
       "      <td>180048185037117</td>\n",
       "      <td>Kling-Grant</td>\n",
       "      <td>grocery</td>\n",
       "      <td>3.834710</td>\n",
       "      <td>71485</td>\n",
       "      <td>Leisure centre manager</td>\n",
       "      <td>19e23c6a300c774354417befe4f31f8c</td>\n",
       "      <td>1325377036</td>\n",
       "      <td>40.021888</td>\n",
       "      <td>-74.228188</td>\n",
       "      <td>0</td>\n",
       "      <td>night</td>\n",
       "      <td>0.308584</td>\n",
       "      <td>small_town</td>\n",
       "      <td>0.000054</td>\n",
       "    </tr>\n",
       "    <tr>\n",
       "      <th>1</th>\n",
       "      <td>2019-01-01 00:20:15</td>\n",
       "      <td>374930071163758</td>\n",
       "      <td>Deckow-O'Conner</td>\n",
       "      <td>grocery</td>\n",
       "      <td>4.160288</td>\n",
       "      <td>31515</td>\n",
       "      <td>Police officer</td>\n",
       "      <td>6f363661ba6b55889e488dd178f2a0af</td>\n",
       "      <td>1325377215</td>\n",
       "      <td>42.360426</td>\n",
       "      <td>-83.552316</td>\n",
       "      <td>0</td>\n",
       "      <td>night</td>\n",
       "      <td>0.539018</td>\n",
       "      <td>small_town</td>\n",
       "      <td>0.000132</td>\n",
       "    </tr>\n",
       "    <tr>\n",
       "      <th>2</th>\n",
       "      <td>2019-01-01 00:23:41</td>\n",
       "      <td>2712209726293386</td>\n",
       "      <td>Balistreri-Nader</td>\n",
       "      <td>misc</td>\n",
       "      <td>3.241811</td>\n",
       "      <td>378909</td>\n",
       "      <td>Designer, furniture</td>\n",
       "      <td>1654da2abfb9e79a5f99167fc9779558</td>\n",
       "      <td>1325377421</td>\n",
       "      <td>29.737426</td>\n",
       "      <td>-90.853194</td>\n",
       "      <td>0</td>\n",
       "      <td>night</td>\n",
       "      <td>-0.111051</td>\n",
       "      <td>medium_sized_city</td>\n",
       "      <td>0.000009</td>\n",
       "    </tr>\n",
       "  </tbody>\n",
       "</table>\n",
       "</div>"
      ],
      "text/plain": [
       "           trans_time            cc_num        merch_shop merch_category  \\\n",
       "0 2019-01-01 00:17:16   180048185037117       Kling-Grant        grocery   \n",
       "1 2019-01-01 00:20:15   374930071163758   Deckow-O'Conner        grocery   \n",
       "2 2019-01-01 00:23:41  2712209726293386  Balistreri-Nader           misc   \n",
       "\n",
       "     amount  city_pop              holder_job  \\\n",
       "0  3.834710     71485  Leisure centre manager   \n",
       "1  4.160288     31515          Police officer   \n",
       "2  3.241811    378909     Designer, furniture   \n",
       "\n",
       "                          trans_num   unix_time  merch_lat  merch_long  \\\n",
       "0  19e23c6a300c774354417befe4f31f8c  1325377036  40.021888  -74.228188   \n",
       "1  6f363661ba6b55889e488dd178f2a0af  1325377215  42.360426  -83.552316   \n",
       "2  1654da2abfb9e79a5f99167fc9779558  1325377421  29.737426  -90.853194   \n",
       "\n",
       "   is_fraud trans_timeOfDay  amount_zscore    popula_category  \\\n",
       "0         0           night       0.308584         small_town   \n",
       "1         0           night       0.539018         small_town   \n",
       "2         0           night      -0.111051  medium_sized_city   \n",
       "\n",
       "   pop_amount_ratio  \n",
       "0          0.000054  \n",
       "1          0.000132  \n",
       "2          0.000009  "
      ]
     },
     "execution_count": 44,
     "metadata": {},
     "output_type": "execute_result"
    }
   ],
   "source": [
    "cc_df.head(3)"
   ]
  },
  {
   "cell_type": "markdown",
   "id": "b05c3bee",
   "metadata": {},
   "source": [
    "## 7-5. 거래 발생 주기 컬럼"
   ]
  },
  {
   "cell_type": "markdown",
   "id": "29acc70a",
   "metadata": {},
   "source": [
    "- 동일한 카드로 발생한 이전 거래와의 시간 간격을 계산하여 비정상적으로 짧은 시간 내 반복되는 거래를 탐지\n",
    "- 임계값(threshold)은 1시간으로 설정\n",
    "- 동일한 카드로 임계값 이내 다시 거래가 있을 경우 1로 표시, 아닐 경우 0으로 표시\n",
    "- 임계값 설정의 타당성은 검토하지 않음"
   ]
  },
  {
   "cell_type": "code",
   "execution_count": 45,
   "id": "85e2b4c0",
   "metadata": {},
   "outputs": [],
   "source": [
    "# NaT 값 주의!!\n",
    "cc_df['time_since_last_transaction'] = cc_df.groupby('cc_num')['trans_time'].diff()"
   ]
  },
  {
   "cell_type": "code",
   "execution_count": 46,
   "id": "c67387ef",
   "metadata": {},
   "outputs": [],
   "source": [
    "threshold = pd.Timedelta(hours=1)\n",
    "cc_df['short_interval_trans'] = cc_df['time_since_last_transaction'].apply(lambda x: 1 if x > threshold else 0 if x < threshold else 0)"
   ]
  },
  {
   "cell_type": "code",
   "execution_count": 47,
   "id": "a9e2973e",
   "metadata": {},
   "outputs": [
    {
     "data": {
      "text/plain": [
       "1    288144\n",
       "0    105934\n",
       "Name: short_interval_trans, dtype: int64"
      ]
     },
     "execution_count": 47,
     "metadata": {},
     "output_type": "execute_result"
    }
   ],
   "source": [
    "cc_df['short_interval_trans'].value_counts()"
   ]
  },
  {
   "cell_type": "code",
   "execution_count": 48,
   "id": "49b3aecb",
   "metadata": {},
   "outputs": [
    {
     "data": {
      "text/html": [
       "<div>\n",
       "<style scoped>\n",
       "    .dataframe tbody tr th:only-of-type {\n",
       "        vertical-align: middle;\n",
       "    }\n",
       "\n",
       "    .dataframe tbody tr th {\n",
       "        vertical-align: top;\n",
       "    }\n",
       "\n",
       "    .dataframe thead th {\n",
       "        text-align: right;\n",
       "    }\n",
       "</style>\n",
       "<table border=\"1\" class=\"dataframe\">\n",
       "  <thead>\n",
       "    <tr style=\"text-align: right;\">\n",
       "      <th></th>\n",
       "      <th>trans_time</th>\n",
       "      <th>cc_num</th>\n",
       "      <th>merch_shop</th>\n",
       "      <th>merch_category</th>\n",
       "      <th>amount</th>\n",
       "      <th>city_pop</th>\n",
       "      <th>holder_job</th>\n",
       "      <th>trans_num</th>\n",
       "      <th>unix_time</th>\n",
       "      <th>merch_lat</th>\n",
       "      <th>merch_long</th>\n",
       "      <th>is_fraud</th>\n",
       "      <th>trans_timeOfDay</th>\n",
       "      <th>amount_zscore</th>\n",
       "      <th>popula_category</th>\n",
       "      <th>pop_amount_ratio</th>\n",
       "      <th>time_since_last_transaction</th>\n",
       "      <th>short_interval_trans</th>\n",
       "    </tr>\n",
       "  </thead>\n",
       "  <tbody>\n",
       "    <tr>\n",
       "      <th>0</th>\n",
       "      <td>2019-01-01 00:17:16</td>\n",
       "      <td>180048185037117</td>\n",
       "      <td>Kling-Grant</td>\n",
       "      <td>grocery</td>\n",
       "      <td>3.834710</td>\n",
       "      <td>71485</td>\n",
       "      <td>Leisure centre manager</td>\n",
       "      <td>19e23c6a300c774354417befe4f31f8c</td>\n",
       "      <td>1325377036</td>\n",
       "      <td>40.021888</td>\n",
       "      <td>-74.228188</td>\n",
       "      <td>0</td>\n",
       "      <td>night</td>\n",
       "      <td>0.308584</td>\n",
       "      <td>small_town</td>\n",
       "      <td>0.000054</td>\n",
       "      <td>NaT</td>\n",
       "      <td>0</td>\n",
       "    </tr>\n",
       "    <tr>\n",
       "      <th>1</th>\n",
       "      <td>2019-01-01 00:20:15</td>\n",
       "      <td>374930071163758</td>\n",
       "      <td>Deckow-O'Conner</td>\n",
       "      <td>grocery</td>\n",
       "      <td>4.160288</td>\n",
       "      <td>31515</td>\n",
       "      <td>Police officer</td>\n",
       "      <td>6f363661ba6b55889e488dd178f2a0af</td>\n",
       "      <td>1325377215</td>\n",
       "      <td>42.360426</td>\n",
       "      <td>-83.552316</td>\n",
       "      <td>0</td>\n",
       "      <td>night</td>\n",
       "      <td>0.539018</td>\n",
       "      <td>small_town</td>\n",
       "      <td>0.000132</td>\n",
       "      <td>NaT</td>\n",
       "      <td>0</td>\n",
       "    </tr>\n",
       "    <tr>\n",
       "      <th>2</th>\n",
       "      <td>2019-01-01 00:23:41</td>\n",
       "      <td>2712209726293386</td>\n",
       "      <td>Balistreri-Nader</td>\n",
       "      <td>misc</td>\n",
       "      <td>3.241811</td>\n",
       "      <td>378909</td>\n",
       "      <td>Designer, furniture</td>\n",
       "      <td>1654da2abfb9e79a5f99167fc9779558</td>\n",
       "      <td>1325377421</td>\n",
       "      <td>29.737426</td>\n",
       "      <td>-90.853194</td>\n",
       "      <td>0</td>\n",
       "      <td>night</td>\n",
       "      <td>-0.111051</td>\n",
       "      <td>medium_sized_city</td>\n",
       "      <td>0.000009</td>\n",
       "      <td>NaT</td>\n",
       "      <td>0</td>\n",
       "    </tr>\n",
       "    <tr>\n",
       "      <th>3</th>\n",
       "      <td>2019-01-01 00:26:22</td>\n",
       "      <td>3598215285024754</td>\n",
       "      <td>Heidenreich PLC</td>\n",
       "      <td>grocery</td>\n",
       "      <td>5.334456</td>\n",
       "      <td>34496</td>\n",
       "      <td>Librarian, public</td>\n",
       "      <td>f246ac27c09429ff1e385d4683c79c4d</td>\n",
       "      <td>1325377582</td>\n",
       "      <td>40.202538</td>\n",
       "      <td>-73.859212</td>\n",
       "      <td>0</td>\n",
       "      <td>night</td>\n",
       "      <td>1.370057</td>\n",
       "      <td>small_town</td>\n",
       "      <td>0.000155</td>\n",
       "      <td>NaT</td>\n",
       "      <td>0</td>\n",
       "    </tr>\n",
       "    <tr>\n",
       "      <th>4</th>\n",
       "      <td>2019-01-01 00:27:45</td>\n",
       "      <td>213141712584544</td>\n",
       "      <td>Halvorson Group</td>\n",
       "      <td>misc</td>\n",
       "      <td>5.200429</td>\n",
       "      <td>19685</td>\n",
       "      <td>Fine artist</td>\n",
       "      <td>7bb25a43205191eb7344282b88fc54d3</td>\n",
       "      <td>1325377665</td>\n",
       "      <td>31.939812</td>\n",
       "      <td>-90.726209</td>\n",
       "      <td>0</td>\n",
       "      <td>night</td>\n",
       "      <td>1.275197</td>\n",
       "      <td>small_town</td>\n",
       "      <td>0.000264</td>\n",
       "      <td>NaT</td>\n",
       "      <td>0</td>\n",
       "    </tr>\n",
       "  </tbody>\n",
       "</table>\n",
       "</div>"
      ],
      "text/plain": [
       "           trans_time            cc_num        merch_shop merch_category  \\\n",
       "0 2019-01-01 00:17:16   180048185037117       Kling-Grant        grocery   \n",
       "1 2019-01-01 00:20:15   374930071163758   Deckow-O'Conner        grocery   \n",
       "2 2019-01-01 00:23:41  2712209726293386  Balistreri-Nader           misc   \n",
       "3 2019-01-01 00:26:22  3598215285024754   Heidenreich PLC        grocery   \n",
       "4 2019-01-01 00:27:45   213141712584544   Halvorson Group           misc   \n",
       "\n",
       "     amount  city_pop              holder_job  \\\n",
       "0  3.834710     71485  Leisure centre manager   \n",
       "1  4.160288     31515          Police officer   \n",
       "2  3.241811    378909     Designer, furniture   \n",
       "3  5.334456     34496       Librarian, public   \n",
       "4  5.200429     19685             Fine artist   \n",
       "\n",
       "                          trans_num   unix_time  merch_lat  merch_long  \\\n",
       "0  19e23c6a300c774354417befe4f31f8c  1325377036  40.021888  -74.228188   \n",
       "1  6f363661ba6b55889e488dd178f2a0af  1325377215  42.360426  -83.552316   \n",
       "2  1654da2abfb9e79a5f99167fc9779558  1325377421  29.737426  -90.853194   \n",
       "3  f246ac27c09429ff1e385d4683c79c4d  1325377582  40.202538  -73.859212   \n",
       "4  7bb25a43205191eb7344282b88fc54d3  1325377665  31.939812  -90.726209   \n",
       "\n",
       "   is_fraud trans_timeOfDay  amount_zscore    popula_category  \\\n",
       "0         0           night       0.308584         small_town   \n",
       "1         0           night       0.539018         small_town   \n",
       "2         0           night      -0.111051  medium_sized_city   \n",
       "3         0           night       1.370057         small_town   \n",
       "4         0           night       1.275197         small_town   \n",
       "\n",
       "   pop_amount_ratio time_since_last_transaction  short_interval_trans  \n",
       "0          0.000054                         NaT                     0  \n",
       "1          0.000132                         NaT                     0  \n",
       "2          0.000009                         NaT                     0  \n",
       "3          0.000155                         NaT                     0  \n",
       "4          0.000264                         NaT                     0  "
      ]
     },
     "execution_count": 48,
     "metadata": {},
     "output_type": "execute_result"
    }
   ],
   "source": [
    "cc_df.head()"
   ]
  },
  {
   "cell_type": "markdown",
   "id": "6035bcd6",
   "metadata": {},
   "source": [
    "# 8. 불필요한 컬럼 삭제"
   ]
  },
  {
   "cell_type": "markdown",
   "id": "f0b7fdbd",
   "metadata": {},
   "source": [
    "## 8-1. feature engineering으로 분석 완료한 컬럼 삭제"
   ]
  },
  {
   "cell_type": "code",
   "execution_count": 49,
   "id": "03132bc5",
   "metadata": {},
   "outputs": [],
   "source": [
    "cc_df.drop( [ 'trans_time', 'cc_num', 'amount', 'city_pop', 'time_since_last_transaction' ],  axis=1, inplace=True)"
   ]
  },
  {
   "cell_type": "markdown",
   "id": "0b5ae60c",
   "metadata": {},
   "source": [
    "## 8-2. 머신러닝 알고리즘에 적용하지 않을 컬럼 삭제"
   ]
  },
  {
   "cell_type": "markdown",
   "id": "2a52bf98",
   "metadata": {},
   "source": [
    "- merch_category 컬럼을 제외하고 모두 삭제\n",
    "- 삭제 이유: 유니크한 개수가 많아 패턴을 분석하기 어렵고, 다른 컬럼들과 유의미한 분석을 진행하지 않음\n",
    "- 삭제되는 컬럼들에 대해 좀더 유의미한 분석을 하지 못한 아쉬움!!!"
   ]
  },
  {
   "cell_type": "code",
   "execution_count": 50,
   "id": "3d17bca4",
   "metadata": {},
   "outputs": [
    {
     "data": {
      "text/plain": [
       "0               merch_shop\n",
       "1           merch_category\n",
       "2               holder_job\n",
       "3                trans_num\n",
       "4                unix_time\n",
       "5                merch_lat\n",
       "6               merch_long\n",
       "7                 is_fraud\n",
       "8          trans_timeOfDay\n",
       "9            amount_zscore\n",
       "10         popula_category\n",
       "11        pop_amount_ratio\n",
       "12    short_interval_trans\n",
       "dtype: object"
      ]
     },
     "execution_count": 50,
     "metadata": {},
     "output_type": "execute_result"
    }
   ],
   "source": [
    "pd.Series(cc_df.columns)"
   ]
  },
  {
   "cell_type": "code",
   "execution_count": 51,
   "id": "89b43de4",
   "metadata": {},
   "outputs": [],
   "source": [
    "def count_unique(col):\n",
    "    print(f'\\n* {col}: {cc_df[col].nunique()}개')"
   ]
  },
  {
   "cell_type": "code",
   "execution_count": 52,
   "id": "b429c6d7",
   "metadata": {},
   "outputs": [
    {
     "name": "stdout",
     "output_type": "stream",
     "text": [
      "== 유니크한 개수==\n",
      "\n",
      "* merch_shop: 693개\n",
      "\n",
      "* merch_category: 11개\n",
      "\n",
      "* holder_job: 93개\n",
      "\n",
      "* trans_num: 394078개\n",
      "\n",
      "* unix_time: 392340개\n",
      "\n",
      "* merch_lat: 389722개\n",
      "\n",
      "* merch_long: 391717개\n"
     ]
    }
   ],
   "source": [
    "deleteOrNot_cols = cc_df.columns[[0, 1, 2, 3, 4, 5, 6]]\n",
    "\n",
    "print('== 유니크한 개수==')\n",
    "for col in deleteOrNot_cols:\n",
    "    count_unique(col)"
   ]
  },
  {
   "cell_type": "code",
   "execution_count": 53,
   "id": "6dff49d1",
   "metadata": {},
   "outputs": [],
   "source": [
    "cc_df.drop( [ 'merch_shop', 'holder_job', 'trans_num', 'unix_time', 'merch_lat', 'merch_long' ],  axis=1, inplace=True)"
   ]
  },
  {
   "cell_type": "code",
   "execution_count": 54,
   "id": "12670fc8",
   "metadata": {},
   "outputs": [
    {
     "data": {
      "text/plain": [
       "(394078, 7)"
      ]
     },
     "execution_count": 54,
     "metadata": {},
     "output_type": "execute_result"
    }
   ],
   "source": [
    "cc_df.shape"
   ]
  },
  {
   "cell_type": "code",
   "execution_count": 55,
   "id": "1a77961f",
   "metadata": {},
   "outputs": [
    {
     "data": {
      "text/html": [
       "<div>\n",
       "<style scoped>\n",
       "    .dataframe tbody tr th:only-of-type {\n",
       "        vertical-align: middle;\n",
       "    }\n",
       "\n",
       "    .dataframe tbody tr th {\n",
       "        vertical-align: top;\n",
       "    }\n",
       "\n",
       "    .dataframe thead th {\n",
       "        text-align: right;\n",
       "    }\n",
       "</style>\n",
       "<table border=\"1\" class=\"dataframe\">\n",
       "  <thead>\n",
       "    <tr style=\"text-align: right;\">\n",
       "      <th></th>\n",
       "      <th>merch_category</th>\n",
       "      <th>is_fraud</th>\n",
       "      <th>trans_timeOfDay</th>\n",
       "      <th>amount_zscore</th>\n",
       "      <th>popula_category</th>\n",
       "      <th>pop_amount_ratio</th>\n",
       "      <th>short_interval_trans</th>\n",
       "    </tr>\n",
       "  </thead>\n",
       "  <tbody>\n",
       "    <tr>\n",
       "      <th>0</th>\n",
       "      <td>grocery</td>\n",
       "      <td>0</td>\n",
       "      <td>night</td>\n",
       "      <td>0.308584</td>\n",
       "      <td>small_town</td>\n",
       "      <td>0.000054</td>\n",
       "      <td>0</td>\n",
       "    </tr>\n",
       "    <tr>\n",
       "      <th>1</th>\n",
       "      <td>grocery</td>\n",
       "      <td>0</td>\n",
       "      <td>night</td>\n",
       "      <td>0.539018</td>\n",
       "      <td>small_town</td>\n",
       "      <td>0.000132</td>\n",
       "      <td>0</td>\n",
       "    </tr>\n",
       "    <tr>\n",
       "      <th>2</th>\n",
       "      <td>misc</td>\n",
       "      <td>0</td>\n",
       "      <td>night</td>\n",
       "      <td>-0.111051</td>\n",
       "      <td>medium_sized_city</td>\n",
       "      <td>0.000009</td>\n",
       "      <td>0</td>\n",
       "    </tr>\n",
       "    <tr>\n",
       "      <th>3</th>\n",
       "      <td>grocery</td>\n",
       "      <td>0</td>\n",
       "      <td>night</td>\n",
       "      <td>1.370057</td>\n",
       "      <td>small_town</td>\n",
       "      <td>0.000155</td>\n",
       "      <td>0</td>\n",
       "    </tr>\n",
       "    <tr>\n",
       "      <th>4</th>\n",
       "      <td>misc</td>\n",
       "      <td>0</td>\n",
       "      <td>night</td>\n",
       "      <td>1.275197</td>\n",
       "      <td>small_town</td>\n",
       "      <td>0.000264</td>\n",
       "      <td>0</td>\n",
       "    </tr>\n",
       "  </tbody>\n",
       "</table>\n",
       "</div>"
      ],
      "text/plain": [
       "  merch_category  is_fraud trans_timeOfDay  amount_zscore    popula_category  \\\n",
       "0        grocery         0           night       0.308584         small_town   \n",
       "1        grocery         0           night       0.539018         small_town   \n",
       "2           misc         0           night      -0.111051  medium_sized_city   \n",
       "3        grocery         0           night       1.370057         small_town   \n",
       "4           misc         0           night       1.275197         small_town   \n",
       "\n",
       "   pop_amount_ratio  short_interval_trans  \n",
       "0          0.000054                     0  \n",
       "1          0.000132                     0  \n",
       "2          0.000009                     0  \n",
       "3          0.000155                     0  \n",
       "4          0.000264                     0  "
      ]
     },
     "execution_count": 55,
     "metadata": {},
     "output_type": "execute_result"
    }
   ],
   "source": [
    "cc_df.head()"
   ]
  },
  {
   "cell_type": "code",
   "execution_count": 56,
   "id": "43803635",
   "metadata": {},
   "outputs": [
    {
     "name": "stdout",
     "output_type": "stream",
     "text": [
      "<class 'pandas.core.frame.DataFrame'>\n",
      "RangeIndex: 394078 entries, 0 to 394077\n",
      "Data columns (total 7 columns):\n",
      " #   Column                Non-Null Count   Dtype  \n",
      "---  ------                --------------   -----  \n",
      " 0   merch_category        394078 non-null  object \n",
      " 1   is_fraud              394078 non-null  int64  \n",
      " 2   trans_timeOfDay       394078 non-null  object \n",
      " 3   amount_zscore         394078 non-null  float64\n",
      " 4   popula_category       394078 non-null  object \n",
      " 5   pop_amount_ratio      394078 non-null  float64\n",
      " 6   short_interval_trans  394078 non-null  int64  \n",
      "dtypes: float64(2), int64(2), object(3)\n",
      "memory usage: 21.0+ MB\n"
     ]
    }
   ],
   "source": [
    "cc_df.info()"
   ]
  },
  {
   "cell_type": "markdown",
   "id": "f64b8d88",
   "metadata": {},
   "source": [
    "# 9. One-hot Encoding"
   ]
  },
  {
   "cell_type": "code",
   "execution_count": 57,
   "id": "200a9cf5",
   "metadata": {},
   "outputs": [],
   "source": [
    "encoded_cc_df = pd.get_dummies(cc_df, columns = ['merch_category','trans_timeOfDay','popula_category'], drop_first = True)"
   ]
  },
  {
   "cell_type": "code",
   "execution_count": 58,
   "id": "6b998967",
   "metadata": {},
   "outputs": [
    {
     "data": {
      "text/html": [
       "<div>\n",
       "<style scoped>\n",
       "    .dataframe tbody tr th:only-of-type {\n",
       "        vertical-align: middle;\n",
       "    }\n",
       "\n",
       "    .dataframe tbody tr th {\n",
       "        vertical-align: top;\n",
       "    }\n",
       "\n",
       "    .dataframe thead th {\n",
       "        text-align: right;\n",
       "    }\n",
       "</style>\n",
       "<table border=\"1\" class=\"dataframe\">\n",
       "  <thead>\n",
       "    <tr style=\"text-align: right;\">\n",
       "      <th></th>\n",
       "      <th>is_fraud</th>\n",
       "      <th>amount_zscore</th>\n",
       "      <th>pop_amount_ratio</th>\n",
       "      <th>short_interval_trans</th>\n",
       "      <th>merch_category_food_dining</th>\n",
       "      <th>merch_category_gas_transport</th>\n",
       "      <th>merch_category_grocery</th>\n",
       "      <th>merch_category_health_fitness</th>\n",
       "      <th>merch_category_home</th>\n",
       "      <th>merch_category_kids_pets</th>\n",
       "      <th>merch_category_misc</th>\n",
       "      <th>merch_category_personal_care</th>\n",
       "      <th>merch_category_shopping</th>\n",
       "      <th>merch_category_travel</th>\n",
       "      <th>trans_timeOfDay_evening</th>\n",
       "      <th>trans_timeOfDay_morning</th>\n",
       "      <th>trans_timeOfDay_night</th>\n",
       "      <th>popula_category_medium_sized_city</th>\n",
       "      <th>popula_category_small_town</th>\n",
       "    </tr>\n",
       "  </thead>\n",
       "  <tbody>\n",
       "    <tr>\n",
       "      <th>0</th>\n",
       "      <td>0</td>\n",
       "      <td>0.308584</td>\n",
       "      <td>0.000054</td>\n",
       "      <td>0</td>\n",
       "      <td>0</td>\n",
       "      <td>0</td>\n",
       "      <td>1</td>\n",
       "      <td>0</td>\n",
       "      <td>0</td>\n",
       "      <td>0</td>\n",
       "      <td>0</td>\n",
       "      <td>0</td>\n",
       "      <td>0</td>\n",
       "      <td>0</td>\n",
       "      <td>0</td>\n",
       "      <td>0</td>\n",
       "      <td>1</td>\n",
       "      <td>0</td>\n",
       "      <td>1</td>\n",
       "    </tr>\n",
       "    <tr>\n",
       "      <th>1</th>\n",
       "      <td>0</td>\n",
       "      <td>0.539018</td>\n",
       "      <td>0.000132</td>\n",
       "      <td>0</td>\n",
       "      <td>0</td>\n",
       "      <td>0</td>\n",
       "      <td>1</td>\n",
       "      <td>0</td>\n",
       "      <td>0</td>\n",
       "      <td>0</td>\n",
       "      <td>0</td>\n",
       "      <td>0</td>\n",
       "      <td>0</td>\n",
       "      <td>0</td>\n",
       "      <td>0</td>\n",
       "      <td>0</td>\n",
       "      <td>1</td>\n",
       "      <td>0</td>\n",
       "      <td>1</td>\n",
       "    </tr>\n",
       "    <tr>\n",
       "      <th>2</th>\n",
       "      <td>0</td>\n",
       "      <td>-0.111051</td>\n",
       "      <td>0.000009</td>\n",
       "      <td>0</td>\n",
       "      <td>0</td>\n",
       "      <td>0</td>\n",
       "      <td>0</td>\n",
       "      <td>0</td>\n",
       "      <td>0</td>\n",
       "      <td>0</td>\n",
       "      <td>1</td>\n",
       "      <td>0</td>\n",
       "      <td>0</td>\n",
       "      <td>0</td>\n",
       "      <td>0</td>\n",
       "      <td>0</td>\n",
       "      <td>1</td>\n",
       "      <td>1</td>\n",
       "      <td>0</td>\n",
       "    </tr>\n",
       "    <tr>\n",
       "      <th>3</th>\n",
       "      <td>0</td>\n",
       "      <td>1.370057</td>\n",
       "      <td>0.000155</td>\n",
       "      <td>0</td>\n",
       "      <td>0</td>\n",
       "      <td>0</td>\n",
       "      <td>1</td>\n",
       "      <td>0</td>\n",
       "      <td>0</td>\n",
       "      <td>0</td>\n",
       "      <td>0</td>\n",
       "      <td>0</td>\n",
       "      <td>0</td>\n",
       "      <td>0</td>\n",
       "      <td>0</td>\n",
       "      <td>0</td>\n",
       "      <td>1</td>\n",
       "      <td>0</td>\n",
       "      <td>1</td>\n",
       "    </tr>\n",
       "    <tr>\n",
       "      <th>4</th>\n",
       "      <td>0</td>\n",
       "      <td>1.275197</td>\n",
       "      <td>0.000264</td>\n",
       "      <td>0</td>\n",
       "      <td>0</td>\n",
       "      <td>0</td>\n",
       "      <td>0</td>\n",
       "      <td>0</td>\n",
       "      <td>0</td>\n",
       "      <td>0</td>\n",
       "      <td>1</td>\n",
       "      <td>0</td>\n",
       "      <td>0</td>\n",
       "      <td>0</td>\n",
       "      <td>0</td>\n",
       "      <td>0</td>\n",
       "      <td>1</td>\n",
       "      <td>0</td>\n",
       "      <td>1</td>\n",
       "    </tr>\n",
       "  </tbody>\n",
       "</table>\n",
       "</div>"
      ],
      "text/plain": [
       "   is_fraud  amount_zscore  pop_amount_ratio  short_interval_trans  \\\n",
       "0         0       0.308584          0.000054                     0   \n",
       "1         0       0.539018          0.000132                     0   \n",
       "2         0      -0.111051          0.000009                     0   \n",
       "3         0       1.370057          0.000155                     0   \n",
       "4         0       1.275197          0.000264                     0   \n",
       "\n",
       "   merch_category_food_dining  merch_category_gas_transport  \\\n",
       "0                           0                             0   \n",
       "1                           0                             0   \n",
       "2                           0                             0   \n",
       "3                           0                             0   \n",
       "4                           0                             0   \n",
       "\n",
       "   merch_category_grocery  merch_category_health_fitness  merch_category_home  \\\n",
       "0                       1                              0                    0   \n",
       "1                       1                              0                    0   \n",
       "2                       0                              0                    0   \n",
       "3                       1                              0                    0   \n",
       "4                       0                              0                    0   \n",
       "\n",
       "   merch_category_kids_pets  merch_category_misc  \\\n",
       "0                         0                    0   \n",
       "1                         0                    0   \n",
       "2                         0                    1   \n",
       "3                         0                    0   \n",
       "4                         0                    1   \n",
       "\n",
       "   merch_category_personal_care  merch_category_shopping  \\\n",
       "0                             0                        0   \n",
       "1                             0                        0   \n",
       "2                             0                        0   \n",
       "3                             0                        0   \n",
       "4                             0                        0   \n",
       "\n",
       "   merch_category_travel  trans_timeOfDay_evening  trans_timeOfDay_morning  \\\n",
       "0                      0                        0                        0   \n",
       "1                      0                        0                        0   \n",
       "2                      0                        0                        0   \n",
       "3                      0                        0                        0   \n",
       "4                      0                        0                        0   \n",
       "\n",
       "   trans_timeOfDay_night  popula_category_medium_sized_city  \\\n",
       "0                      1                                  0   \n",
       "1                      1                                  0   \n",
       "2                      1                                  1   \n",
       "3                      1                                  0   \n",
       "4                      1                                  0   \n",
       "\n",
       "   popula_category_small_town  \n",
       "0                           1  \n",
       "1                           1  \n",
       "2                           0  \n",
       "3                           1  \n",
       "4                           1  "
      ]
     },
     "execution_count": 58,
     "metadata": {},
     "output_type": "execute_result"
    }
   ],
   "source": [
    "encoded_cc_df.head()"
   ]
  },
  {
   "cell_type": "markdown",
   "id": "a700473c",
   "metadata": {},
   "source": [
    "# [회고]\n",
    "\n",
    "### 1. 개인정보관련 삭제\n",
    "- 개인정보를 활용하면 더 많은 분석이 가능할 것임\n",
    "- 예를 들어 거주지와 거래 장소의 거리 계산을 통해 너무 먼 거리일 경우 이상 거래일 가능성이 높을 것임\n",
    "- 개인정보를 활용하지 않고 분석할 수 있는 방법에 대해 생각해 봄\n",
    "- 현업에서는 개인정보를 어느정도 활용하는지 궁금하며, 법적으로 어떤 제한이 있는지 궁금해짐\n",
    "\n",
    "### 2. 거래 발생 주기 컬럼에서 임계값 설정\n",
    "- 임계값을 1시간으로 설정했으나, 타당한 설정인지 판단되지 않음\n",
    "- 데이터 전처리 단계에서 임계값 설정에 대하여 고민해봄\n",
    "\n",
    "### 3. 카드 소유자 직업 범주화\n",
    "- 특정 직업군에서 사기 거래가 더 많이 발생하는지에 대한 분석은 중요함\n",
    "- 카드 소유자 직업의 유니크한 개수가 93개로 범주화할 필요가 있으나 범주화 기준에 대해 적절한 방법을 찾지 못함\n",
    "- 인터넷 서치를 통해 알아내야 하나, 시간 제약으로 하지 못함\n",
    "\n",
    "### 4. 머신러닝 알고리즘에 사용하지 않을 컬럼 삭제\n",
    "- 데이터 셋에는 많은 양의 정보가 담겨 있으나, 충분히 분석하지 못해 아쉬움이 있음"
   ]
  }
 ],
 "metadata": {
  "kernelspec": {
   "display_name": "Python 3 (ipykernel)",
   "language": "python",
   "name": "python3"
  },
  "language_info": {
   "codemirror_mode": {
    "name": "ipython",
    "version": 3
   },
   "file_extension": ".py",
   "mimetype": "text/x-python",
   "name": "python",
   "nbconvert_exporter": "python",
   "pygments_lexer": "ipython3",
   "version": "3.9.7"
  }
 },
 "nbformat": 4,
 "nbformat_minor": 5
}
